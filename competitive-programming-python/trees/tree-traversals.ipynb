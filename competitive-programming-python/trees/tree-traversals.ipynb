{
 "cells": [
  {
   "cell_type": "markdown",
   "id": "1c375a63",
   "metadata": {},
   "source": [
    "# Tree traversals\n",
    "Given a binary tree of integers root, create 3 functions to print the tree nodes in preorder, inorder, and postorder traversal.\\\n",
    "Preorder: print the root value, then print the left subtree, then print the right subtree.\\\n",
    "Inorder: print the left subtree, then print the root value, then print the right subtree.\\\n",
    "Postorder: print the left subtree, then print the right subtree, then print the root value.\\\n",
    "\n",
    "### Example 1:\n",
    "\n",
    "Input: root = [1, 2, 3, 4, 5, 6, 7]\n",
    "\n",
    "Output:\n",
    "Preorder: 1 2 4 5 3 6 7\n",
    "Inorder: 4 2 5 1 6 3 7\n",
    "Postorder: 4 5 2 6 7 3 1\n",
    "\n",
    "### Example 2:\n",
    "\n",
    "Input: root = [6, 8, 13, 2, 1, 5, null, 7]\n",
    "\n",
    "Output:\n",
    "Preorder: 6 8 2 7 1 13 5\n",
    "Inorder: 7 2 8 1 6 5 13\n",
    "Postorder: 7 2 1 8 5 13 6\n",
    "\n"
   ]
  },
  {
   "cell_type": "code",
   "execution_count": null,
   "id": "83ce2c91",
   "metadata": {},
   "outputs": [],
   "source": []
  }
 ],
 "metadata": {
  "kernelspec": {
   "display_name": "Python 3 (ipykernel)",
   "language": "python",
   "name": "python3"
  },
  "language_info": {
   "codemirror_mode": {
    "name": "ipython",
    "version": 3
   },
   "file_extension": ".py",
   "mimetype": "text/x-python",
   "name": "python",
   "nbconvert_exporter": "python",
   "pygments_lexer": "ipython3",
   "version": "3.12.3"
  }
 },
 "nbformat": 4,
 "nbformat_minor": 5
}
