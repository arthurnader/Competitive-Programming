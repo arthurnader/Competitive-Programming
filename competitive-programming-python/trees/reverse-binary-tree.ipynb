{
 "cells": [
  {
   "cell_type": "markdown",
   "id": "8dad04fc",
   "metadata": {},
   "source": [
    "# Reverse binary tree\n",
    "\n",
    "Given a binary tree of integers root, create a function that reverses it left to right in-place.\n",
    "\n",
    "### Example 1:\n",
    "\n",
    "Input: root = [1, 2, 3, 4, 5, 6, 7]\n",
    "\n",
    "Output: [1, 3, 2, 7, 6, 5, 4]\n",
    "\n",
    "Explanation:\n",
    "\n",
    "\n",
    "### Example 2:\n",
    "\n",
    "Input: root = [6, 8, 13, 2, 1, 5, null, 7]\n",
    "\n",
    "Output: [6, 13, 8, null, 5, 1, 2, null, null, null, null, null, 7]\n",
    "\n",
    "Explanation:"
   ]
  },
  {
   "cell_type": "markdown",
   "id": "59ef5864",
   "metadata": {},
   "source": [
    "## Recursive Solution"
   ]
  },
  {
   "cell_type": "code",
   "execution_count": 1,
   "id": "006838ed",
   "metadata": {},
   "outputs": [],
   "source": [
    "class Tree:\n",
    "    def __init__(self, data, left = None, right = None):\n",
    "        self.data = data\n",
    "        self.left = left\n",
    "        self.right = right"
   ]
  },
  {
   "cell_type": "code",
   "execution_count": null,
   "id": "b3074ca1",
   "metadata": {},
   "outputs": [],
   "source": [
    "def reverseTree(root):\n",
    "    \n",
    "    if root == None:\n",
    "        return\n",
    "    \n",
    "    l = root.left\n",
    "    r = root.right\n",
    "    \n",
    "    root.left = r\n",
    "    root.right = l\n",
    "    \n",
    "    reverseTree(root.left)\n",
    "    reverseTree(root.right)"
   ]
  }
 ],
 "metadata": {
  "kernelspec": {
   "display_name": "Python 3 (ipykernel)",
   "language": "python",
   "name": "python3"
  },
  "language_info": {
   "codemirror_mode": {
    "name": "ipython",
    "version": 3
   },
   "file_extension": ".py",
   "mimetype": "text/x-python",
   "name": "python",
   "nbconvert_exporter": "python",
   "pygments_lexer": "ipython3",
   "version": "3.12.3"
  }
 },
 "nbformat": 4,
 "nbformat_minor": 5
}
