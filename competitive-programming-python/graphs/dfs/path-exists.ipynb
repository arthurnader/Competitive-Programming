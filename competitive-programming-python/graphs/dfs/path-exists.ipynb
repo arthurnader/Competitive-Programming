{
 "cells": [
  {
   "cell_type": "markdown",
   "id": "31a6df74",
   "metadata": {},
   "source": [
    "### Path exists in a graph\n",
    "Given an integer n that represents the number of vertices, labeled from 0 to n-1, an array edges of undirected edges, a vertex start and a vertex end, check if there exists a path from start to end.\n",
    "\n",
    "### Examples:\n",
    "\n",
    "\n",
    "input:\n",
    "\n",
    "n = 9, edges = [[0, 1], [0, 2], [2, 4], [3, 5], [5, 6], [5, 7], [6, 8]], start = 0, end = 6\n",
    "\n",
    "output: False\n",
    "\n",
    "explanation: 6 is not reachable from 0\n",
    "\n",
    "\n",
    "input:\n",
    "\n",
    "n = 9, edges = [[0, 1], [0, 2], [2, 4], [3, 5], [5, 6], [5, 7], [6, 8]], start = 3, end = 6\n",
    "\n",
    "output: True\n",
    "\n",
    "explanation: 6 is reachable from 3 (path: 3-5-6)\n",
    "\n",
    "\n",
    "### Constraints:\n",
    "\n",
    "|edges[i]| = 2\\\n",
    "0 ≤ start,end < n\\\n",
    "(u,v) ∈ edges ⇒ 0 ≤ u,v < n ∧ u ≠ v"
   ]
  },
  {
   "cell_type": "markdown",
   "id": "9f9398aa",
   "metadata": {},
   "source": [
    "## DFS"
   ]
  },
  {
   "cell_type": "code",
   "execution_count": 17,
   "id": "f44872d3",
   "metadata": {},
   "outputs": [],
   "source": [
    "class Graph:\n",
    "    \n",
    "    def __init__(self, n, edges):\n",
    "        self.n = n\n",
    "        self.adj_list = dict()\n",
    "        for i in range(n):\n",
    "            self.adj_list[i] = []\n",
    "        \n",
    "        for [v1, v2] in edges:\n",
    "            self.adj_list[v1].append(v2)\n",
    "            self.adj_list[v2].append(v1)\n",
    "        \n",
    "    def _dfs(self, vertex, visited):\n",
    "        \n",
    "        visited[vertex] = True\n",
    "        \n",
    "        for ngbr in self.adj_list[vertex]:\n",
    "            if not visited[ngbr]:\n",
    "                self._dfs(ngbr, visited)\n",
    "        \n",
    "        \n",
    "    def dfs(self, src, dest):\n",
    "        \n",
    "        visited = [False]* self.n\n",
    "        self._dfs(src, visited)\n",
    "        \n",
    "        return visited[dest]"
   ]
  },
  {
   "cell_type": "markdown",
   "id": "a4f67ca9",
   "metadata": {},
   "source": [
    "## Tests"
   ]
  },
  {
   "cell_type": "code",
   "execution_count": 18,
   "id": "8c5025df",
   "metadata": {},
   "outputs": [],
   "source": [
    "n = 9\n",
    "edges = [[0, 1], [0, 2], [2, 4], [3, 5], [5, 6], [5, 7], [6, 8]]"
   ]
  },
  {
   "cell_type": "code",
   "execution_count": 19,
   "id": "78c08d40",
   "metadata": {},
   "outputs": [
    {
     "data": {
      "text/plain": [
       "False"
      ]
     },
     "execution_count": 19,
     "metadata": {},
     "output_type": "execute_result"
    }
   ],
   "source": [
    "g = Graph(n, edges)\n",
    "g.dfs(0, 6)"
   ]
  },
  {
   "cell_type": "code",
   "execution_count": 20,
   "id": "96da6642",
   "metadata": {},
   "outputs": [
    {
     "data": {
      "text/plain": [
       "True"
      ]
     },
     "execution_count": 20,
     "metadata": {},
     "output_type": "execute_result"
    }
   ],
   "source": [
    "g.dfs(3, 6)"
   ]
  },
  {
   "cell_type": "markdown",
   "id": "a520f045",
   "metadata": {},
   "source": [
    "## Original solution"
   ]
  },
  {
   "cell_type": "markdown",
   "id": "395cae31",
   "metadata": {},
   "source": [
    "Time Complexity: O(|E| + |V|)\\\n",
    "Space Complexity: O(|E| + |V|)\\"
   ]
  },
  {
   "cell_type": "code",
   "execution_count": 25,
   "id": "240dd2eb",
   "metadata": {},
   "outputs": [],
   "source": [
    "def dfs(graph, vertex, end, visited):\n",
    "    if vertex == end:\n",
    "        return True\n",
    "    visited.add(vertex)\n",
    "    neighbor: any\n",
    "    for neighbor in graph[vertex]:\n",
    "        if neighbor not in visited:\n",
    "            if dfs(graph, neighbor, end, visited):\n",
    "                return True\n",
    "    return False\n",
    "\n",
    "\n",
    "def path_exists(n, edges, start, end):\n",
    "    graph = [[] for _ in range(n)]\n",
    "    for src, dest in edges:\n",
    "        graph[src].append(dest)\n",
    "        graph[dest].append(src)\n",
    "    visited= set()\n",
    "    return dfs(graph, start, end, visited)"
   ]
  },
  {
   "cell_type": "code",
   "execution_count": 26,
   "id": "8444aa7c",
   "metadata": {},
   "outputs": [
    {
     "name": "stdout",
     "output_type": "stream",
     "text": [
      "Path exists from 0 to 6: False\n",
      "Path exists from 3 to 6: True\n"
     ]
    }
   ],
   "source": [
    "if __name__ == '__main__':\n",
    "    n = 9\n",
    "    edges = [[0, 1], [0, 2], [2, 4], [3, 5], [5, 6], [5, 7], [6, 8]]\n",
    "\n",
    "    start = 0\n",
    "    end = 6\n",
    "    print(f'Path exists from {start} to {end}: {path_exists(n, edges, start, end)}')\n",
    "\n",
    "    start = 3\n",
    "    end = 6\n",
    "    print(f'Path exists from {start} to {end}: {path_exists(n, edges, start, end)}')\n"
   ]
  },
  {
   "cell_type": "code",
   "execution_count": 27,
   "id": "136e6453",
   "metadata": {},
   "outputs": [
    {
     "ename": "TypeError",
     "evalue": "bad operand type for abs(): 'list'",
     "output_type": "error",
     "traceback": [
      "\u001b[0;31m---------------------------------------------------------------------------\u001b[0m",
      "\u001b[0;31mTypeError\u001b[0m                                 Traceback (most recent call last)",
      "Cell \u001b[0;32mIn[27], line 1\u001b[0m\n\u001b[0;32m----> 1\u001b[0m \u001b[38;5;28;43mabs\u001b[39;49m\u001b[43m(\u001b[49m\u001b[43m[\u001b[49m\u001b[38;5;241;43m-\u001b[39;49m\u001b[38;5;241;43m2\u001b[39;49m\u001b[43m,\u001b[49m\u001b[38;5;241;43m4\u001b[39;49m\u001b[43m,\u001b[49m\u001b[38;5;241;43m2\u001b[39;49m\u001b[43m]\u001b[49m\u001b[43m)\u001b[49m\n",
      "\u001b[0;31mTypeError\u001b[0m: bad operand type for abs(): 'list'"
     ]
    }
   ],
   "source": []
  },
  {
   "cell_type": "code",
   "execution_count": null,
   "id": "88d54f4e",
   "metadata": {},
   "outputs": [],
   "source": []
  }
 ],
 "metadata": {
  "kernelspec": {
   "display_name": "Python 3 (ipykernel)",
   "language": "python",
   "name": "python3"
  },
  "language_info": {
   "codemirror_mode": {
    "name": "ipython",
    "version": 3
   },
   "file_extension": ".py",
   "mimetype": "text/x-python",
   "name": "python",
   "nbconvert_exporter": "python",
   "pygments_lexer": "ipython3",
   "version": "3.12.3"
  }
 },
 "nbformat": 4,
 "nbformat_minor": 5
}
