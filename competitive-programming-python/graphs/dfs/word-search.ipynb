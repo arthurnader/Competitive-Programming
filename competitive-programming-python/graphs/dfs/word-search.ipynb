{
 "cells": [
  {
   "cell_type": "markdown",
   "id": "c83c1b51",
   "metadata": {},
   "source": [
    "# Word search\n",
    "\n",
    "Given a board of characters and a string word, create a boolean function that checks if we can find the word in the board. Note that the word must be made with adjacent cells (horizontal and vertical neighbours), and that the same cell can be used only once.\n",
    "\n",
    "### Example 1:\n",
    "\n",
    "Input: board = [\\\n",
    "  ['K','I','N','T'],\\\n",
    "  ['B','I','N','S'],\\\n",
    "  ['G','N','Y','I'],\\\n",
    "  ['U','O','E','D'],\\\n",
    "  ['D','I','B','V'],\\\n",
    "  ['H','I','R','T']]\\\n",
    "word = \"INSIDE\"\n",
    "\n",
    "Output: true\n",
    "\n",
    "### Example 2:\n",
    "\n",
    "Input: board = [\\\n",
    "  ['K','I','N','T'],\\\n",
    "  ['B','I','N','S'],\\\n",
    "  ['G','N','Y','I'],\\\n",
    "  ['U','O','E','D'],\\\n",
    "  ['D','I','B','V'],\\\n",
    "  ['H','I','R','T']]\\\n",
    "word = \"CODE\"\n",
    "\n",
    "Output: false\n",
    "\n",
    "Explanation: the string \"CODE\" doesn't exist on the board"
   ]
  },
  {
   "cell_type": "markdown",
   "id": "32f47639",
   "metadata": {},
   "source": [
    "## DFS"
   ]
  },
  {
   "cell_type": "code",
   "execution_count": 62,
   "id": "e4d7ec93",
   "metadata": {},
   "outputs": [],
   "source": [
    "def dfs(board, position, visited, word, next_index_match):\n",
    "    \n",
    "    if next_index_match == len(word):\n",
    "        return True\n",
    "    \n",
    "    visited.add(position)\n",
    "    \n",
    "    n = len(board)\n",
    "    m = len(board[0])\n",
    "    \n",
    "    x, y = position\n",
    "    ngbrs = [[x-1, y], [x, y-1], [x+1, y], [x, y+1]]\n",
    "    \n",
    "    for x_, y_ in ngbrs:\n",
    "        \n",
    "        if 0 <= x_ < n and 0 <= y_ < m and (x_,y_) not in visited and board[x_][y_] == word[next_index_match]:\n",
    "            if dfs(board, (x_, y_), visited, word, next_index_match+1):\n",
    "                return True\n",
    "        \n",
    "    visited.remove(position)\n",
    "    return False"
   ]
  },
  {
   "cell_type": "code",
   "execution_count": 63,
   "id": "70af1c43",
   "metadata": {},
   "outputs": [],
   "source": [
    "def _dfs(board, word):\n",
    "    \n",
    "    n = len(board)\n",
    "    m = len(board[0])\n",
    "    \n",
    "    visited = set()\n",
    "    \n",
    "    for i in range(n):\n",
    "        for j in range(m):\n",
    "            if board[i][j] == word[0]:\n",
    "                if dfs(board, (i,j), visited, word, 1):\n",
    "                    return True\n",
    "   \n",
    "    return False"
   ]
  },
  {
   "cell_type": "markdown",
   "id": "7317c5cc",
   "metadata": {},
   "source": [
    "## Tests"
   ]
  },
  {
   "cell_type": "code",
   "execution_count": 64,
   "id": "a07259d1",
   "metadata": {},
   "outputs": [],
   "source": [
    "board = [['K','I','N','T'], \n",
    "         ['B','I','N','S'], \n",
    "         ['G','N','Y','I'], \n",
    "         ['U','O','E','D'], \n",
    "         ['D','I','B','V'], \n",
    "         ['H','I','R','T']]\n",
    "\n",
    "word = \"INSIDE\""
   ]
  },
  {
   "cell_type": "code",
   "execution_count": 65,
   "id": "a9f70eed",
   "metadata": {},
   "outputs": [
    {
     "data": {
      "text/plain": [
       "True"
      ]
     },
     "execution_count": 65,
     "metadata": {},
     "output_type": "execute_result"
    }
   ],
   "source": [
    "_dfs(board, word)"
   ]
  },
  {
   "cell_type": "code",
   "execution_count": 66,
   "id": "dc2f17e4",
   "metadata": {},
   "outputs": [],
   "source": [
    "board = [['K','I','N','T'], \n",
    "         ['B','I','N','S'], \n",
    "         ['G','N','Y','I'], \n",
    "         ['U','O','E','D'], \n",
    "         ['D','I','B','V'], \n",
    "         ['H','I','R','T']]\n",
    "\n",
    "word = \"CODE\""
   ]
  },
  {
   "cell_type": "code",
   "execution_count": 67,
   "id": "85572586",
   "metadata": {},
   "outputs": [
    {
     "data": {
      "text/plain": [
       "False"
      ]
     },
     "execution_count": 67,
     "metadata": {},
     "output_type": "execute_result"
    }
   ],
   "source": [
    "_dfs(board, word)"
   ]
  },
  {
   "cell_type": "code",
   "execution_count": 68,
   "id": "8087a7ef",
   "metadata": {},
   "outputs": [],
   "source": [
    "board_20x15 = [\n",
    "    ['X', 'O', 'H', 'P', 'T', 'S', 'Q', 'V', 'B', 'D', 'M', 'G', 'F', 'U', 'T'],\n",
    "    ['J', 'R', 'Y', 'N', 'O', 'W', 'Q', 'A', 'F', 'J', 'E', 'T', 'M', 'P', 'I'],\n",
    "    ['L', 'V', 'D', 'B', 'I', 'Z', 'U', 'C', 'T', 'Y', 'G', 'H', 'Q', 'E', 'X'],\n",
    "    ['U', 'E', 'Z', 'K', 'M', 'L', 'X', 'I', 'P', 'R', 'T', 'V', 'F', 'Y', 'S'],\n",
    "    ['B', 'P', 'N', 'W', 'H', 'J', 'Q', 'M', 'C', 'Z', 'A', 'I', 'T', 'O', 'G'],\n",
    "    ['F', 'S', 'A', 'L', 'V', 'U', 'K', 'E', 'D', 'B', 'O', 'N', 'Q', 'R', 'C'],\n",
    "    ['W', 'T', 'Q', 'R', 'N', 'P', 'G', 'M', 'J', 'Z', 'Y', 'B', 'L', 'H', 'A'],\n",
    "    ['K', 'U', 'J', 'I', 'O', 'F', 'L', 'T', 'S', 'V', 'X', 'Q', 'P', 'C', 'R'],\n",
    "    ['M', 'Y', 'H', 'C', 'Z', 'Q', 'B', 'O', 'W', 'N', 'D', 'I', 'J', 'E', 'V'],\n",
    "    ['N', 'X', 'R', 'M', 'Y', 'K', 'A', 'E', 'U', 'S', 'Q', 'T', 'G', 'Z', 'O'],\n",
    "    ['G', 'B', 'P', 'Q', 'J', 'V', 'W', 'T', 'C', 'L', 'M', 'R', 'Y', 'S', 'N'],\n",
    "    ['E', 'W', 'Z', 'S', 'K', 'O', 'F', 'Y', 'U', 'D', 'P', 'I', 'X', 'Q', 'J'],\n",
    "    ['O', 'M', 'L', 'N', 'G', 'V', 'I', 'Z', 'C', 'H', 'E', 'W', 'T', 'S', 'P'],\n",
    "    ['Q', 'C', 'Y', 'O', 'U', 'X', 'J', 'B', 'N', 'O', 'K', 'L', 'F', 'M', 'W'],\n",
    "    ['Z', 'H', 'T', 'H', 'I', 'S', 'Q', 'M', 'P', 'C', 'R', 'V', 'Y', 'A', 'E'],\n",
    "    ['I', 'P', 'Y', 'A', 'K', 'N', 'Z', 'U', 'L', 'G', 'O', 'Q', 'X', 'F', 'D'],\n",
    "    ['R', 'K', 'B', 'M', 'Y', 'C', 'S', 'T', 'O', 'N', 'I', 'W', 'E', 'L', 'U'],\n",
    "    ['A', 'G', 'W', 'E', 'F', 'D', 'J', 'P', 'R', 'V', 'L', 'Z', 'Y', 'C', 'Q'],\n",
    "    ['D', 'O', 'V', 'Y', 'T', 'G', 'I', 'L', 'Q', 'A', 'M', 'K', 'B', 'X', 'W'],\n",
    "    ['T', 'N', 'C', 'U', 'X', 'W', 'E', 'R', 'S', 'Y', 'P', 'O', 'V', 'M', 'F']\n",
    "]\n",
    "\n",
    "word = \"PYTHON\""
   ]
  },
  {
   "cell_type": "code",
   "execution_count": 69,
   "id": "854da054",
   "metadata": {},
   "outputs": [
    {
     "data": {
      "text/plain": [
       "True"
      ]
     },
     "execution_count": 69,
     "metadata": {},
     "output_type": "execute_result"
    }
   ],
   "source": [
    "_dfs(board_20x15, word)"
   ]
  },
  {
   "cell_type": "code",
   "execution_count": 70,
   "id": "e1b69e4e",
   "metadata": {},
   "outputs": [],
   "source": [
    "word = \"JAVA\""
   ]
  },
  {
   "cell_type": "code",
   "execution_count": 71,
   "id": "7e40765e",
   "metadata": {},
   "outputs": [
    {
     "data": {
      "text/plain": [
       "False"
      ]
     },
     "execution_count": 71,
     "metadata": {},
     "output_type": "execute_result"
    }
   ],
   "source": [
    "_dfs(board_20x15, word)"
   ]
  },
  {
   "cell_type": "code",
   "execution_count": null,
   "id": "ff590b90",
   "metadata": {},
   "outputs": [],
   "source": []
  }
 ],
 "metadata": {
  "kernelspec": {
   "display_name": "Python 3 (ipykernel)",
   "language": "python",
   "name": "python3"
  },
  "language_info": {
   "codemirror_mode": {
    "name": "ipython",
    "version": 3
   },
   "file_extension": ".py",
   "mimetype": "text/x-python",
   "name": "python",
   "nbconvert_exporter": "python",
   "pygments_lexer": "ipython3",
   "version": "3.12.3"
  }
 },
 "nbformat": 4,
 "nbformat_minor": 5
}
