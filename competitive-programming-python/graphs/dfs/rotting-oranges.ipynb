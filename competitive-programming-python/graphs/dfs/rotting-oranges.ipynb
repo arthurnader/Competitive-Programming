{
 "cells": [
  {
   "cell_type": "markdown",
   "id": "37cc8360",
   "metadata": {},
   "source": [
    "# Rotting Oranges\n",
    "\n",
    "You are given an m x n grid where each cell can have one of three values:\n",
    "\n",
    "0 representing an empty cell,\n",
    "1 representing a fresh orange, or\n",
    "2 representing a rotten orange.\n",
    "Every minute, any fresh orange that is 4-directionally adjacent to a rotten orange becomes rotten.\n",
    "\n",
    "Return the minimum number of minutes that must elapse until no cell has a fresh orange. If this is impossible, return -1.\n",
    "\n",
    "\n",
    "### Example 1:\n",
    "\n",
    "\n",
    "Input: grid = [[2,1,1],[1,1,0],[0,1,1]]\\\n",
    "Output: 4\n",
    "\n",
    "### Example 2:\n",
    "\n",
    "Input: grid = [[2,1,1],[0,1,1],[1,0,1]]\\\n",
    "Output: -1\n",
    "\n",
    "Explanation: The orange in the bottom left corner (row 2, column 0) is never rotten, because rotting only happens 4-directionally.\n",
    "\n",
    "### Example 3:\n",
    "\n",
    "Input: grid = [[0,2]]\\\n",
    "Output: 0\n",
    "\n",
    "Explanation: Since there are already no fresh oranges at minute 0, the answer is just 0.\n",
    " \n",
    "### Constraints:\n",
    "\n",
    "m == grid.length\\\n",
    "n == grid[i].length\\\n",
    "1 <= m, n <= 10\\\n",
    "grid[i][j] is 0, 1, or 2."
   ]
  },
  {
   "cell_type": "markdown",
   "id": "8fb898b9",
   "metadata": {},
   "source": [
    "## BFS"
   ]
  },
  {
   "cell_type": "code",
   "execution_count": 2,
   "id": "93464388",
   "metadata": {},
   "outputs": [],
   "source": [
    "from queue import Queue"
   ]
  },
  {
   "cell_type": "code",
   "execution_count": 38,
   "id": "145da5ff",
   "metadata": {},
   "outputs": [],
   "source": [
    "def bfs(grid):\n",
    "    \n",
    "    time = 0\n",
    "    q = Queue()\n",
    "    \n",
    "    n = len(grid)\n",
    "    m = len(grid[0])\n",
    "    time = 0\n",
    "    \n",
    "    for i in range(n):\n",
    "        for j in range(m):\n",
    "            if grid[i][j] == 2:\n",
    "                q.put((i,j,time))\n",
    "                \n",
    "    while not q.empty():\n",
    "        \n",
    "        x, y, t = q.get()\n",
    "        \n",
    "        if t > time:\n",
    "            time = t\n",
    "        \n",
    "        ngbrs = [[x-1, y], [x, y-1], [x+1, y], [x, y+1]]\n",
    "        \n",
    "        for x_, y_ in ngbrs:\n",
    "            if 0 <= x_ < n and 0 <= y_ < m and grid[x_][y_] == 1:\n",
    "                grid[x_][y_] = 2\n",
    "                q.put((x_,y_,t+1))\n",
    "    \n",
    "    for line in grid:\n",
    "        if 1 in line:\n",
    "            return -1    \n",
    "    \n",
    "    return time\n",
    "    "
   ]
  },
  {
   "cell_type": "markdown",
   "id": "2783fc64",
   "metadata": {},
   "source": [
    "## Tests"
   ]
  },
  {
   "cell_type": "code",
   "execution_count": 39,
   "id": "d2e47c13",
   "metadata": {},
   "outputs": [],
   "source": [
    "grid = [[2,1,1],[1,1,0],[0,1,1]]"
   ]
  },
  {
   "cell_type": "code",
   "execution_count": 40,
   "id": "b68bc616",
   "metadata": {},
   "outputs": [
    {
     "data": {
      "text/plain": [
       "4"
      ]
     },
     "execution_count": 40,
     "metadata": {},
     "output_type": "execute_result"
    }
   ],
   "source": [
    "bfs(grid)"
   ]
  },
  {
   "cell_type": "code",
   "execution_count": 41,
   "id": "a5d5429b",
   "metadata": {},
   "outputs": [],
   "source": [
    "grid = [[2,1,1],[0,1,1],[1,0,1]]"
   ]
  },
  {
   "cell_type": "code",
   "execution_count": 42,
   "id": "88e551b2",
   "metadata": {},
   "outputs": [
    {
     "data": {
      "text/plain": [
       "-1"
      ]
     },
     "execution_count": 42,
     "metadata": {},
     "output_type": "execute_result"
    }
   ],
   "source": [
    "bfs(grid)"
   ]
  },
  {
   "cell_type": "code",
   "execution_count": 43,
   "id": "54a9e5f2",
   "metadata": {},
   "outputs": [],
   "source": [
    "grid = [[0,2]]"
   ]
  },
  {
   "cell_type": "code",
   "execution_count": 44,
   "id": "4933b9d3",
   "metadata": {},
   "outputs": [
    {
     "data": {
      "text/plain": [
       "0"
      ]
     },
     "execution_count": 44,
     "metadata": {},
     "output_type": "execute_result"
    }
   ],
   "source": [
    "bfs(grid)"
   ]
  },
  {
   "cell_type": "code",
   "execution_count": 45,
   "id": "2c24b832",
   "metadata": {},
   "outputs": [],
   "source": [
    "grid = [[1,2]]"
   ]
  },
  {
   "cell_type": "code",
   "execution_count": 46,
   "id": "fc25af18",
   "metadata": {},
   "outputs": [
    {
     "data": {
      "text/plain": [
       "1"
      ]
     },
     "execution_count": 46,
     "metadata": {},
     "output_type": "execute_result"
    }
   ],
   "source": [
    "bfs(grid)"
   ]
  },
  {
   "cell_type": "markdown",
   "id": "751c1e21",
   "metadata": {},
   "source": [
    "## An improvement"
   ]
  },
  {
   "cell_type": "code",
   "execution_count": 47,
   "id": "8cff5f04",
   "metadata": {},
   "outputs": [],
   "source": [
    "def orangesRotting(grid):\n",
    "\n",
    "        time = 0\n",
    "        q = Queue()\n",
    "        \n",
    "        n = len(grid)\n",
    "        m = len(grid[0])\n",
    "        time = 0\n",
    "        total_fresh = 0\n",
    "        \n",
    "        for i in range(n):\n",
    "            for j in range(m):\n",
    "                if grid[i][j] == 2:\n",
    "                    q.put((i,j,time))\n",
    "                if grid[i][j] == 1:\n",
    "                    total_fresh += 1\n",
    "                    \n",
    "        while not q.empty():\n",
    "            \n",
    "            x, y, t = q.get()\n",
    "            \n",
    "            if t > time:\n",
    "                time = t\n",
    "            \n",
    "            ngbrs = [[x-1, y], [x, y-1], [x+1, y], [x, y+1]]\n",
    "            \n",
    "            for x_, y_ in ngbrs:\n",
    "                if 0 <= x_ < n and 0 <= y_ < m and grid[x_][y_] == 1:\n",
    "                    grid[x_][y_] = 2\n",
    "                    q.put((x_,y_,t+1))\n",
    "                    total_fresh -=1\n",
    "        \n",
    "        if total_fresh > 0:\n",
    "            return -1    \n",
    "        \n",
    "        return time"
   ]
  },
  {
   "cell_type": "code",
   "execution_count": 48,
   "id": "bd8fca75",
   "metadata": {},
   "outputs": [],
   "source": [
    "grid = [[2,1,1],[0,1,1],[1,0,1]]"
   ]
  },
  {
   "cell_type": "code",
   "execution_count": 49,
   "id": "27061997",
   "metadata": {},
   "outputs": [
    {
     "data": {
      "text/plain": [
       "-1"
      ]
     },
     "execution_count": 49,
     "metadata": {},
     "output_type": "execute_result"
    }
   ],
   "source": [
    "orangesRotting(grid)"
   ]
  },
  {
   "cell_type": "code",
   "execution_count": 50,
   "id": "8642f576",
   "metadata": {},
   "outputs": [],
   "source": [
    "grid = [[2,1,1],[1,1,0],[0,1,1]]"
   ]
  },
  {
   "cell_type": "code",
   "execution_count": 51,
   "id": "e5cab31b",
   "metadata": {},
   "outputs": [
    {
     "data": {
      "text/plain": [
       "4"
      ]
     },
     "execution_count": 51,
     "metadata": {},
     "output_type": "execute_result"
    }
   ],
   "source": [
    "orangesRotting(grid)"
   ]
  },
  {
   "cell_type": "markdown",
   "id": "183dbd85",
   "metadata": {},
   "source": [
    "## The original solution"
   ]
  },
  {
   "cell_type": "code",
   "execution_count": 1,
   "id": "7208a0fe",
   "metadata": {},
   "outputs": [
    {
     "name": "stdout",
     "output_type": "stream",
     "text": [
      "Minimum number of minutes: 4\n"
     ]
    }
   ],
   "source": [
    "from __future__ import annotations\n",
    "from queue import Queue\n",
    "\n",
    "\n",
    "def oranges_rotting(grid: list[list[int]]) -> int:\n",
    "    n: int; m: int\n",
    "    n, m = len(grid), len(grid[0])\n",
    "    queue: Queue[tuple[int,int,int]] = Queue()\n",
    "    nb_oranges: int = 0\n",
    "    nb_rotten: int = 0\n",
    "    max_time: int = 0\n",
    "    i: int; j: int\n",
    "    for i in range(n):\n",
    "        for j in range(m):\n",
    "            if grid[i][j] != 0:\n",
    "                nb_oranges += 1\n",
    "            if grid[i][j] == 2:\n",
    "                queue.put((i, j, 0))\n",
    "    if nb_oranges == 0:\n",
    "        return 0\n",
    "    while not queue.empty():\n",
    "        i: int; j: int; time: int\n",
    "        i, j, time = queue.get()\n",
    "        max_time = max(max_time, time)\n",
    "        nb_rotten += 1\n",
    "        if nb_rotten == nb_oranges:\n",
    "            return max_time\n",
    "        nei_i: int; nei_j: int\n",
    "        for nei_i, nei_j in [(i+1, j), (i-1, j), (i, j+1), (i, j-1)]:\n",
    "            if 0 <= nei_i < n and 0 <= nei_j < m and grid[nei_i][nei_j] == 1:\n",
    "                grid[nei_i][nei_j] = 2\n",
    "                queue.put((nei_i, nei_j, time + 1))\n",
    "    return -1\n",
    "\n",
    "\n",
    "if __name__ == '__main__':\n",
    "    grid: list[list[int]] = [\n",
    "        [1, 2, 1, 0, 0, 1],\n",
    "        [1, 1, 0, 0, 1, 1],\n",
    "        [0, 1, 0, 0, 2, 1],\n",
    "        [1, 1, 1, 0, 1, 0]\n",
    "    ]\n",
    "\n",
    "    print(f'Minimum number of minutes: {oranges_rotting(grid)}')\n",
    "\n",
    "    # Minimum number of minutes: 4"
   ]
  },
  {
   "cell_type": "code",
   "execution_count": null,
   "id": "c01e7c92",
   "metadata": {},
   "outputs": [],
   "source": []
  }
 ],
 "metadata": {
  "kernelspec": {
   "display_name": "Python 3 (ipykernel)",
   "language": "python",
   "name": "python3"
  },
  "language_info": {
   "codemirror_mode": {
    "name": "ipython",
    "version": 3
   },
   "file_extension": ".py",
   "mimetype": "text/x-python",
   "name": "python",
   "nbconvert_exporter": "python",
   "pygments_lexer": "ipython3",
   "version": "3.12.3"
  }
 },
 "nbformat": 4,
 "nbformat_minor": 5
}
