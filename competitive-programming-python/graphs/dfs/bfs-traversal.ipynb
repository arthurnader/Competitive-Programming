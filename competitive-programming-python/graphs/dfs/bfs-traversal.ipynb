{
 "cells": [
  {
   "cell_type": "markdown",
   "id": "8d5e9699",
   "metadata": {},
   "source": [
    "# BFS traversal\n",
    "\n",
    "Given an undirected graph of integers graph, represented by an adjacency list, and an integer root, create a function that prints its values in breadth first search, by considering the vertex whose value is root as the arbitrary node.\n",
    "\n",
    "### Example 1:\n",
    "\n",
    "Input: graph = {\"5\" : [8, 1, 12], \"8\" : [5, 12, 14, 4], \"12\" : [5, 8, 14], \"14\" : [8, 12, 4], \"4\" : [8, 14], \"1\" : [5, 7], \"7\" : [1, 16], \"16\" : [7]}, root = 5\n",
    "\n",
    "Output: 5 8 1 12 14 4 7 16"
   ]
  },
  {
   "cell_type": "markdown",
   "id": "5b7960fd",
   "metadata": {},
   "source": [
    "## Implementation"
   ]
  },
  {
   "cell_type": "code",
   "execution_count": 1,
   "id": "5914b175",
   "metadata": {},
   "outputs": [],
   "source": [
    "from queue import Queue"
   ]
  },
  {
   "cell_type": "code",
   "execution_count": 20,
   "id": "31e3ec79",
   "metadata": {},
   "outputs": [],
   "source": [
    "def bfs(graph, root):\n",
    "    \n",
    "    q = Queue()\n",
    "    q.put(root)\n",
    "    visited = {root}\n",
    "    \n",
    "    while not q.empty():\n",
    "        \n",
    "        current = q.get()\n",
    "        print(current)\n",
    "        \n",
    "        for ngbr in graph[current]:\n",
    "            if ngbr not in visited:\n",
    "                q.put(ngbr)\n",
    "                visited.add(ngbr)"
   ]
  },
  {
   "cell_type": "code",
   "execution_count": 21,
   "id": "87992548",
   "metadata": {},
   "outputs": [],
   "source": [
    "graph = {5 : [8, 1, 12], 8 : [5, 12, 14, 4], 12 : [5, 8, 14], 14 : [8, 12, 4], 4 : [8, 14], 1 : [5, 7], 7 : [1, 16], 16 : [7]}\n",
    "root = 5"
   ]
  },
  {
   "cell_type": "code",
   "execution_count": 22,
   "id": "4b6a6cac",
   "metadata": {},
   "outputs": [
    {
     "name": "stdout",
     "output_type": "stream",
     "text": [
      "5\n",
      "8\n",
      "1\n",
      "12\n",
      "14\n",
      "4\n",
      "7\n",
      "16\n"
     ]
    }
   ],
   "source": [
    "bfs(graph, root)"
   ]
  },
  {
   "cell_type": "markdown",
   "id": "7239e606",
   "metadata": {},
   "source": [
    "## The original solution\n",
    "\n",
    "Time complexity: O(|V|+|E|)\\\n",
    "Space complexity: O(|V|)"
   ]
  },
  {
   "cell_type": "code",
   "execution_count": 23,
   "id": "a0a682b2",
   "metadata": {},
   "outputs": [],
   "source": [
    "class Graph:\n",
    "    def __init__(self, adjList = {}):\n",
    "        self.adjList = adjList"
   ]
  },
  {
   "cell_type": "code",
   "execution_count": 25,
   "id": "307a1c74",
   "metadata": {},
   "outputs": [],
   "source": [
    "def bfs(graph, root):\n",
    "    queue = [root]\n",
    "    visited = {root}\n",
    "    i = 0\n",
    "    while i < len(queue):\n",
    "        vertex = queue[i]\n",
    "        i += 1\n",
    "        print(vertex)\n",
    "        for neighbor in graph.adjList[vertex]:\n",
    "            if neighbor not in visited:\n",
    "                queue.append(neighbor)\n",
    "                visited.add(neighbor)"
   ]
  },
  {
   "cell_type": "code",
   "execution_count": 27,
   "id": "aaf3c40f",
   "metadata": {},
   "outputs": [
    {
     "name": "stdout",
     "output_type": "stream",
     "text": [
      "5\n",
      "8\n",
      "1\n",
      "12\n",
      "14\n",
      "4\n",
      "7\n",
      "16\n"
     ]
    }
   ],
   "source": [
    "g = Graph(graph)\n",
    "bfs(g, root)"
   ]
  },
  {
   "cell_type": "code",
   "execution_count": null,
   "id": "d7d32ae5",
   "metadata": {},
   "outputs": [],
   "source": []
  }
 ],
 "metadata": {
  "kernelspec": {
   "display_name": "Python 3 (ipykernel)",
   "language": "python",
   "name": "python3"
  },
  "language_info": {
   "codemirror_mode": {
    "name": "ipython",
    "version": 3
   },
   "file_extension": ".py",
   "mimetype": "text/x-python",
   "name": "python",
   "nbconvert_exporter": "python",
   "pygments_lexer": "ipython3",
   "version": "3.12.3"
  }
 },
 "nbformat": 4,
 "nbformat_minor": 5
}
