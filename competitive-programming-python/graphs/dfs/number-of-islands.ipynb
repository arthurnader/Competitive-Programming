{
 "cells": [
  {
   "cell_type": "markdown",
   "id": "4eb7be64",
   "metadata": {},
   "source": [
    "## Number of Islands\n",
    "Given an m x n 2D binary grid grid which represents a map of '1's (land) and '0's (water), return the number of islands.\n",
    "\n",
    "An island is surrounded by water and is formed by connecting adjacent lands horizontally or vertically. You may assume all four edges of the grid are all surrounded by water.\n",
    "\n",
    "### Example 1:\n",
    "\n",
    "Input: grid = [\\\n",
    "  [\"1\",\"1\",\"1\",\"1\",\"0\"],\\\n",
    "  [\"1\",\"1\",\"0\",\"1\",\"0\"],\\\n",
    "  [\"1\",\"1\",\"0\",\"0\",\"0\"],\\\n",
    "  [\"0\",\"0\",\"0\",\"0\",\"0\"]\\\n",
    "]\\\n",
    "Output: 1\n",
    "\n",
    "### Example 2:\n",
    "\n",
    "Input: grid = [\\\n",
    "  [\"1\",\"1\",\"0\",\"0\",\"0\"],\\\n",
    "  [\"1\",\"1\",\"0\",\"0\",\"0\"],\\\n",
    "  [\"0\",\"0\",\"1\",\"0\",\"0\"],\\\n",
    "  [\"0\",\"0\",\"0\",\"1\",\"1\"]\\\n",
    "]\\\n",
    "Output: 3\n",
    " \n",
    "\n",
    "### Constraints:\n",
    "\n",
    "m == grid.length\\\n",
    "n == grid[i].length\\\n",
    "1 <= m, n <= 300\\\n",
    "grid[i][j] is '0' or '1'."
   ]
  },
  {
   "cell_type": "markdown",
   "id": "750f6833",
   "metadata": {},
   "source": [
    "## DFS"
   ]
  },
  {
   "cell_type": "code",
   "execution_count": 73,
   "id": "97bd1efe",
   "metadata": {},
   "outputs": [],
   "source": [
    "def _dfs(grid, i, j, n, m):\n",
    "    \n",
    "    grid[i][j] = \"2\"\n",
    "    \n",
    "    ngbrs = [[i-1,j], [i, j-1], [i+1, j], [i, j+1]]\n",
    "    \n",
    "    for (row, column) in ngbrs:\n",
    "        if 0 <= row < n and 0 <= column < m and grid[row][column] == \"1\":\n",
    "            _dfs(grid, row, column, n, m)"
   ]
  },
  {
   "cell_type": "code",
   "execution_count": 74,
   "id": "2e5ff00e",
   "metadata": {},
   "outputs": [],
   "source": [
    "def fill_dfs(grid, sr, sc):\n",
    "\n",
    "    start_color = grid[sr][sc]\n",
    "    \n",
    "    n = len(grid)\n",
    "    m = len(grid[0])\n",
    "    \n",
    "    _dfs(grid, sr, sc, n, m)"
   ]
  },
  {
   "cell_type": "code",
   "execution_count": 75,
   "id": "5ab7f87b",
   "metadata": {},
   "outputs": [],
   "source": [
    "def number_of_islands(grid):\n",
    "    \n",
    "    n = len(grid)\n",
    "    m = len(grid[0])\n",
    "    \n",
    "    islands = 0\n",
    "    \n",
    "    for i in range(n):\n",
    "        for j in range(m):\n",
    "            if grid[i][j] == \"1\":\n",
    "                islands += 1\n",
    "                fill_dfs(grid, i, j)\n",
    "                \n",
    "    return islands\n",
    "    "
   ]
  },
  {
   "cell_type": "code",
   "execution_count": 76,
   "id": "87c3f619",
   "metadata": {},
   "outputs": [],
   "source": [
    "grid = [\n",
    "  [\"1\",\"1\",\"1\",\"1\",\"0\"],\n",
    "  [\"1\",\"1\",\"0\",\"1\",\"0\"],\n",
    "  [\"1\",\"1\",\"0\",\"0\",\"0\"],\n",
    "  [\"0\",\"0\",\"0\",\"0\",\"0\"]]"
   ]
  },
  {
   "cell_type": "code",
   "execution_count": 77,
   "id": "34c7c593",
   "metadata": {},
   "outputs": [
    {
     "data": {
      "text/plain": [
       "1"
      ]
     },
     "execution_count": 77,
     "metadata": {},
     "output_type": "execute_result"
    }
   ],
   "source": [
    "number_of_islands(grid)"
   ]
  },
  {
   "cell_type": "code",
   "execution_count": 78,
   "id": "ecaee26c",
   "metadata": {},
   "outputs": [],
   "source": [
    "grid = [\n",
    "  [\"1\",\"1\",\"0\",\"0\",\"0\"],\n",
    "  [\"1\",\"1\",\"0\",\"0\",\"0\"],\n",
    "  [\"0\",\"0\",\"1\",\"0\",\"0\"],\n",
    "  [\"0\",\"0\",\"0\",\"1\",\"1\"]\n",
    "]"
   ]
  },
  {
   "cell_type": "code",
   "execution_count": 79,
   "id": "4cad82d8",
   "metadata": {},
   "outputs": [
    {
     "data": {
      "text/plain": [
       "3"
      ]
     },
     "execution_count": 79,
     "metadata": {},
     "output_type": "execute_result"
    }
   ],
   "source": [
    "number_of_islands(grid)"
   ]
  },
  {
   "cell_type": "markdown",
   "id": "2c1d6935",
   "metadata": {},
   "source": [
    "## BFS"
   ]
  },
  {
   "cell_type": "code",
   "execution_count": 80,
   "id": "907b6a39",
   "metadata": {},
   "outputs": [],
   "source": [
    "from queue import Queue"
   ]
  },
  {
   "cell_type": "code",
   "execution_count": 87,
   "id": "a4af1c66",
   "metadata": {},
   "outputs": [],
   "source": [
    "def fill_bfs(grid, sr, sc, color=\"2\"):\n",
    "\n",
    "    n = len(grid)\n",
    "    m = len(grid[0])\n",
    "    \n",
    "    q = Queue()\n",
    "    q.put((sr,sc))\n",
    "    grid[sr][sc] = color\n",
    "    \n",
    "    while not q.empty():\n",
    "        \n",
    "        i, j = q.get()\n",
    "        \n",
    "        ngbrs = [[i-1,j], [i, j-1], [i+1, j], [i, j+1]]\n",
    "    \n",
    "        for (row, column) in ngbrs:\n",
    "            if 0 <= row < n and 0 <= column < m and grid[row][column] == \"1\":\n",
    "                grid[row][column] = color\n",
    "                q.put((row, column))"
   ]
  },
  {
   "cell_type": "code",
   "execution_count": 88,
   "id": "2167db38",
   "metadata": {},
   "outputs": [],
   "source": [
    "def number_of_islands(grid):\n",
    "    \n",
    "    n = len(grid)\n",
    "    m = len(grid[0])\n",
    "    \n",
    "    islands = 0\n",
    "    \n",
    "    for i in range(n):\n",
    "        for j in range(m):\n",
    "            if grid[i][j] == \"1\":\n",
    "                islands += 1\n",
    "                fill_bfs(grid, i, j)\n",
    "                \n",
    "    return islands\n",
    "    "
   ]
  },
  {
   "cell_type": "code",
   "execution_count": 89,
   "id": "c6bb9d41",
   "metadata": {},
   "outputs": [],
   "source": [
    "grid = [\n",
    "  [\"1\",\"1\",\"1\",\"1\",\"0\"],\n",
    "  [\"1\",\"1\",\"0\",\"1\",\"0\"],\n",
    "  [\"1\",\"1\",\"0\",\"0\",\"0\"],\n",
    "  [\"0\",\"0\",\"0\",\"0\",\"0\"]]"
   ]
  },
  {
   "cell_type": "code",
   "execution_count": 90,
   "id": "7fe7b5d5",
   "metadata": {},
   "outputs": [
    {
     "data": {
      "text/plain": [
       "1"
      ]
     },
     "execution_count": 90,
     "metadata": {},
     "output_type": "execute_result"
    }
   ],
   "source": [
    "number_of_islands(grid)"
   ]
  },
  {
   "cell_type": "code",
   "execution_count": 91,
   "id": "9438e090",
   "metadata": {},
   "outputs": [],
   "source": [
    "grid = [\n",
    "  [\"1\",\"1\",\"0\",\"0\",\"0\"],\n",
    "  [\"1\",\"1\",\"0\",\"0\",\"0\"],\n",
    "  [\"0\",\"0\",\"1\",\"0\",\"0\"],\n",
    "  [\"0\",\"0\",\"0\",\"1\",\"1\"]\n",
    "]"
   ]
  },
  {
   "cell_type": "code",
   "execution_count": 92,
   "id": "c5a2b69c",
   "metadata": {},
   "outputs": [
    {
     "data": {
      "text/plain": [
       "3"
      ]
     },
     "execution_count": 92,
     "metadata": {},
     "output_type": "execute_result"
    }
   ],
   "source": [
    "number_of_islands(grid)"
   ]
  },
  {
   "cell_type": "code",
   "execution_count": null,
   "id": "b1118ef9",
   "metadata": {},
   "outputs": [],
   "source": []
  }
 ],
 "metadata": {
  "kernelspec": {
   "display_name": "Python 3 (ipykernel)",
   "language": "python",
   "name": "python3"
  },
  "language_info": {
   "codemirror_mode": {
    "name": "ipython",
    "version": 3
   },
   "file_extension": ".py",
   "mimetype": "text/x-python",
   "name": "python",
   "nbconvert_exporter": "python",
   "pygments_lexer": "ipython3",
   "version": "3.12.3"
  }
 },
 "nbformat": 4,
 "nbformat_minor": 5
}
