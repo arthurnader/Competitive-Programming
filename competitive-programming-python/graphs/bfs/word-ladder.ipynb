{
 "cells": [
  {
   "cell_type": "markdown",
   "id": "88ab095c",
   "metadata": {},
   "source": [
    "# Word Ladder\n",
    "\n",
    "Given two words beginWord and endWord, and a list of words wordList, create a function that returns the length of the shortest transformation sequence from beginWord to endWord.\n",
    "Note that:\n",
    "\n",
    "-Only one letter can be changed at a time.\\\n",
    "-Each intermediate word in the sequence must be in the wordList.\\\n",
    "-The function returns 0 if there is no possible transformation sequence.\\\n",
    "-All words have the same length.\\\n",
    "-All words contain lowercase alphabetic characters.\\\n",
    "-There are no duplicates in the wordList.\\\n",
    "-beginWord and endWord are non-empty, and they are different.\n",
    "\n",
    "### Example 1:\n",
    "\n",
    "Input: beginWord = \"hit\", endWord = \"cog\", wordList = [\"hot\", \"dot\", \"dog\", \"lot\", \"log\", \"cog\"]\n",
    "\n",
    "Output: 5\n",
    "\n",
    "Explanation: one short possible transformation sequence is: \"hit\" -> \"hot\" -> \"dot\" -> \"dog\" -> \"cog\"\n",
    "\n",
    "### Example 2:\n",
    "\n",
    "Input: beginWord = \"hit\", endWord = \"cog\", wordList = [\"dot\", \"dog\", \"lot\", \"log\", \"cog\"]\n",
    "\n",
    "Output: 0\n",
    "\n",
    "Explanation: there is no way to go from \"hit\" to \"cog\""
   ]
  },
  {
   "cell_type": "markdown",
   "id": "015c4b56",
   "metadata": {},
   "source": [
    "## Constructing the graph"
   ]
  },
  {
   "cell_type": "code",
   "execution_count": 117,
   "id": "16dd1b56",
   "metadata": {},
   "outputs": [],
   "source": [
    "wordList = [\"hot\", \"dot\", \"dog\", \"lot\", \"log\", \"cog\"]\n",
    "beginWord = \"hit\"\n",
    "endWord = \"cog\""
   ]
  },
  {
   "cell_type": "code",
   "execution_count": 118,
   "id": "83450d92",
   "metadata": {},
   "outputs": [],
   "source": [
    "def construct_graph(wordList):\n",
    "    \n",
    "    graph = dict()\n",
    "    \n",
    "    for i in range(len(wordList)):\n",
    "        for j in range(i+1, len(wordList)):\n",
    "            \n",
    "            w1 = wordList[i]\n",
    "            w2 = wordList[j]\n",
    "            \n",
    "            if w1 not in graph:\n",
    "                graph[w1] = []\n",
    "            if w2 not in graph:\n",
    "                graph[w2] = []\n",
    "            \n",
    "            dif = 0\n",
    "            for k in range(len(w1)):\n",
    "                if w1[k] != w2[k]:\n",
    "                    dif+=1            \n",
    "            if dif == 1:\n",
    "                    \n",
    "                graph[w1].append(w2)\n",
    "                graph[w2].append(w1)\n",
    "                \n",
    "    return graph\n",
    "                "
   ]
  },
  {
   "cell_type": "code",
   "execution_count": 119,
   "id": "556266e0",
   "metadata": {},
   "outputs": [],
   "source": [
    "words = [beginWord] + wordList"
   ]
  },
  {
   "cell_type": "code",
   "execution_count": 120,
   "id": "8dfcc1fe",
   "metadata": {},
   "outputs": [
    {
     "data": {
      "text/plain": [
       "{'hit': ['hot'],\n",
       " 'hot': ['hit', 'dot', 'lot'],\n",
       " 'dot': ['hot', 'dog', 'lot'],\n",
       " 'dog': ['dot', 'log', 'cog'],\n",
       " 'lot': ['hot', 'dot', 'log'],\n",
       " 'log': ['dog', 'lot', 'cog'],\n",
       " 'cog': ['dog', 'log']}"
      ]
     },
     "execution_count": 120,
     "metadata": {},
     "output_type": "execute_result"
    }
   ],
   "source": [
    "graph = construct_graph(words)\n",
    "graph"
   ]
  },
  {
   "cell_type": "markdown",
   "id": "c3dd4406",
   "metadata": {},
   "source": [
    "## BFS"
   ]
  },
  {
   "cell_type": "code",
   "execution_count": 121,
   "id": "372f08db",
   "metadata": {},
   "outputs": [],
   "source": [
    "from queue import Queue"
   ]
  },
  {
   "cell_type": "code",
   "execution_count": 122,
   "id": "d110878e",
   "metadata": {},
   "outputs": [],
   "source": [
    "def bfs(graph, src, dest):\n",
    "    \n",
    "    if dest not in graph:\n",
    "        return 0\n",
    "    \n",
    "    q = Queue()\n",
    "    q.put((src,1))\n",
    "    \n",
    "    visited = set()\n",
    "    \n",
    "    while not q.empty():\n",
    "        \n",
    "        node, dist = q.get()\n",
    "        visited.add(node)\n",
    "    \n",
    "        for ngbr in graph[node]:\n",
    "            if ngbr not in visited:\n",
    "                if ngbr == dest:\n",
    "                    return dist+1\n",
    "                q.put((ngbr, dist+1))\n",
    "                \n",
    "    return 0\n",
    "        "
   ]
  },
  {
   "cell_type": "markdown",
   "id": "282e9930",
   "metadata": {},
   "source": [
    "## Tests"
   ]
  },
  {
   "cell_type": "code",
   "execution_count": 123,
   "id": "ac48611d",
   "metadata": {},
   "outputs": [],
   "source": [
    "beginWord = \"hit\"\n",
    "endWord = \"cog\""
   ]
  },
  {
   "cell_type": "code",
   "execution_count": 124,
   "id": "a2396d8f",
   "metadata": {},
   "outputs": [
    {
     "data": {
      "text/plain": [
       "5"
      ]
     },
     "execution_count": 124,
     "metadata": {},
     "output_type": "execute_result"
    }
   ],
   "source": [
    "bfs(graph, beginWord, endWord)"
   ]
  },
  {
   "cell_type": "code",
   "execution_count": 125,
   "id": "a208b868",
   "metadata": {},
   "outputs": [
    {
     "data": {
      "text/plain": [
       "{'slim': ['slam'],\n",
       " 'slap': ['slam', 'snap', 'soap', 'slay'],\n",
       " 'slam': ['slim', 'slap', 'slay', 'glam'],\n",
       " 'snap': ['slap', 'soap', 'knap'],\n",
       " 'soap': ['slap', 'snap', 'soup'],\n",
       " 'slay': ['slap', 'slam'],\n",
       " 'soup': ['soap'],\n",
       " 'glam': ['slam'],\n",
       " 'knop': ['knap'],\n",
       " 'knap': ['snap', 'knop'],\n",
       " 'book': ['bool', 'cook'],\n",
       " 'bool': ['book', 'pool', 'cool'],\n",
       " 'cook': ['book', 'cool'],\n",
       " 'pool': ['bool', 'cool', 'poor'],\n",
       " 'cool': ['bool', 'cook', 'pool'],\n",
       " 'poor': ['pool']}"
      ]
     },
     "execution_count": 125,
     "metadata": {},
     "output_type": "execute_result"
    }
   ],
   "source": [
    "words = ['slim', 'slap', 'slam', 'snap', 'soap', 'slay', 'soup', 'glam', 'knop', 'knap', 'book', 'bool', 'cook', 'pool', 'cool', 'poor']\n",
    "g = construct_graph(words)\n",
    "g"
   ]
  },
  {
   "cell_type": "code",
   "execution_count": 126,
   "id": "ef67bea0",
   "metadata": {},
   "outputs": [
    {
     "data": {
      "text/plain": [
       "6"
      ]
     },
     "execution_count": 126,
     "metadata": {},
     "output_type": "execute_result"
    }
   ],
   "source": [
    "bfs(g, 'slim', 'knop')"
   ]
  },
  {
   "cell_type": "markdown",
   "id": "a60871c6",
   "metadata": {},
   "source": [
    "## Original solution\n",
    "\n",
    " By representing words as a graph:\n",
    "\n",
    "Time complexity: O(mn²)\\\n",
    "Space complexity: O(mn²)"
   ]
  },
  {
   "cell_type": "code",
   "execution_count": 127,
   "id": "76370a90",
   "metadata": {},
   "outputs": [],
   "source": [
    "def difference(word1, word2):\n",
    "    counter = 0\n",
    "    for i in range(len(word1)):\n",
    "        if word1[i] != word2[i]:\n",
    "            counter += 1\n",
    "    return counter\n",
    "    \n",
    "def transformationSequenceLength(beginWord, endWord, wordList):\n",
    "    \n",
    "    if len(wordList) == 0 or endWord not in wordList:\n",
    "        return 0\n",
    "    adjList = {}\n",
    "    \n",
    "    for word in wordList:\n",
    "        adjList[word] = set()\n",
    "    \n",
    "    for i in range(len(wordList)):\n",
    "        for j in range(i+1, len(wordList)):\n",
    "            if(difference(wordList[i], wordList[j]) == 1):\n",
    "                adjList[wordList[i]].add(wordList[j])\n",
    "                adjList[wordList[j]].add(wordList[i])\n",
    "  \n",
    "    visited = set()\n",
    "    queue = []\n",
    "    i = 0\n",
    "  \n",
    "    for word in wordList:\n",
    "        if difference(beginWord, word) == 1:\n",
    "            queue.append([word, 1])\n",
    "            visited.add(word)\n",
    "  \n",
    "    while i < len(queue):\n",
    "        word = queue[i][0]\n",
    "        level = queue[i][1]\n",
    "        i += 1\n",
    "        if word == endWord:\n",
    "            return level+1\n",
    "        else:\n",
    "            for transformation in adjList[word]:\n",
    "                if transformation not in visited:\n",
    "                    queue.append([transformation, level+1])\n",
    "                    visited.add(transformation)\n",
    "    return 0\n",
    "\n"
   ]
  },
  {
   "cell_type": "code",
   "execution_count": 128,
   "id": "781b9dcb",
   "metadata": {},
   "outputs": [
    {
     "data": {
      "text/plain": [
       "5"
      ]
     },
     "execution_count": 128,
     "metadata": {},
     "output_type": "execute_result"
    }
   ],
   "source": [
    "transformationSequenceLength(beginWord, endWord, wordList)"
   ]
  },
  {
   "cell_type": "markdown",
   "id": "25668169",
   "metadata": {},
   "source": [
    "By generating common forms:\n",
    "\n",
    "Time complexity: O(nm²)\\\n",
    "Space complexity: O(nm²)\n"
   ]
  },
  {
   "cell_type": "code",
   "execution_count": 129,
   "id": "891103e6",
   "metadata": {},
   "outputs": [],
   "source": [
    "def transformationSequenceLength(beginWord, endWord, wordList):\n",
    "    if len(wordList) == 0 or endWord not in wordList:\n",
    "        return 0\n",
    "    \n",
    "    lenWord = len(wordList[0])\n",
    "    forms = {}\n",
    "    \n",
    "    for word in wordList:\n",
    "        for i in range(lenWord):\n",
    "            form = word[:i] + '*' + word[i+1:]\n",
    "            if forms.get(form) is None:\n",
    "                forms[form] = []\n",
    "            forms[form].append(word)\n",
    "    print(forms)\n",
    "    \n",
    "    visited = set()\n",
    "    queue = [[beginWord, 0]]\n",
    "    i = 0\n",
    "    \n",
    "    while i < len(queue):\n",
    "        word = queue[i][0]\n",
    "        level = queue[i][1]\n",
    "        i += 1\n",
    "        \n",
    "        if word == endWord:\n",
    "            return level + 1\n",
    "        else:\n",
    "            for j in range(lenWord):\n",
    "                form = word[:j] + '*' + word[j+1:]\n",
    "                if forms.get(form) is not None:\n",
    "                    for transformation in forms[form]:                    \n",
    "                        if transformation not in visited:\n",
    "                            queue.append([transformation, level + 1])\n",
    "                            visited.add(transformation)\n",
    "    \n",
    "    return 0"
   ]
  },
  {
   "cell_type": "code",
   "execution_count": 130,
   "id": "9633978c",
   "metadata": {},
   "outputs": [
    {
     "name": "stdout",
     "output_type": "stream",
     "text": [
      "{'*ot': ['hot', 'dot', 'lot'], 'h*t': ['hot'], 'ho*': ['hot'], 'd*t': ['dot'], 'do*': ['dot', 'dog'], '*og': ['dog', 'log', 'cog'], 'd*g': ['dog'], 'l*t': ['lot'], 'lo*': ['lot', 'log'], 'l*g': ['log'], 'c*g': ['cog'], 'co*': ['cog']}\n"
     ]
    },
    {
     "data": {
      "text/plain": [
       "5"
      ]
     },
     "execution_count": 130,
     "metadata": {},
     "output_type": "execute_result"
    }
   ],
   "source": [
    "transformationSequenceLength(beginWord, endWord, wordList)"
   ]
  },
  {
   "cell_type": "code",
   "execution_count": null,
   "id": "7ebd338c",
   "metadata": {},
   "outputs": [],
   "source": []
  }
 ],
 "metadata": {
  "kernelspec": {
   "display_name": "Python 3 (ipykernel)",
   "language": "python",
   "name": "python3"
  },
  "language_info": {
   "codemirror_mode": {
    "name": "ipython",
    "version": 3
   },
   "file_extension": ".py",
   "mimetype": "text/x-python",
   "name": "python",
   "nbconvert_exporter": "python",
   "pygments_lexer": "ipython3",
   "version": "3.12.3"
  }
 },
 "nbformat": 4,
 "nbformat_minor": 5
}
