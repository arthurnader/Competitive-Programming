{
 "cells": [
  {
   "cell_type": "markdown",
   "id": "88c57395",
   "metadata": {},
   "source": [
    "### Minimum edges from start to end\n",
    "\n",
    "Given an integer n that represents the number of vertices, labeled from 0 to n-1, an array edges of undirected edges, a vertex start and a vertex end, we want to find the minimum number of edges to go from start to end.\n",
    "\n",
    "\n",
    "### Example:\n",
    "\n",
    "input:\n",
    "\n",
    "n = 6\\\n",
    "edges = [[0, 1], [0, 2], [0, 3], [1, 2], [1, 4], [2, 4], [3, 4], [3, 5], [4, 5]]\\\n",
    "start = 0\\\n",
    "end = 5\n",
    "\n",
    "output: 2\n",
    "\n",
    "explanation: The minimum number of edges required to go from 0 to 5 is 2, by taking the edge (0, 3) then the edge (3, 5).\n",
    "\n",
    "### Constraints:\n",
    "\n",
    "|edges[i]| = 2\n",
    "0 ≤ start,end < n\n",
    "(u,v) ∈ edges ⇒ 0 ≤ u,v < n ∧ u ≠ v"
   ]
  },
  {
   "cell_type": "markdown",
   "id": "5e1c4301",
   "metadata": {},
   "source": [
    "## BFS"
   ]
  },
  {
   "cell_type": "code",
   "execution_count": 17,
   "id": "8c203070",
   "metadata": {},
   "outputs": [],
   "source": [
    "from queue import Queue"
   ]
  },
  {
   "cell_type": "code",
   "execution_count": 24,
   "id": "e4893ff7",
   "metadata": {},
   "outputs": [],
   "source": [
    "class Graph:\n",
    "    \n",
    "    def __init__(self, n, edges):\n",
    "        self.n = n\n",
    "        self.adj_list = [[] for _ in range(n)]\n",
    "        \n",
    "        for (v1, v2) in edges:\n",
    "            self.adj_list[v1].append(v2)\n",
    "            self.adj_list[v2].append(v1)\n",
    "            \n",
    "            \n",
    "    def bfs(self, src, dest):\n",
    "        \n",
    "        distances = [-1]*self.n\n",
    "        \n",
    "        q = Queue()\n",
    "        q.put(src)\n",
    "        distances[src] = 0\n",
    "        \n",
    "        while not q.empty():\n",
    "            current = q.get()\n",
    "            for ngbr in self.adj_list[current]:\n",
    "                if ngbr == dest:\n",
    "                    return distances[current] + 1\n",
    "                if distances[ngbr] == -1:\n",
    "                    q.put(ngbr)\n",
    "                    distances[ngbr] = distances[current]+1\n",
    "        \n",
    "        return -1\n",
    "        "
   ]
  },
  {
   "cell_type": "code",
   "execution_count": 25,
   "id": "a8466164",
   "metadata": {},
   "outputs": [
    {
     "name": "stdout",
     "output_type": "stream",
     "text": [
      "2\n"
     ]
    }
   ],
   "source": [
    "if __name__ == \"__main__\":\n",
    "    \n",
    "    n = 6\n",
    "    edges = [[0, 1], [0, 2], [0, 3], [1, 2], [1, 4], [2, 4], [3, 4], [3, 5], [4, 5]]\n",
    "    start = 0\n",
    "    end = 5\n",
    "    \n",
    "    g = Graph(n, edges)\n",
    "    dist = g.bfs(start, end)\n",
    "    print(dist)"
   ]
  },
  {
   "cell_type": "markdown",
   "id": "ef64983f",
   "metadata": {},
   "source": [
    "## The original solution"
   ]
  },
  {
   "cell_type": "markdown",
   "id": "e88738e5",
   "metadata": {},
   "source": [
    "Time Complexity: O(|V| + |E|)\\\n",
    "Space Complexity: O(|V| + |E|)"
   ]
  },
  {
   "cell_type": "code",
   "execution_count": 26,
   "id": "70061a9e",
   "metadata": {},
   "outputs": [],
   "source": [
    "from __future__ import annotations\n",
    "from queue import Queue"
   ]
  },
  {
   "cell_type": "code",
   "execution_count": 27,
   "id": "54fdb644",
   "metadata": {},
   "outputs": [],
   "source": [
    "def min_edges(n: int, edges: list[int,int], start: int, end: int) -> int:\n",
    "    graph: list[list[int]] = [[] for _ in range(n)]\n",
    "    src: int; dest: int\n",
    "    for src, dest in edges:\n",
    "        graph[src].append(dest)\n",
    "        graph[dest].append(src)\n",
    "    queue: Queue[tuple[int,int]] = Queue()\n",
    "    visited: set[int] = set()\n",
    "    queue.put((start, 0))\n",
    "    visited.add(start)\n",
    "    while not queue.empty():\n",
    "        vertex: int; level: int; vertex, level = queue.get()\n",
    "        if vertex == end:\n",
    "            return level\n",
    "        neighbor: int\n",
    "        for neighbor in graph[vertex]:\n",
    "            if neighbor not in visited:\n",
    "                queue.put((neighbor, level+1))\n",
    "                visited.add(neighbor)\n",
    "    return -1"
   ]
  },
  {
   "cell_type": "code",
   "execution_count": 29,
   "id": "a181a1f2",
   "metadata": {},
   "outputs": [
    {
     "name": "stdout",
     "output_type": "stream",
     "text": [
      "2\n"
     ]
    }
   ],
   "source": [
    "if __name__ == '__main__':\n",
    "    n: int = 6\n",
    "    edges: list[tuple[int,int]] = [(0, 1), (0, 2), (0, 3), (1, 2), (1, 4), (2, 4), (3, 4), (3, 5), (4, 5)]\n",
    "    start: int = 0\n",
    "    end: int = 5\n",
    "    print(min_edges(n, edges, start, end))"
   ]
  },
  {
   "cell_type": "code",
   "execution_count": null,
   "id": "9565e560",
   "metadata": {},
   "outputs": [],
   "source": []
  }
 ],
 "metadata": {
  "kernelspec": {
   "display_name": "Python 3 (ipykernel)",
   "language": "python",
   "name": "python3"
  },
  "language_info": {
   "codemirror_mode": {
    "name": "ipython",
    "version": 3
   },
   "file_extension": ".py",
   "mimetype": "text/x-python",
   "name": "python",
   "nbconvert_exporter": "python",
   "pygments_lexer": "ipython3",
   "version": "3.12.3"
  }
 },
 "nbformat": 4,
 "nbformat_minor": 5
}
