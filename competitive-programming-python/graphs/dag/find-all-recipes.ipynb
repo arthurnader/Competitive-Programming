{
 "cells": [
  {
   "cell_type": "markdown",
   "id": "4e2b734a",
   "metadata": {},
   "source": [
    "## Find all possible recipes\n",
    "We have a list of n recipes. We also have the ingredients of each of these recipes in a 2D array ingredients where ingredients[i] is the array of ingredients of recipes[i]. And we have a list supplies that represents ingredients we initially have, in infinite quantity. The goal is to find out what possible recipes we can prepare and return that list in any order. Note that recipes can be ingredients to each other.\n",
    "\n",
    "### Example:\n",
    "\n",
    "input:\n",
    "\n",
    "recipes = [\"chicken burger\", \"buns\", \"crispy chicken\"]\\\n",
    "ingredients = [[\"buns\", \"crispy chicken\", \"lettuce\", \"cheese\"], [\"yeast\", \"flour\"], [\"chicken\", \"breadcrumbs\"]]\\\n",
    "supplies = [\"yeast\", \"flour\", \"cheese\", \"breadcrumbs\", \"milk\", \"lettuce\", \"chicken\"]\n",
    "\n",
    "output: [\"buns\", \"crispy chicken\", \"chicken burger\"]\n",
    "\n",
    "explanation: We start by preparing buns, then we prepare crispy chicken, then we can prepare chicken burger.\n",
    "\n",
    "### Constraints:\n",
    "\n",
    "|ingredients| = |recipes| = n\\\n",
    "n ≥ 1\\\n",
    "|ingredients[i]| ≥ 1\\\n",
    "|supplies| ≥ 1\n",
    "\n"
   ]
  },
  {
   "cell_type": "markdown",
   "id": "c95c5f94",
   "metadata": {},
   "source": [
    "## DAG with DFS"
   ]
  },
  {
   "cell_type": "code",
   "execution_count": 96,
   "id": "3486e417",
   "metadata": {},
   "outputs": [],
   "source": [
    "def dfs(graph, vertex, stack, visited, path, recipes):\n",
    "    path.add(vertex)\n",
    "    visited.add(vertex)\n",
    "    \n",
    "    for neighbor in graph[vertex]:\n",
    "        if neighbor in path:\n",
    "            # Cycle detected\n",
    "            return False\n",
    "        if neighbor not in visited and not dfs(graph, neighbor, stack, visited, path, recipes):\n",
    "            return False\n",
    "    \n",
    "    if vertex in recipes:\n",
    "        stack.append(vertex)\n",
    "    \n",
    "    path.remove(vertex)\n",
    "    return True\n"
   ]
  },
  {
   "cell_type": "code",
   "execution_count": 100,
   "id": "64afd8c4",
   "metadata": {},
   "outputs": [],
   "source": [
    "def find_recipes(recipes, ingredients, supplies):\n",
    "    nodes = {}\n",
    "    \n",
    "    for i in range(len(recipes)):\n",
    "        nodes[recipes[i]] = []\n",
    "                   \n",
    "    for i in range(len(ingredients)):\n",
    "        for ing in ingredients[i]:\n",
    "            if ing not in nodes:\n",
    "                nodes[ing] = []\n",
    "            nodes[ing].append(recipes[i])\n",
    "\n",
    "    visited = set()\n",
    "    stack = []\n",
    "            \n",
    "    for s in supplies:\n",
    "        if s not in visited and s in nodes:\n",
    "            path = set()\n",
    "            if not dfs(nodes, s, stack, visited, path, recipes):\n",
    "                continue\n",
    "            \n",
    "    return stack[::-1]\n",
    "    "
   ]
  },
  {
   "cell_type": "code",
   "execution_count": 101,
   "id": "a55a6eb2",
   "metadata": {},
   "outputs": [],
   "source": [
    "recipes = [\"chicken burger\", \"buns\", \"crispy chicken\"]\n",
    "ingredients = [[\"buns\", \"crispy chicken\", \"lettuce\", \"cheese\"], [\"yeast\", \"flour\"], [\"chicken\", \"breadcrumbs\"]]\n",
    "supplies = [\"yeast\", \"flour\", \"cheese\", \"breadcrumbs\", \"milk\", \"lettuce\", \"chicken\"]"
   ]
  },
  {
   "cell_type": "code",
   "execution_count": 102,
   "id": "c95dd0e8",
   "metadata": {},
   "outputs": [
    {
     "data": {
      "text/plain": [
       "['crispy chicken', 'buns', 'chicken burger']"
      ]
     },
     "execution_count": 102,
     "metadata": {},
     "output_type": "execute_result"
    }
   ],
   "source": [
    "find_recipes(recipes, ingredients, supplies)"
   ]
  },
  {
   "cell_type": "markdown",
   "id": "d760e5c5",
   "metadata": {},
   "source": [
    "## DAG with BFS"
   ]
  },
  {
   "cell_type": "code",
   "execution_count": 1,
   "id": "df5ab7fd",
   "metadata": {},
   "outputs": [],
   "source": [
    "from queue import Queue"
   ]
  },
  {
   "cell_type": "code",
   "execution_count": 40,
   "id": "2e8770d7",
   "metadata": {},
   "outputs": [],
   "source": [
    "def find_recipes(recipes, ingredients, supplies):\n",
    "    \n",
    "    indegree = {}\n",
    "    nodes = {}\n",
    "    \n",
    "    for i in range(len(recipes)):\n",
    "        nodes[recipes[i]] = []\n",
    "        indegree[recipes[i]] = len(ingredients[i])\n",
    "        \n",
    "            \n",
    "    for i in range(len(ingredients)):\n",
    "        for ing in ingredients[i]:\n",
    "            if ing not in nodes:\n",
    "                nodes[ing] = []\n",
    "            nodes[ing].append(recipes[i])\n",
    "    \n",
    "    q = Queue()\n",
    "    for s in supplies:\n",
    "        if s in nodes:\n",
    "            q.put(s)\n",
    "    \n",
    "    achievable = []\n",
    "    while not q.empty():\n",
    "        \n",
    "        current = q.get()\n",
    "        \n",
    "        for ngbr in nodes[current]:\n",
    "            \n",
    "            if ngbr in indegree and indegree[ngbr] > 0:\n",
    "                indegree[ngbr] -= 1\n",
    "                if indegree[ngbr] == 0:\n",
    "                    achievable.append(ngbr)\n",
    "                    q.put(ngbr)\n",
    "    \n",
    "    return achievable\n",
    "    "
   ]
  },
  {
   "cell_type": "code",
   "execution_count": 43,
   "id": "99450888",
   "metadata": {},
   "outputs": [],
   "source": [
    "recipes = [\"chicken burger\", \"buns\", \"crispy chicken\"]\n",
    "ingredients = [[\"buns\", \"crispy chicken\", \"lettuce\", \"cheese\"], [\"yeast\", \"flour\"], [\"chicken\", \"breadcrumbs\"]]\n",
    "supplies = [\"yeast\", \"flour\", \"cheese\", \"breadcrumbs\", \"milk\", \"lettuce\", \"chicken\"]"
   ]
  },
  {
   "cell_type": "code",
   "execution_count": 44,
   "id": "82a8b9da",
   "metadata": {},
   "outputs": [
    {
     "data": {
      "text/plain": [
       "['crispy chicken']"
      ]
     },
     "execution_count": 44,
     "metadata": {},
     "output_type": "execute_result"
    }
   ],
   "source": [
    "find_recipes(recipes, ingredients, supplies)"
   ]
  },
  {
   "cell_type": "code",
   "execution_count": null,
   "id": "81af441b",
   "metadata": {},
   "outputs": [],
   "source": []
  },
  {
   "cell_type": "code",
   "execution_count": null,
   "id": "71628a60",
   "metadata": {},
   "outputs": [],
   "source": []
  }
 ],
 "metadata": {
  "kernelspec": {
   "display_name": "Python 3 (ipykernel)",
   "language": "python",
   "name": "python3"
  },
  "language_info": {
   "codemirror_mode": {
    "name": "ipython",
    "version": 3
   },
   "file_extension": ".py",
   "mimetype": "text/x-python",
   "name": "python",
   "nbconvert_exporter": "python",
   "pygments_lexer": "ipython3",
   "version": "3.12.3"
  }
 },
 "nbformat": 4,
 "nbformat_minor": 5
}
