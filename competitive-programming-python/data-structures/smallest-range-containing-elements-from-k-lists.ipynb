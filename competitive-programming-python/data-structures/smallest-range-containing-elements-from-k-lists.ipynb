{
 "cells": [
  {
   "cell_type": "code",
   "execution_count": 3,
   "id": "a7ed6509",
   "metadata": {},
   "outputs": [],
   "source": [
    "import heapq"
   ]
  },
  {
   "cell_type": "code",
   "execution_count": 23,
   "id": "6a3d7f5d",
   "metadata": {},
   "outputs": [],
   "source": [
    "class Node:\n",
    "    \n",
    "    def __init__(self, data, row, column):\n",
    "    \n",
    "        self.data = data\n",
    "        self.row = row\n",
    "        self.column = column\n",
    "        \n",
    "    def __lt__(self, a):\n",
    "        return self.data < a.data "
   ]
  },
  {
   "cell_type": "code",
   "execution_count": 24,
   "id": "cc9c7118",
   "metadata": {},
   "outputs": [],
   "source": [
    "def find_smallest_range(arr, k):\n",
    "    \n",
    "    h = []\n",
    "    greater = -float(\"inf\")\n",
    "    \n",
    "    for i in range(k):\n",
    "        h.append(Node(arr[i][0], i, 0))\n",
    "        greater = max(greater, arr[i][0])\n",
    "    \n",
    "    heapq.heapify(h)\n",
    "    \n",
    "    smallest_range = float(\"inf\")\n",
    "    min_r = -1\n",
    "    max_r = -1\n",
    "    \n",
    "    while h:\n",
    "        \n",
    "        current = heapq.heappop(h)\n",
    "            \n",
    "        if (greater-current.data < smallest_range):\n",
    "            smallest_range = greater-current.data\n",
    "            min_r = current.data\n",
    "            max_r = greater\n",
    "            \n",
    "        number_of_array = current.row\n",
    "        element = current.column\n",
    "        \n",
    "        if element + 1 < len(arr[number_of_array]):\n",
    "            heapq.heappush(h, Node(arr[number_of_array][element+1], number_of_array, element+1))\n",
    "            greater = max(greater, arr[number_of_array][element+1])\n",
    "        else:\n",
    "            break\n",
    "        \n",
    "    return min_r, max_r"
   ]
  },
  {
   "cell_type": "code",
   "execution_count": 25,
   "id": "913962b0",
   "metadata": {},
   "outputs": [
    {
     "name": "stdout",
     "output_type": "stream",
     "text": [
      "(1, 2)\n"
     ]
    }
   ],
   "source": [
    "if __name__ == \"__main__\":\n",
    "    arr = [[1, 3, 5, 7, 9], [0, 2, 4, 6, 8], [2, 3, 5, 7, 11]]\n",
    "    k = 3\n",
    "    print(find_smallest_range(arr, k))"
   ]
  },
  {
   "cell_type": "code",
   "execution_count": null,
   "id": "d33eb373",
   "metadata": {},
   "outputs": [],
   "source": []
  }
 ],
 "metadata": {
  "kernelspec": {
   "display_name": "Python 3 (ipykernel)",
   "language": "python",
   "name": "python3"
  },
  "language_info": {
   "codemirror_mode": {
    "name": "ipython",
    "version": 3
   },
   "file_extension": ".py",
   "mimetype": "text/x-python",
   "name": "python",
   "nbconvert_exporter": "python",
   "pygments_lexer": "ipython3",
   "version": "3.12.3"
  }
 },
 "nbformat": 4,
 "nbformat_minor": 5
}
