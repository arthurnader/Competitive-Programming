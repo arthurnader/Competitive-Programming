{
 "cells": [
  {
   "cell_type": "markdown",
   "id": "c5a4fdf6",
   "metadata": {},
   "source": [
    "## Paths in matrix (problem)\n",
    "\n",
    "Given a matrix where a cell has the value of 1 if it's a wall and 0 if not, find the number of ways to go from the top-left cell to the bottom-right cell, knowing that it's not possible to pass from a wall and we can only go to the right or to the bottom\n",
    "\n",
    "\n",
    "### Example:\n",
    "\n",
    "input:\n",
    "matrix = [\\\n",
    "    [0, 0, 1, 0, 1],\\\n",
    "    [0, 0, 0, 0, 1],\\\n",
    "    [0, 0, 1, 0, 0],\\\n",
    "    [1, 0, 0, 0, 0]\\\n",
    "]\n",
    "\n",
    "output: 7\n",
    "\n",
    "<img src=\"example.png\" alt=\"Alt Text\" width=\"300\"/>"
   ]
  },
  {
   "cell_type": "markdown",
   "id": "ab5c1955",
   "metadata": {},
   "source": [
    "## The relation\n",
    "\n",
    "ways_to_reach[i][j] = 0, if i == 0 and j == 0\\\n",
    "ways_to_reach[i][j] = 1, if j == 0, while matrix[i][j] == 0\\\n",
    "ways_to_reach[i][j] = 1, if i == 0, while matrix[i][j] == 0\\\n",
    "ways_to_reach[i][j] =  ways_to_reach[i-1][j] + ways_to_reach[i][j-1] if matrix[i][j] = 0\n"
   ]
  },
  {
   "cell_type": "markdown",
   "id": "ab1d6f68",
   "metadata": {},
   "source": [
    "## The bottom-up approach:"
   ]
  },
  {
   "cell_type": "code",
   "execution_count": 5,
   "id": "33bc01d6",
   "metadata": {},
   "outputs": [],
   "source": [
    "matrix = [\n",
    "    [0, 0, 1, 0, 1],\n",
    "    [0, 0, 0, 0, 1],\n",
    "    [0, 0, 1, 0, 0],\n",
    "    [1, 0, 0, 0, 0]\n",
    "]"
   ]
  },
  {
   "cell_type": "code",
   "execution_count": 6,
   "id": "b0e756e9",
   "metadata": {},
   "outputs": [],
   "source": [
    "def paths(matrix):\n",
    "    \n",
    "    n_cols = len(matrix[0])\n",
    "    n_rows = len(matrix)\n",
    "\n",
    "    ways_to_reach = [[0] * n_cols for _ in range(n_rows)]\n",
    "    ways_to_reach[0][0] = 1\n",
    "    \n",
    "    for j in range(1, n_cols):\n",
    "        if matrix[0][j] == 1:\n",
    "            break\n",
    "        ways_to_reach[0][j] = 1\n",
    "    \n",
    "    for i in range(1, n_rows):\n",
    "        if matrix[i][0] == 1:\n",
    "            break\n",
    "        ways_to_reach[i][0] = 1\n",
    "    \n",
    "    for j in range(1, n_cols):\n",
    "        for i in range(1, n_rows):\n",
    "            if matrix[i][j] == 0:\n",
    "                ways_to_reach[i][j] = ways_to_reach[i-1][j] + ways_to_reach[i][j-1]\n",
    "                \n",
    "    return ways_to_reach[n_rows-1][n_cols-1]"
   ]
  },
  {
   "cell_type": "code",
   "execution_count": 7,
   "id": "2788b6f4",
   "metadata": {},
   "outputs": [
    {
     "data": {
      "text/plain": [
       "7"
      ]
     },
     "execution_count": 7,
     "metadata": {},
     "output_type": "execute_result"
    }
   ],
   "source": [
    "paths(matrix)"
   ]
  },
  {
   "cell_type": "markdown",
   "id": "72fa1c20",
   "metadata": {},
   "source": [
    "## The original solution"
   ]
  },
  {
   "cell_type": "markdown",
   "id": "fc3d1686",
   "metadata": {},
   "source": [
    "## Recursive\n",
    "\n",
    "Time complexity: $O(2^{n+m})$\\\n",
    "Space complexity: $O(n+m)$"
   ]
  },
  {
   "cell_type": "code",
   "execution_count": 22,
   "id": "c4bf5d2d",
   "metadata": {},
   "outputs": [],
   "source": [
    "def paths(matrix, i=0, j=0):\n",
    "    \n",
    "    n, m = len(matrix), len(matrix[0])\n",
    "    \n",
    "    if i == n or j == m or matrix[i][j] == 1:\n",
    "        return 0\n",
    "    \n",
    "    elif i == n-1 and j == m-1:\n",
    "        return 1\n",
    "    \n",
    "    else:\n",
    "        return paths(matrix, i+1, j) + paths(matrix, i, j+1)"
   ]
  },
  {
   "cell_type": "code",
   "execution_count": 23,
   "id": "d54d486d",
   "metadata": {},
   "outputs": [
    {
     "data": {
      "text/plain": [
       "7"
      ]
     },
     "execution_count": 23,
     "metadata": {},
     "output_type": "execute_result"
    }
   ],
   "source": [
    "paths(matrix)"
   ]
  },
  {
   "cell_type": "markdown",
   "id": "64b505d6",
   "metadata": {},
   "source": [
    "## Memoization (top-down)\n",
    "\n",
    "Time complexity: $O(nm)$\\\n",
    "Space complexity: $O(nm)$"
   ]
  },
  {
   "cell_type": "code",
   "execution_count": 10,
   "id": "f4ef8082",
   "metadata": {},
   "outputs": [],
   "source": [
    "def paths(matrix, i=0, j=0, lookup = None):\n",
    "    \n",
    "    lookup = {} if lookup is None else lookup\n",
    "    \n",
    "    if (i,j) in lookup:\n",
    "        return lookup[(i,j)]\n",
    "    \n",
    "    n, m = len(matrix), len(matrix[0])\n",
    "    \n",
    "    if i == n or j == m or matrix[i][j] == 1:\n",
    "        lookup\n",
    "        return 0\n",
    "    \n",
    "    elif i == n-1 and j == m-1:\n",
    "        return 1\n",
    "    \n",
    "    else:\n",
    "        lookup[(i,j)] = paths(matrix, i+1, j, lookup) + paths(matrix, i, j+1, lookup)\n",
    "        return lookup[(i,j)]"
   ]
  },
  {
   "cell_type": "code",
   "execution_count": 11,
   "id": "062e5fb0",
   "metadata": {},
   "outputs": [
    {
     "data": {
      "text/plain": [
       "7"
      ]
     },
     "execution_count": 11,
     "metadata": {},
     "output_type": "execute_result"
    }
   ],
   "source": [
    "paths(matrix)"
   ]
  },
  {
   "cell_type": "markdown",
   "id": "cfda1056",
   "metadata": {},
   "source": [
    "## Tabulation (bottom-up)\n",
    "\n",
    "Time complexity: $O(nm)$\\\n",
    "Space complexity: $O(nm)$"
   ]
  },
  {
   "cell_type": "code",
   "execution_count": 12,
   "id": "63fca971",
   "metadata": {},
   "outputs": [],
   "source": [
    "def paths(matrix):\n",
    "    \n",
    "    n, m = len(matrix), len(matrix[0])\n",
    "    \n",
    "    dp = [([0]*m) for i in range(n)]\n",
    "    dp[0][0] = 1 if (matrix[0][0] == 0) else 0\n",
    "    \n",
    "    for j in range(1, m):\n",
    "        dp[0][j] = dp[0][j-1] if matrix[0][j] == 0 else 0\n",
    "    \n",
    "    for i in range(1, n):\n",
    "        dp[i][0] = dp[i-1][0] if matrix[i][0] == 0 else 0\n",
    "    \n",
    "    for i in range(1, n):\n",
    "        for j in range(1, m):\n",
    "            dp[i][j] = dp[i-1][j] + dp[i][j-1] if matrix[i][j] == 0 else 0\n",
    "    \n",
    "    return dp[n-1][m-1]"
   ]
  },
  {
   "cell_type": "code",
   "execution_count": 13,
   "id": "4dac9e8c",
   "metadata": {},
   "outputs": [
    {
     "data": {
      "text/plain": [
       "7"
      ]
     },
     "execution_count": 13,
     "metadata": {},
     "output_type": "execute_result"
    }
   ],
   "source": [
    "paths(matrix)"
   ]
  },
  {
   "cell_type": "markdown",
   "id": "899fd013",
   "metadata": {},
   "source": [
    "But we can do it in:\n",
    "\n",
    "Time complexity: $O(nm)$\\\n",
    "Space complexity: $O(m)$"
   ]
  },
  {
   "cell_type": "code",
   "execution_count": 14,
   "id": "462ec133",
   "metadata": {},
   "outputs": [],
   "source": [
    "def paths(matrix):\n",
    "    \n",
    "    n, m = len(matrix), len(matrix[0])\n",
    "    \n",
    "    prev_dp = [0]*m\n",
    "    dp = [0]*m    \n",
    "    prev_dp[0] = 1 if (matrix[0][0] == 0) else 0\n",
    "    \n",
    "    for j in range(1, m):\n",
    "        prev_dp[j] = prev_dp[j-1] if matrix[0][j] == 0 else 0\n",
    "    \n",
    "    for i in range(1, n):\n",
    "        dp[0] = prev_dp[0] if matrix[i][0] == 0 else 0\n",
    "        for j in range(1, m):\n",
    "            dp[j] = prev_dp[j] + dp[j-1] if matrix[i][j] == 0 else 0\n",
    "        prev_dp = dp\n",
    "        dp = [0]*m\n",
    "    \n",
    "    return prev_dp[m-1]"
   ]
  },
  {
   "cell_type": "code",
   "execution_count": 15,
   "id": "c14795f0",
   "metadata": {},
   "outputs": [
    {
     "data": {
      "text/plain": [
       "7"
      ]
     },
     "execution_count": 15,
     "metadata": {},
     "output_type": "execute_result"
    }
   ],
   "source": [
    "paths(matrix)"
   ]
  },
  {
   "cell_type": "code",
   "execution_count": null,
   "id": "fb066bb4",
   "metadata": {},
   "outputs": [],
   "source": []
  }
 ],
 "metadata": {
  "kernelspec": {
   "display_name": "Python 3 (ipykernel)",
   "language": "python",
   "name": "python3"
  },
  "language_info": {
   "codemirror_mode": {
    "name": "ipython",
    "version": 3
   },
   "file_extension": ".py",
   "mimetype": "text/x-python",
   "name": "python",
   "nbconvert_exporter": "python",
   "pygments_lexer": "ipython3",
   "version": "3.12.3"
  }
 },
 "nbformat": 4,
 "nbformat_minor": 5
}
