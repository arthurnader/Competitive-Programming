{
 "cells": [
  {
   "cell_type": "markdown",
   "id": "c5a4fdf6",
   "metadata": {},
   "source": [
    "## Ways to decode (problem)\n",
    "\n",
    "A string made of letters can be encoded by replacing each letter by its position in the alphabet (e.g.: ELD -> 5124), but when decoding, a same encoded string can have multiple ways to be decoded (e.g.: 5124 can be decoded as 5 1 2 4 (EABD), or 5 12 4 (ELD), or 5 1 24 (EAX)).\n",
    "\n",
    "Given an encoded string s made of numbers, find the number of possible ways to decode it by following this decoding map:\n",
    "\n",
    "1 -> A,   2 -> B,   3 -> C,   4 -> D,   5 -> E,   6 -> F,   7 -> G,   8 -> H,   9 -> I,   10 -> J,   11 -> K,   12 -> L,   13 -> M,   14 -> N,   15 -> O,   16 -> P,   17 -> Q,   18 -> R,   19 -> S,   20 -> T,   21 -> U,   22 -> V,   23 -> W,   24 -> X,   25 -> Y,   26 -> Z\n",
    "\n",
    "\n",
    "### Example:\n",
    "\n",
    "input:\\\n",
    "s = \"512810120129\"\n",
    "\n",
    "output: 4\n",
    "\n",
    "explanation: There are 4 possible ways to decode s:\\\n",
    "5   1   2   8   10   1   20   1   2   9\\\n",
    "5   1   2   8   10   1   20   12   9\\\n",
    "5   12   8   10   1   20   1   2   9\\\n",
    "5   12   8   10   1   20   12   9"
   ]
  },
  {
   "cell_type": "markdown",
   "id": "ab5c1955",
   "metadata": {},
   "source": [
    "## The relation\n"
   ]
  },
  {
   "cell_type": "markdown",
   "id": "ab1d6f68",
   "metadata": {},
   "source": [
    "## The recursive approach:"
   ]
  },
  {
   "cell_type": "code",
   "execution_count": 44,
   "id": "38254f5a",
   "metadata": {},
   "outputs": [],
   "source": [
    "def ways(s, i=0):\n",
    "    \n",
    "    if i == len(s):\n",
    "        return 1\n",
    "    \n",
    "    elif s[i] == \"0\":\n",
    "        return 0\n",
    "    \n",
    "    elif i+1 < len(s) and \"10\" <= s[i]+s[i+1] <= \"26\":\n",
    "        return ways(s, i+1) + ways(s, i+2)\n",
    "    \n",
    "    else:\n",
    "        return ways(s, i+1)"
   ]
  },
  {
   "cell_type": "code",
   "execution_count": 45,
   "id": "96a6b2fb",
   "metadata": {},
   "outputs": [],
   "source": [
    "s = \"512810120129\""
   ]
  },
  {
   "cell_type": "code",
   "execution_count": 46,
   "id": "b6d94ab0",
   "metadata": {},
   "outputs": [
    {
     "data": {
      "text/plain": [
       "4"
      ]
     },
     "execution_count": 46,
     "metadata": {},
     "output_type": "execute_result"
    }
   ],
   "source": [
    "ways(s)"
   ]
  },
  {
   "cell_type": "markdown",
   "id": "72fa1c20",
   "metadata": {},
   "source": [
    "## The original solution"
   ]
  },
  {
   "cell_type": "markdown",
   "id": "fc3d1686",
   "metadata": {},
   "source": [
    "## Recursive\n",
    "\n",
    "n = len(s)\n",
    "\n",
    "Time complexity: $O(\\phi^{n})$\\\n",
    "Space complexity: $O(n)$"
   ]
  },
  {
   "cell_type": "code",
   "execution_count": 47,
   "id": "b79b478f",
   "metadata": {},
   "outputs": [],
   "source": [
    "def ways(s, i=0):\n",
    "    \n",
    "    if i == len(s):\n",
    "        return 1\n",
    "    \n",
    "    elif s[i] == \"0\":\n",
    "        return 0\n",
    "    \n",
    "    elif i+1 < len(s) and \"10\" <= s[i]+s[i+1] <= \"26\":\n",
    "        return ways(s, i+1) + ways(s, i+2)\n",
    "    \n",
    "    else:\n",
    "        return ways(s, i+1)"
   ]
  },
  {
   "cell_type": "markdown",
   "id": "64b505d6",
   "metadata": {},
   "source": [
    "## Memoization (top-down)\n",
    "\n",
    "Time complexity: $O(n)$\\\n",
    "Space complexity: $O(n)$"
   ]
  },
  {
   "cell_type": "code",
   "execution_count": 48,
   "id": "ac56507f",
   "metadata": {},
   "outputs": [],
   "source": [
    "def ways(s, i=0, lookup=None):\n",
    "    \n",
    "    lookup = {} if lookup is None else lookup\n",
    "    if i in lookup:\n",
    "        return lookup[i]\n",
    "    \n",
    "    if i == len(s):\n",
    "        return 1\n",
    "    \n",
    "    elif s[i] == \"0\":\n",
    "        return 0\n",
    "    \n",
    "    elif i+1 < len(s) and \"10\" <= s[i]+s[i+1] <= \"26\":\n",
    "        lookup[i] = ways(s, i+1, lookup) + ways(s, i+2, lookup)\n",
    "        return lookup[i]\n",
    "    \n",
    "    else:\n",
    "        lookup[i] = ways(s, i+1, lookup)\n",
    "        return lookup[i]\n",
    " "
   ]
  },
  {
   "cell_type": "code",
   "execution_count": 49,
   "id": "28b8a633",
   "metadata": {},
   "outputs": [
    {
     "data": {
      "text/plain": [
       "4"
      ]
     },
     "execution_count": 49,
     "metadata": {},
     "output_type": "execute_result"
    }
   ],
   "source": [
    "ways(s)"
   ]
  },
  {
   "cell_type": "markdown",
   "id": "cfda1056",
   "metadata": {},
   "source": [
    "## Tabulation (bottom-up)\n",
    "\n",
    "Time complexity: $O(n)$\\\n",
    "Space complexity: $O(n)$"
   ]
  },
  {
   "cell_type": "code",
   "execution_count": 52,
   "id": "13332fcf",
   "metadata": {},
   "outputs": [],
   "source": [
    "def ways(s):\n",
    "    \n",
    "    n = len(s)\n",
    "    dp = [0]*n\n",
    "    \n",
    "    if s[0] == \"0\":\n",
    "        return 0\n",
    "    \n",
    "    elif len(s) == 1:\n",
    "        return 1\n",
    "    \n",
    "    dp[0] = 1\n",
    "    dp[1] = int(s[1] != \"0\") + int(\"10\" <= s[0]+s[1] <= \"26\")\n",
    "    \n",
    "    for i in range(2, n):\n",
    "        if s[i] != \"0\":\n",
    "            dp[i] += dp[i-1]\n",
    "        if \"10\" <= s[i-1]+s[i] <= \"26\":\n",
    "            dp[i] += dp[i-2]\n",
    "    \n",
    "    return dp[n-1]"
   ]
  },
  {
   "cell_type": "code",
   "execution_count": 53,
   "id": "e979cf81",
   "metadata": {},
   "outputs": [
    {
     "data": {
      "text/plain": [
       "4"
      ]
     },
     "execution_count": 53,
     "metadata": {},
     "output_type": "execute_result"
    }
   ],
   "source": [
    "ways(s)"
   ]
  },
  {
   "cell_type": "markdown",
   "id": "899fd013",
   "metadata": {},
   "source": [
    "But we can do it in:\n",
    "\n",
    "Time complexity: $O(n)$\\\n",
    "Space complexity: $O(1)$"
   ]
  },
  {
   "cell_type": "code",
   "execution_count": 50,
   "id": "a55e3e51",
   "metadata": {},
   "outputs": [],
   "source": [
    "def ways(s):\n",
    "    \n",
    "    n = len(s)\n",
    "    \n",
    "    if s[0] == \"0\":\n",
    "        return 0\n",
    "    \n",
    "    elif len(s) == 1:\n",
    "        return 1\n",
    "    \n",
    "    before_prev_dp = 1\n",
    "    prev_dp = int(s[1] != \"0\") + int(\"10\" <= (s[0]+s[1]) <= \"26\")\n",
    "    \n",
    "    for i in range(2, n):\n",
    "        dp = 0\n",
    "        if s[i] != \"0\":\n",
    "            dp += prev_dp\n",
    "        if \"10\" <= (s[i-1]+s[i]) <= \"26\":\n",
    "            dp += before_prev_dp\n",
    "        before_prev_dp = prev_dp\n",
    "        prev_dp = dp\n",
    "    \n",
    "    return prev_dp"
   ]
  },
  {
   "cell_type": "code",
   "execution_count": 51,
   "id": "36aee5cb",
   "metadata": {},
   "outputs": [
    {
     "data": {
      "text/plain": [
       "4"
      ]
     },
     "execution_count": 51,
     "metadata": {},
     "output_type": "execute_result"
    }
   ],
   "source": [
    "ways(s)"
   ]
  },
  {
   "cell_type": "code",
   "execution_count": null,
   "id": "8394f0eb",
   "metadata": {},
   "outputs": [],
   "source": []
  }
 ],
 "metadata": {
  "kernelspec": {
   "display_name": "Python 3 (ipykernel)",
   "language": "python",
   "name": "python3"
  },
  "language_info": {
   "codemirror_mode": {
    "name": "ipython",
    "version": 3
   },
   "file_extension": ".py",
   "mimetype": "text/x-python",
   "name": "python",
   "nbconvert_exporter": "python",
   "pygments_lexer": "ipython3",
   "version": "3.12.3"
  }
 },
 "nbformat": 4,
 "nbformat_minor": 5
}
