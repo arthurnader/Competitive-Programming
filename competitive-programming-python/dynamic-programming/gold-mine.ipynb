{
 "cells": [
  {
   "cell_type": "markdown",
   "id": "5d575810",
   "metadata": {},
   "source": [
    "## Gold mine (problem)\n",
    "\n",
    "Given a mine of n rows and m columns where mine[i][j] represents the amount of gold that is present there, we want to enter from the top of the mine and take as much gold as possible when exiting from the bottom, knowing that we can only move to the bottom, to the bottom-left, or to the bottom-right. We can exit from anywhere from the last row.\n",
    "\n",
    "\n",
    "## Example:\n",
    "\n",
    "input:\n",
    "mine = [\n",
    "   [3, 2, 12, 15, 10],\n",
    "   [6, 19, 7, 11, 17],\n",
    "   [8, 5, 12, 32, 21],\n",
    "   [3, 20, 2, 9, 7]\n",
    "]\n",
    "\n",
    "output: 73\n",
    "\n",
    "explanation: 15+17+32+9 = 73\n",
    "\n",
    "<img src=\"gold.png\" alt=\"Alt Text\" width=\"300\"/>"
   ]
  },
  {
   "cell_type": "markdown",
   "id": "97d1934d",
   "metadata": {},
   "source": [
    "## The relation\n",
    "\n",
    "dp[i][j] = gold[i][j] if i == 0\n",
    "\n",
    "dp[i][j] = gold[i][j] + max(dp[i-1][j-1], dp[i-1][j], dp[i-1][j+1])"
   ]
  },
  {
   "cell_type": "markdown",
   "id": "019deec9",
   "metadata": {},
   "source": [
    "## The bottom-up approach:"
   ]
  },
  {
   "cell_type": "code",
   "execution_count": 1,
   "id": "c9a06c59",
   "metadata": {},
   "outputs": [],
   "source": [
    "mine = [\n",
    "   [3, 2, 12, 15, 10],\n",
    "   [6, 19, 7, 11, 17],\n",
    "   [8, 5, 12, 32, 21],\n",
    "   [3, 20, 2, 9, 7]\n",
    "]"
   ]
  },
  {
   "cell_type": "code",
   "execution_count": 84,
   "id": "9bdea49a",
   "metadata": {},
   "outputs": [],
   "source": [
    "def gold(mine):\n",
    "    \n",
    "    dp = [[0]* len(mine[0]) for _ in range(len(mine))]\n",
    "    \n",
    "    for j in range(0, len(mine[0])):\n",
    "        dp[0][j] = mine[0][j]\n",
    "\n",
    "    for i in range(1, len(mine)):\n",
    "        if len(mine[0]) == 1:\n",
    "            dp[i][j] = dp[i-1][j] + mine[i][j]\n",
    "            continue\n",
    "        for j in range(len(mine[0])):\n",
    "            if j == 0:\n",
    "                dp[i][j] = mine[i][j] + max(dp[i-1][j], dp[i-1][j+1])\n",
    "            elif j == len(mine[0])-1:\n",
    "                dp[i][j] = mine[i][j] + max(dp[i-1][j-1], dp[i-1][j])\n",
    "            else:\n",
    "                dp[i][j] = mine[i][j] + max(dp[i-1][j-1], dp[i-1][j], dp[i-1][j+1])\n",
    "\n",
    "    return max(dp[-1])"
   ]
  },
  {
   "cell_type": "code",
   "execution_count": 85,
   "id": "8a8500a9",
   "metadata": {},
   "outputs": [
    {
     "data": {
      "text/plain": [
       "73"
      ]
     },
     "execution_count": 85,
     "metadata": {},
     "output_type": "execute_result"
    }
   ],
   "source": [
    "gold(mine)"
   ]
  },
  {
   "cell_type": "code",
   "execution_count": 86,
   "id": "1d502f5e",
   "metadata": {},
   "outputs": [
    {
     "data": {
      "text/plain": [
       "48"
      ]
     },
     "execution_count": 86,
     "metadata": {},
     "output_type": "execute_result"
    }
   ],
   "source": [
    "gold([[7, 29, 14, 48, 41, 15]])"
   ]
  },
  {
   "cell_type": "code",
   "execution_count": 87,
   "id": "b6e77239",
   "metadata": {},
   "outputs": [
    {
     "data": {
      "text/plain": [
       "132"
      ]
     },
     "execution_count": 87,
     "metadata": {},
     "output_type": "execute_result"
    }
   ],
   "source": [
    "gold([[0], [24], [22], [20], [22], [44]])"
   ]
  },
  {
   "cell_type": "code",
   "execution_count": 88,
   "id": "75154a03",
   "metadata": {},
   "outputs": [
    {
     "data": {
      "text/plain": [
       "78"
      ]
     },
     "execution_count": 88,
     "metadata": {},
     "output_type": "execute_result"
    }
   ],
   "source": [
    "gold([[23, 37, 6, 41, 47, 37, 3, 46], [41, 19, 20, 22, 21, 30, 10, 26]])"
   ]
  },
  {
   "cell_type": "markdown",
   "id": "f19f4ded",
   "metadata": {},
   "source": [
    "## The original solution\n",
    "\n",
    "## Recursive\n",
    "\n",
    "Time complexity: $O(3^{n})$ and $O(m*3^{n})$\\\n",
    "Space complexity: $O(n)$"
   ]
  },
  {
   "cell_type": "code",
   "execution_count": 92,
   "id": "e6af0bd1",
   "metadata": {},
   "outputs": [],
   "source": [
    "def rec(mine, i, j):\n",
    "    n, m = len(mine), len(mine[0])\n",
    "    \n",
    "    if i == n or j < 0 or j == m:\n",
    "        return 0\n",
    "    \n",
    "    else:\n",
    "        return mine[i][j] + max(rec(mine, i+1, j-1), rec(mine, i+1, j), rec(mine, i+1, j+1))\n",
    "    \n",
    "def gold(mine):\n",
    "    \n",
    "    max_gold = 0\n",
    "   \n",
    "    for i in range(len(mine[0])):\n",
    "        max_gold = max(max_gold, rec(mine, 0, i))\n",
    "    \n",
    "    return max_gold    "
   ]
  },
  {
   "cell_type": "code",
   "execution_count": 93,
   "id": "d730b57a",
   "metadata": {},
   "outputs": [
    {
     "data": {
      "text/plain": [
       "73"
      ]
     },
     "execution_count": 93,
     "metadata": {},
     "output_type": "execute_result"
    }
   ],
   "source": [
    "gold(mine)"
   ]
  },
  {
   "cell_type": "markdown",
   "id": "d87da02b",
   "metadata": {},
   "source": [
    "## Memoization (top-down)\n",
    "\n",
    "Time complexity: $O(mn)$\\\n",
    "Space complexity: $O(mn)$"
   ]
  },
  {
   "cell_type": "code",
   "execution_count": 94,
   "id": "bbb02d63",
   "metadata": {},
   "outputs": [],
   "source": [
    "def rec(mine, i, j, lookup):\n",
    "    \n",
    "    n, m = len(mine), len(mine[0])\n",
    "    \n",
    "    if (i, j) in lookup:\n",
    "        return lookup[(i, j)]\n",
    "    \n",
    "    if i == n or j < 0 or j == m:\n",
    "        return 0\n",
    "    \n",
    "    else:\n",
    "        lookup[(i, j)] = mine[i][j] + max(rec(mine, i+1, j-1, lookup), rec(mine, i+1, j, lookup), rec(mine, i+1, j+1, lookup))\n",
    "        return lookup[(i, j)]\n",
    " \n",
    " \n",
    "def gold(mine):\n",
    "    max_gold = 0\n",
    "    lookup = {}\n",
    "    \n",
    "    for i in range(len(mine[0])):\n",
    "        max_gold = max(max_gold, rec(mine, 0, i, lookup))\n",
    "    \n",
    "    return max_gold"
   ]
  },
  {
   "cell_type": "code",
   "execution_count": 96,
   "id": "dc3ab79a",
   "metadata": {},
   "outputs": [
    {
     "data": {
      "text/plain": [
       "73"
      ]
     },
     "execution_count": 96,
     "metadata": {},
     "output_type": "execute_result"
    }
   ],
   "source": [
    "gold(mine)"
   ]
  },
  {
   "cell_type": "markdown",
   "id": "87222465",
   "metadata": {},
   "source": [
    "## Tabulation (bottom-up)\n",
    "\n",
    "Time complexity: $O(mn)$\\\n",
    "Space complexity: $O(mn)$"
   ]
  },
  {
   "cell_type": "code",
   "execution_count": 97,
   "id": "009142fb",
   "metadata": {},
   "outputs": [],
   "source": [
    "def gold(mine):\n",
    "    \n",
    "    n, m = len(mine), len(mine[0])\n",
    "    dp = [[0]*m for i in range(n)]\n",
    "    \n",
    "    for j in range(m):\n",
    "        dp[0][j] = mine[0][j]\n",
    "    \n",
    "    for i in range(1, n):\n",
    "        for j in range(m):\n",
    "            \n",
    "            top_left = dp[i-1][j-1] if (j-1) >= 0 else 0\n",
    "            top = dp[i-1][j]\n",
    "            top_right = dp[i-1][j+1] if (j+1) < m else 0\n",
    "            \n",
    "            dp[i][j] = mine[i][j] + max(top_left, top, top_right)\n",
    "    \n",
    "    return max(dp[n-1])"
   ]
  },
  {
   "cell_type": "code",
   "execution_count": 101,
   "id": "e6e183e9",
   "metadata": {},
   "outputs": [
    {
     "data": {
      "text/plain": [
       "73"
      ]
     },
     "execution_count": 101,
     "metadata": {},
     "output_type": "execute_result"
    }
   ],
   "source": [
    " gold(mine)"
   ]
  },
  {
   "cell_type": "markdown",
   "id": "54311095",
   "metadata": {},
   "source": [
    "Time complexity: $O(mn)$\\\n",
    "Space complexity: $O(m)$"
   ]
  },
  {
   "cell_type": "code",
   "execution_count": 103,
   "id": "2b832cb5",
   "metadata": {},
   "outputs": [],
   "source": [
    "def gold(mine):\n",
    "    \n",
    "    n, m = len(mine), len(mine[0])\n",
    "    prev_dp = [0]*m\n",
    "    dp = [0]*m\n",
    "    \n",
    "    for j in range(m):\n",
    "        prev_dp[j] = mine[0][j]\n",
    "    \n",
    "    for i in range(1, n):\n",
    "        for j in range(m):\n",
    "            top_left = prev_dp[j-1] if (j-1) >= 0 else 0\n",
    "            top = prev_dp[j]\n",
    "            top_right = prev_dp[j+1] if (j+1) < m else 0\n",
    "            dp[j] = mine[i][j] + max(top_left, top, top_right)\n",
    "        \n",
    "        prev_dp = dp\n",
    "        dp = [0]*m\n",
    "    \n",
    "    return max(prev_dp)"
   ]
  },
  {
   "cell_type": "code",
   "execution_count": 104,
   "id": "3bf2ff4f",
   "metadata": {},
   "outputs": [
    {
     "data": {
      "text/plain": [
       "73"
      ]
     },
     "execution_count": 104,
     "metadata": {},
     "output_type": "execute_result"
    }
   ],
   "source": [
    " gold(mine)"
   ]
  },
  {
   "cell_type": "code",
   "execution_count": null,
   "id": "dc5c6402",
   "metadata": {},
   "outputs": [],
   "source": []
  }
 ],
 "metadata": {
  "kernelspec": {
   "display_name": "Python 3 (ipykernel)",
   "language": "python",
   "name": "python3"
  },
  "language_info": {
   "codemirror_mode": {
    "name": "ipython",
    "version": 3
   },
   "file_extension": ".py",
   "mimetype": "text/x-python",
   "name": "python",
   "nbconvert_exporter": "python",
   "pygments_lexer": "ipython3",
   "version": "3.12.3"
  }
 },
 "nbformat": 4,
 "nbformat_minor": 5
}
