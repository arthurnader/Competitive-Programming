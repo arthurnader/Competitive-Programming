{
 "cells": [
  {
   "cell_type": "markdown",
   "id": "c5a4fdf6",
   "metadata": {},
   "source": [
    "## Count sorted vowel strings\n",
    "\n",
    "Given an integer n, return the number of strings of length n that consist only of vowels (a, e, i, o, u) and are lexicographically sorted. A string s is lexicographically sorted if each character comes before or same as the next one in the alphabet.\n",
    "\n",
    "\n",
    "### Example 1:\n",
    "\n",
    "    Input: n = 2\n",
    "\n",
    "    Output: 15\n",
    "\n",
    "    Explanation: sorted vowel strings of size 2 are:\n",
    "\n",
    "    aa, ae, ai, ao, au, ea, ee, ei, eo, eu, ii, io, iu, oo, ou, uu\n",
    "\n",
    "### Example 2:\n",
    "\n",
    "    Input: n = 9\n",
    "\n",
    "    Output: 715"
   ]
  },
  {
   "cell_type": "markdown",
   "id": "ab5c1955",
   "metadata": {},
   "source": [
    "## The relation\n"
   ]
  },
  {
   "cell_type": "markdown",
   "id": "ab1d6f68",
   "metadata": {},
   "source": [
    "## The bottom-up approach:"
   ]
  },
  {
   "cell_type": "code",
   "execution_count": 86,
   "id": "c5c5821c",
   "metadata": {},
   "outputs": [],
   "source": [
    "n = 9"
   ]
  },
  {
   "cell_type": "code",
   "execution_count": 92,
   "id": "78a54251",
   "metadata": {},
   "outputs": [],
   "source": [
    "def count(n):\n",
    "    \n",
    "    dp = [[0]*n for _ in range(5)]\n",
    "    \n",
    "    for i in range(5):\n",
    "        dp[i][0] = i+1\n",
    "        \n",
    "    for j in range(1, n):\n",
    "        dp[0][j] = 1\n",
    "        \n",
    "    for i in range(1, 5):\n",
    "        for j in range(1, n):\n",
    "            dp[i][j] = dp[i][j-1] + dp[i-1][j]\n",
    "    \n",
    "    return dp[-1][-1]\n",
    "    "
   ]
  },
  {
   "cell_type": "code",
   "execution_count": 94,
   "id": "262e39a8",
   "metadata": {},
   "outputs": [
    {
     "data": {
      "text/plain": [
       "715"
      ]
     },
     "execution_count": 94,
     "metadata": {},
     "output_type": "execute_result"
    }
   ],
   "source": [
    "count(9)"
   ]
  },
  {
   "cell_type": "markdown",
   "id": "72fa1c20",
   "metadata": {},
   "source": [
    "## The original solution"
   ]
  },
  {
   "cell_type": "markdown",
   "id": "fc3d1686",
   "metadata": {},
   "source": [
    "## Recursive\n",
    "\n",
    "Time complexity: $O(5^{n})$, but analyzing it, can be done in $O(n^{5})$\\\n",
    "Space complexity: $O(n)$"
   ]
  },
  {
   "cell_type": "code",
   "execution_count": 1,
   "id": "3c39b74f",
   "metadata": {},
   "outputs": [],
   "source": [
    "def count(n, last=''):\n",
    "    if n == 0:\n",
    "        return 1\n",
    "    else:\n",
    "        nb = 0\n",
    "        for vowel in ['a', 'e', 'i', 'o', 'u']:\n",
    "            if last <= vowel:\n",
    "                nb += count(n - 1, vowel)\n",
    "        return nb"
   ]
  },
  {
   "cell_type": "code",
   "execution_count": 3,
   "id": "1d452809",
   "metadata": {},
   "outputs": [
    {
     "data": {
      "text/plain": [
       "35"
      ]
     },
     "execution_count": 3,
     "metadata": {},
     "output_type": "execute_result"
    }
   ],
   "source": [
    "count(3)"
   ]
  },
  {
   "cell_type": "markdown",
   "id": "64b505d6",
   "metadata": {},
   "source": [
    "## Memoization (top-down)\n",
    "\n",
    "Time complexity: $O(n)$\\\n",
    "Space complexity: $O(n)$"
   ]
  },
  {
   "cell_type": "code",
   "execution_count": 7,
   "id": "708e0301",
   "metadata": {},
   "outputs": [],
   "source": [
    "def count(n, last='', lookup=None):\n",
    "    lookup = {} if lookup is None else lookup\n",
    "    if (n, last) in lookup:\n",
    "        return lookup[(n, last)]\n",
    "    if n == 0:\n",
    "        return 1\n",
    "    else:\n",
    "        nb = 0\n",
    "        for vowel in ['a', 'e', 'i', 'o', 'u']:\n",
    "            if last <= vowel:\n",
    "                nb += count(n-1, vowel, lookup)\n",
    "        lookup[(n, last)] = nb\n",
    "        return lookup[(n, last)]"
   ]
  },
  {
   "cell_type": "code",
   "execution_count": 8,
   "id": "4245f15e",
   "metadata": {},
   "outputs": [
    {
     "data": {
      "text/plain": [
       "715"
      ]
     },
     "execution_count": 8,
     "metadata": {},
     "output_type": "execute_result"
    }
   ],
   "source": [
    "count(9)"
   ]
  },
  {
   "cell_type": "markdown",
   "id": "cfda1056",
   "metadata": {},
   "source": [
    "## Tabulation (bottom-up)\n",
    "\n",
    "Time complexity: $O(n)$\\\n",
    "Space complexity: $O(n)$"
   ]
  },
  {
   "cell_type": "code",
   "execution_count": 9,
   "id": "5c4aac3e",
   "metadata": {},
   "outputs": [],
   "source": [
    "def count(n):\n",
    "    NB_VOWELS = 5\n",
    "    dp = [[0] * NB_VOWELS for i in range(n)]\n",
    "    dp[0] = [1]*NB_VOWELS\n",
    "    for i in range(1, len(dp)):\n",
    "        dp[i][0] = dp[i-1][0] + dp[i-1][1] + dp[i-1][2] + dp[i-1][3] + dp[i-1][4]\n",
    "        dp[i][1] = dp[i-1][1] + dp[i-1][2] + dp[i-1][3] + dp[i-1][4]\n",
    "        dp[i][2] = dp[i-1][2] + dp[i-1][3] + dp[i-1][4]\n",
    "        dp[i][3] = dp[i-1][3] + dp[i-1][4]\n",
    "        dp[i][4] = dp[i-1][4]\n",
    "    return sum(dp[n-1])"
   ]
  },
  {
   "cell_type": "code",
   "execution_count": 10,
   "id": "83d67e3e",
   "metadata": {},
   "outputs": [
    {
     "data": {
      "text/plain": [
       "715"
      ]
     },
     "execution_count": 10,
     "metadata": {},
     "output_type": "execute_result"
    }
   ],
   "source": [
    "count(9)"
   ]
  },
  {
   "cell_type": "markdown",
   "id": "899fd013",
   "metadata": {},
   "source": [
    "But we can do it in:\n",
    "\n",
    "Time complexity: $O(n)$\\\n",
    "Space complexity: $O(1)$"
   ]
  },
  {
   "cell_type": "code",
   "execution_count": 11,
   "id": "388ab0bb",
   "metadata": {},
   "outputs": [],
   "source": [
    "def count(n):\n",
    "    NB_VOWELS = 5\n",
    "    prev = [1] * NB_VOWELS\n",
    "    curr = [0] * NB_VOWELS\n",
    "    for i in range(1, n):\n",
    "        curr[0] = prev[0] + prev[1] + prev[2] + prev[3] + prev[4]\n",
    "        curr[1] = prev[1] + prev[2] + prev[3] + prev[4]\n",
    "        curr[2] = prev[2] + prev[3] + prev[4]\n",
    "        curr[3] = prev[3] + prev[4]\n",
    "        curr[4] = prev[4]\n",
    "        for j in range(NB_VOWELS):\n",
    "            prev[j] = curr[j]\n",
    "    return sum(prev)"
   ]
  },
  {
   "cell_type": "code",
   "execution_count": 12,
   "id": "21e42b16",
   "metadata": {},
   "outputs": [
    {
     "data": {
      "text/plain": [
       "715"
      ]
     },
     "execution_count": 12,
     "metadata": {},
     "output_type": "execute_result"
    }
   ],
   "source": [
    "count(9)"
   ]
  },
  {
   "cell_type": "markdown",
   "id": "c793ce5f",
   "metadata": {},
   "source": [
    "And you can also do it in O(1) for time and space"
   ]
  },
  {
   "cell_type": "code",
   "execution_count": 17,
   "id": "d04c7aab",
   "metadata": {},
   "outputs": [],
   "source": [
    "def count(n):\n",
    "    return (n+4)*(n+3)*(n+2)*(n+1)//24"
   ]
  },
  {
   "cell_type": "code",
   "execution_count": 18,
   "id": "bc27a1f3",
   "metadata": {},
   "outputs": [
    {
     "data": {
      "text/plain": [
       "715"
      ]
     },
     "execution_count": 18,
     "metadata": {},
     "output_type": "execute_result"
    }
   ],
   "source": [
    "count(9)"
   ]
  },
  {
   "cell_type": "code",
   "execution_count": null,
   "id": "7e64799a",
   "metadata": {},
   "outputs": [],
   "source": []
  }
 ],
 "metadata": {
  "kernelspec": {
   "display_name": "Python 3 (ipykernel)",
   "language": "python",
   "name": "python3"
  },
  "language_info": {
   "codemirror_mode": {
    "name": "ipython",
    "version": 3
   },
   "file_extension": ".py",
   "mimetype": "text/x-python",
   "name": "python",
   "nbconvert_exporter": "python",
   "pygments_lexer": "ipython3",
   "version": "3.12.3"
  }
 },
 "nbformat": 4,
 "nbformat_minor": 5
}
