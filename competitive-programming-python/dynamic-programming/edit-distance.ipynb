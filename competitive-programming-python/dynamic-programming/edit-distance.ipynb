{
 "cells": [
  {
   "cell_type": "markdown",
   "id": "c5a4fdf6",
   "metadata": {},
   "source": [
    "## Edit distance (problem)\n",
    "\n",
    "Given two strings word1 and word2, calculate their edit distance.\n",
    "The edit distance in this problem is defined as the minimum number of insertions, deletions, and substitutions of characters to go from word1 to word2.\n",
    "\n",
    "\n",
    "### Example:\n",
    "\n",
    "input:\n",
    "word1 = \"inside\"\n",
    "word2 = \"index\"\n",
    "\n",
    "output: 3\n",
    "\n",
    "explanation: To go from \"inside\" to \"index\", we can delete the character 's', delete the second character 'i', and insert a character 'x' at the end, in total we need 3 operations\n",
    "\"inside\" -> \"inide\" -> \"inde\" -> \"index\""
   ]
  },
  {
   "cell_type": "markdown",
   "id": "ab5c1955",
   "metadata": {},
   "source": [
    "## The relation\n"
   ]
  },
  {
   "cell_type": "markdown",
   "id": "ab1d6f68",
   "metadata": {},
   "source": [
    "## The bottom-up approach:"
   ]
  },
  {
   "cell_type": "code",
   "execution_count": 3,
   "id": "f7b1a948",
   "metadata": {},
   "outputs": [],
   "source": [
    "word1 = \"inside\"\n",
    "word2 = \"index\""
   ]
  },
  {
   "cell_type": "code",
   "execution_count": 1,
   "id": "5f231b9d",
   "metadata": {},
   "outputs": [],
   "source": [
    "def dist(word1, word2):\n",
    "    \n",
    "    dp = [[0]*(len(word1) + 1) for _ in range(len(word2) + 1)]\n",
    "    \n",
    "    for i in range(1, len(word1)+1):\n",
    "        dp[0][i] = i\n",
    "        \n",
    "    for j in range(1, len(word2)+1):\n",
    "        dp[j][0] = j\n",
    "    print(dp)\n",
    "    for i in range(1, len(word1)+1):\n",
    "        for j in range(1, len(word2)+1):\n",
    "            if word1[i-1] == word2[j-1]:\n",
    "                dp[j][i] = dp[j-1][i-1]\n",
    "            else:\n",
    "                dp[j][i] = 1 + min(dp[j-1][i], dp[j][i-1], dp[j-1][i-1])\n",
    "    print(dp)\n",
    "    return dp[-1][-1]\n",
    "    "
   ]
  },
  {
   "cell_type": "code",
   "execution_count": 2,
   "id": "f2afdc06",
   "metadata": {},
   "outputs": [
    {
     "name": "stdout",
     "output_type": "stream",
     "text": [
      "[[0, 1, 2, 3, 4, 5, 6], [1, 0, 0, 0, 0, 0, 0], [2, 0, 0, 0, 0, 0, 0], [3, 0, 0, 0, 0, 0, 0], [4, 0, 0, 0, 0, 0, 0], [5, 0, 0, 0, 0, 0, 0]]\n",
      "[[0, 1, 2, 3, 4, 5, 6], [1, 0, 1, 2, 3, 4, 5], [2, 1, 0, 1, 2, 3, 4], [3, 2, 1, 1, 2, 2, 3], [4, 3, 2, 2, 2, 3, 2], [5, 4, 3, 3, 3, 3, 3]]\n"
     ]
    },
    {
     "data": {
      "text/plain": [
       "3"
      ]
     },
     "execution_count": 2,
     "metadata": {},
     "output_type": "execute_result"
    }
   ],
   "source": [
    "dist(\"inside\",\"index\")"
   ]
  },
  {
   "cell_type": "markdown",
   "id": "72fa1c20",
   "metadata": {},
   "source": [
    "## The original solution"
   ]
  },
  {
   "cell_type": "markdown",
   "id": "fc3d1686",
   "metadata": {},
   "source": [
    "## Recursive\n",
    "\n",
    "Time complexity: $O(3^{n+m})$\\\n",
    "Space complexity: $O(n+m)$"
   ]
  },
  {
   "cell_type": "code",
   "execution_count": 4,
   "id": "9739a69b",
   "metadata": {},
   "outputs": [],
   "source": [
    "def dist(word1, word2, i=0, j=0):\n",
    "    \n",
    "    if i == len(word1):\n",
    "        return len(word2)-j\n",
    "    \n",
    "    elif j == len(word2):\n",
    "        return len(word1)-i\n",
    "    \n",
    "    elif word1[i] == word2[j]:\n",
    "        return dist(word1, word2, i+1, j+1)\n",
    "    \n",
    "    else:\n",
    "        return 1 + min(dist(word1, word2, i+1, j), dist(word1, word2, i, j+1), dist(word1, word2, i+1, j+1))"
   ]
  },
  {
   "cell_type": "code",
   "execution_count": 5,
   "id": "85f448fc",
   "metadata": {},
   "outputs": [
    {
     "data": {
      "text/plain": [
       "3"
      ]
     },
     "execution_count": 5,
     "metadata": {},
     "output_type": "execute_result"
    }
   ],
   "source": [
    "dist(word1, word2)"
   ]
  },
  {
   "cell_type": "markdown",
   "id": "64b505d6",
   "metadata": {},
   "source": [
    "## Memoization (top-down)\n",
    "\n",
    "Time complexity: $O(nm)$\\\n",
    "Space complexity: $O(nm)$"
   ]
  },
  {
   "cell_type": "code",
   "execution_count": 6,
   "id": "dbbe53d7",
   "metadata": {},
   "outputs": [],
   "source": [
    "def dist(word1, word2, i=0, j=0, lookup=None):\n",
    "    \n",
    "    lookup = {} if lookup is None else lookup\n",
    "    \n",
    "    if (i, j) in lookup:\n",
    "        return lookup[(i, j)]\n",
    "    \n",
    "    if i == len(word1):\n",
    "        return len(word2)-j\n",
    "    \n",
    "    elif j == len(word2):\n",
    "        return len(word1)-i\n",
    "\n",
    "    elif word1[i] == word2[j]:\n",
    "        lookup[(i, j)] = dist(word1, word2, i+1, j+1)\n",
    "        return lookup[(i, j)]\n",
    "    \n",
    "    else:\n",
    "        lookup[(i, j)] = 1 + min(dist(word1, word2, i+1, j), dist(word1, word2, i, j+1), dist(word1, word2, i+1, j+1))\n",
    "        return lookup[(i, j)]"
   ]
  },
  {
   "cell_type": "code",
   "execution_count": 7,
   "id": "e6bd7d4a",
   "metadata": {},
   "outputs": [
    {
     "data": {
      "text/plain": [
       "3"
      ]
     },
     "execution_count": 7,
     "metadata": {},
     "output_type": "execute_result"
    }
   ],
   "source": [
    "dist(word1, word2)"
   ]
  },
  {
   "cell_type": "markdown",
   "id": "cfda1056",
   "metadata": {},
   "source": [
    "## Tabulation (bottom-up)\n",
    "\n",
    "Time complexity: $O(nm)$\\\n",
    "Space complexity: $O(nm)$"
   ]
  },
  {
   "cell_type": "code",
   "execution_count": 8,
   "id": "f13124aa",
   "metadata": {},
   "outputs": [],
   "source": [
    "def dist(word1, word2):\n",
    "    n, m = len(word1), len(word2)\n",
    "    dp = [[0]*(m+1) for i in range(n+1)]\n",
    "    \n",
    "    for j in range(1, m+1):\n",
    "        dp[0][j] = j\n",
    "\n",
    "    for i in range(1, n+1):\n",
    "        dp[i][0] = i\n",
    "    \n",
    "    for i in range(1, n+1):\n",
    "        for j in range(1, m+1):\n",
    "            if word1[i-1] == word2[j-1]:\n",
    "                dp[i][j] = dp[i-1][j-1]\n",
    "            else:\n",
    "                dp[i][j] = 1 + min(dp[i-1][j], dp[i][j-1], dp[i-1][j-1])\n",
    "    \n",
    "    return dp[n][m]"
   ]
  },
  {
   "cell_type": "code",
   "execution_count": 9,
   "id": "a6a3e0df",
   "metadata": {},
   "outputs": [
    {
     "data": {
      "text/plain": [
       "3"
      ]
     },
     "execution_count": 9,
     "metadata": {},
     "output_type": "execute_result"
    }
   ],
   "source": [
    "dist(word1, word2)"
   ]
  },
  {
   "cell_type": "markdown",
   "id": "899fd013",
   "metadata": {},
   "source": [
    "But we can do it in:\n",
    "\n",
    "Time complexity: $O(nm)$\\\n",
    "Space complexity: $O(m)$"
   ]
  },
  {
   "cell_type": "code",
   "execution_count": 10,
   "id": "bd123004",
   "metadata": {},
   "outputs": [],
   "source": [
    "def dist(word1, word2):\n",
    "    \n",
    "    n = len(word1)\n",
    "    m = len(word2)\n",
    "    \n",
    "    prev_dp = [0]*(m+1)\n",
    "    dp = [0]*(m+1)\n",
    "    \n",
    "    for j in range(1, m+1):\n",
    "        prev_dp[j] = j\n",
    "    \n",
    "    for i in range(1, n+1):\n",
    "        dp[0] = i\n",
    "        for j in range(1, m+1):\n",
    "            if word1[i-1] == word2[j-1]:\n",
    "                dp[j] = prev_dp[j-1]\n",
    "            else:\n",
    "                dp[j] = 1 + min(prev_dp[j], dp[j-1], prev_dp[j-1])\n",
    "        prev_dp = dp\n",
    "        dp = [0]*(m+1)\n",
    "    \n",
    "    return prev_dp[m]"
   ]
  },
  {
   "cell_type": "code",
   "execution_count": 11,
   "id": "70aaf880",
   "metadata": {},
   "outputs": [
    {
     "data": {
      "text/plain": [
       "3"
      ]
     },
     "execution_count": 11,
     "metadata": {},
     "output_type": "execute_result"
    }
   ],
   "source": [
    "dist(word1, word2)"
   ]
  },
  {
   "cell_type": "code",
   "execution_count": null,
   "id": "7d7ee5dd",
   "metadata": {},
   "outputs": [],
   "source": []
  }
 ],
 "metadata": {
  "kernelspec": {
   "display_name": "Python 3 (ipykernel)",
   "language": "python",
   "name": "python3"
  },
  "language_info": {
   "codemirror_mode": {
    "name": "ipython",
    "version": 3
   },
   "file_extension": ".py",
   "mimetype": "text/x-python",
   "name": "python",
   "nbconvert_exporter": "python",
   "pygments_lexer": "ipython3",
   "version": "3.12.3"
  }
 },
 "nbformat": 4,
 "nbformat_minor": 5
}
