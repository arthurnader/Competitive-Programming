{
 "cells": [
  {
   "cell_type": "markdown",
   "id": "c5a4fdf6",
   "metadata": {},
   "source": [
    "## Minimum cost for tickets\n",
    "\n",
    "We are about to travel for a period of n days, during which we will use the train in some days that you can find in a given set train_days.\n",
    "\n",
    "And to use the train, we have to possess either a 1-day pass, a 7-days pass, or a 30-days pass, each one of them has a price that you can find in a given array prices, where prices[0] represents the price of a 1-day pass, prices[1] represents the price of a 7-days pass, and prices[2] represents the price of a 30-days pass.\n",
    "\n",
    "You are asked to find the minimum amount of money that we need to use the train during all the train days.\n",
    "\n",
    "\n",
    "### Example:\n",
    "\n",
    "input:\n",
    "train_days = [1, 3, 8, 9, 22, 23, 28, 31]\\\n",
    "costs = [4, 10, 25]\\\n",
    "n = 32\n",
    "\n",
    "output: 28\n",
    "\n",
    "explanation: The cheapest way is by buying\n",
    "\n",
    "    a 1-day pass on day 1, we use it on day 1\n",
    "\n",
    "    a 7-days pass on day 3, we use it during days 3, 8, and 9\n",
    "\n",
    "    a 7-days pass on day 22, we use it during days 22, 23, and 28\n",
    "\n",
    "    a 1-day pass on day 31, we use it on day 31\n",
    "\n",
    "costs[0]+costs[1]+costs[1]+costs[0] = 4+10+10+4 = 28"
   ]
  },
  {
   "cell_type": "markdown",
   "id": "ab5c1955",
   "metadata": {},
   "source": [
    "## The relation\n"
   ]
  },
  {
   "cell_type": "markdown",
   "id": "ab1d6f68",
   "metadata": {},
   "source": [
    "## The bottom-up approach:"
   ]
  },
  {
   "cell_type": "code",
   "execution_count": 112,
   "id": "307db256",
   "metadata": {},
   "outputs": [],
   "source": [
    "train_days = {1, 3, 8, 9, 22, 23, 28, 31}\n",
    "costs = [4, 10, 25]\n",
    "n = 32"
   ]
  },
  {
   "cell_type": "code",
   "execution_count": 145,
   "id": "f43d5659",
   "metadata": {},
   "outputs": [],
   "source": [
    "def cost(train_days, costs, n):\n",
    "    \n",
    "    dp = [0]*(n+1)\n",
    "    \n",
    "    for i in range(n+1):\n",
    "        if i not in train_days:\n",
    "            dp[i] = dp[i-1]\n",
    "        else:\n",
    "            aux_7 = 0 if i <7 else dp[i-7]\n",
    "            aux_30 = 0 if i <30 else dp[i-30]\n",
    "            dp[i] = min(dp[i-1] + costs[0], aux_7 + costs[1], aux_30 + costs[2])  \n",
    "    \n",
    "    return dp[-1]"
   ]
  },
  {
   "cell_type": "code",
   "execution_count": 150,
   "id": "172b1b69",
   "metadata": {},
   "outputs": [
    {
     "data": {
      "text/plain": [
       "128"
      ]
     },
     "execution_count": 150,
     "metadata": {},
     "output_type": "execute_result"
    }
   ],
   "source": [
    "cost({0, 2, 3, 4, 5, 11, 13, 14, 16, 21, 23, 27, 29, 30, 34, 38, 39, 44, 48, 49, 50, 51, 52, 54, 55, 58, 61, 65, 66, 76, 80, 85, 89, 91}, [4, 18, 74], 96)"
   ]
  },
  {
   "cell_type": "code",
   "execution_count": 151,
   "id": "38a09035",
   "metadata": {},
   "outputs": [
    {
     "data": {
      "text/plain": [
       "16"
      ]
     },
     "execution_count": 151,
     "metadata": {},
     "output_type": "execute_result"
    }
   ],
   "source": [
    "cost({0, 9, 1, 8}, [4, 23, 92], 13)"
   ]
  },
  {
   "cell_type": "code",
   "execution_count": 152,
   "id": "805fd12a",
   "metadata": {},
   "outputs": [
    {
     "data": {
      "text/plain": [
       "0"
      ]
     },
     "execution_count": 152,
     "metadata": {},
     "output_type": "execute_result"
    }
   ],
   "source": [
    "cost(set(), [4, 26, 100], 1)"
   ]
  },
  {
   "cell_type": "code",
   "execution_count": 154,
   "id": "59a57e1e",
   "metadata": {},
   "outputs": [
    {
     "data": {
      "text/plain": [
       "28"
      ]
     },
     "execution_count": 154,
     "metadata": {},
     "output_type": "execute_result"
    }
   ],
   "source": [
    "cost(train_days, costs, n)"
   ]
  },
  {
   "cell_type": "markdown",
   "id": "72fa1c20",
   "metadata": {},
   "source": [
    "## The original solution"
   ]
  },
  {
   "cell_type": "markdown",
   "id": "fc3d1686",
   "metadata": {},
   "source": [
    "## Recursive\n",
    "\n",
    "Time complexity: $O(3^{n})$\\\n",
    "Space complexity: $O(n)$"
   ]
  },
  {
   "cell_type": "code",
   "execution_count": 155,
   "id": "cff60480",
   "metadata": {},
   "outputs": [],
   "source": [
    "def cost(train_days, costs, n, day=0):\n",
    "    if day >= n:\n",
    "        return 0\n",
    "    elif day not in train_days:\n",
    "        return cost(train_days, costs, n, day+1)\n",
    "    else:\n",
    "        return min(costs[0] + cost(train_days, costs, n, day+1),\n",
    "                   costs[1] + cost(train_days, costs, n, day+7),\n",
    "                   costs[2] + cost(train_days, costs, n, day+30))"
   ]
  },
  {
   "cell_type": "code",
   "execution_count": 156,
   "id": "3f5ae9a0",
   "metadata": {},
   "outputs": [
    {
     "data": {
      "text/plain": [
       "28"
      ]
     },
     "execution_count": 156,
     "metadata": {},
     "output_type": "execute_result"
    }
   ],
   "source": [
    "cost(train_days, costs, n)"
   ]
  },
  {
   "cell_type": "markdown",
   "id": "64b505d6",
   "metadata": {},
   "source": [
    "## Memoization (top-down)\n",
    "\n",
    "Time complexity: $O(n)$\\\n",
    "Space complexity: $O(n)$"
   ]
  },
  {
   "cell_type": "code",
   "execution_count": 164,
   "id": "f29f8a7e",
   "metadata": {},
   "outputs": [],
   "source": [
    "def cost(train_days, costs, n, day=0, lookup=None):\n",
    "    lookup = {} if lookup is None else lookup\n",
    "    if day in lookup:\n",
    "        return lookup[day]\n",
    "    if day >= n:\n",
    "        return 0\n",
    "    elif day not in train_days:\n",
    "        lookup[day] = cost(train_days, costs, n, day+1, lookup)\n",
    "        return lookup[day]\n",
    "    else:\n",
    "        lookup[day] = min(costs[0] + cost(train_days, costs, n, day+1, lookup),\n",
    "                          costs[1] + cost(train_days, costs, n, day+7, lookup),\n",
    "                          costs[2] + cost(train_days, costs, n, day+30, lookup))\n",
    "        return lookup[day]"
   ]
  },
  {
   "cell_type": "code",
   "execution_count": 165,
   "id": "05530e18",
   "metadata": {},
   "outputs": [
    {
     "data": {
      "text/plain": [
       "28"
      ]
     },
     "execution_count": 165,
     "metadata": {},
     "output_type": "execute_result"
    }
   ],
   "source": [
    "cost(train_days, costs, n)"
   ]
  },
  {
   "cell_type": "markdown",
   "id": "cfda1056",
   "metadata": {},
   "source": [
    "## Tabulation (bottom-up)\n",
    "\n",
    "Time complexity: $O(n)$\\\n",
    "Space complexity: $O(n)$"
   ]
  },
  {
   "cell_type": "code",
   "execution_count": 168,
   "id": "6c204fef",
   "metadata": {},
   "outputs": [],
   "source": [
    "def cost(travel_days, costs, n):\n",
    "    dp = [0]*n\n",
    "    for i in range(len(dp)):\n",
    "        if i not in travel_days:\n",
    "            dp[i] = (dp[i-1] if i-1 >= 0 else 0)\n",
    "        else:\n",
    "            day_cost = costs[0] + (dp[i-1] if i-1 >= 0 else 0)\n",
    "            week_cost = costs[1] + (dp[i-7] if i-7 >= 0 else 0)\n",
    "            month_cost = costs[2] + (dp[i-30] if i-30 >= 0 else 0)\n",
    "            dp[i] = min(day_cost, week_cost, month_cost)\n",
    "    return dp[n-1]"
   ]
  },
  {
   "cell_type": "code",
   "execution_count": 169,
   "id": "55cd9327",
   "metadata": {},
   "outputs": [
    {
     "data": {
      "text/plain": [
       "28"
      ]
     },
     "execution_count": 169,
     "metadata": {},
     "output_type": "execute_result"
    }
   ],
   "source": [
    "cost(train_days, costs, n)"
   ]
  },
  {
   "cell_type": "markdown",
   "id": "899fd013",
   "metadata": {},
   "source": [
    "But we can do it in:\n",
    "\n",
    "Time complexity: $O(n)$\\\n",
    "Space complexity: $O(1)$"
   ]
  },
  {
   "cell_type": "code",
   "execution_count": 174,
   "id": "b195ff99",
   "metadata": {},
   "outputs": [],
   "source": [
    "def cost(train_days, costs, n):\n",
    "    \n",
    "    dp = [0]*31\n",
    "\n",
    "    for i in range(len(dp)):\n",
    "        if i not in train_days:\n",
    "            dp[30] = (dp[29] if i-1 >= 0 else 0)\n",
    "        else:\n",
    "            day_cost = costs[0] + (dp[29] if i-1 >= 0 else 0)\n",
    "            week_cost = costs[1] + (dp[23] if i-7 >= 0 else 0)\n",
    "            month_cost = costs[2] + (dp[0] if i-30 >= 0 else 0)\n",
    "            dp[30] = min(day_cost, week_cost, month_cost)\n",
    "        for j in range(30):\n",
    "            dp[j] = dp[j+1]\n",
    "    print(dp)\n",
    "    return dp[-1]"
   ]
  },
  {
   "cell_type": "code",
   "execution_count": 175,
   "id": "44a75a5a",
   "metadata": {},
   "outputs": [
    {
     "name": "stdout",
     "output_type": "stream",
     "text": [
      "[4, 4, 8, 8, 8, 8, 8, 12, 14, 14, 14, 14, 14, 14, 14, 14, 14, 14, 14, 14, 14, 18, 22, 22, 22, 22, 22, 24, 24, 24, 24]\n"
     ]
    },
    {
     "data": {
      "text/plain": [
       "24"
      ]
     },
     "execution_count": 175,
     "metadata": {},
     "output_type": "execute_result"
    }
   ],
   "source": [
    "cost(train_days, costs, n)"
   ]
  },
  {
   "cell_type": "code",
   "execution_count": null,
   "id": "4a2bd55c",
   "metadata": {},
   "outputs": [],
   "source": []
  }
 ],
 "metadata": {
  "kernelspec": {
   "display_name": "Python 3 (ipykernel)",
   "language": "python",
   "name": "python3"
  },
  "language_info": {
   "codemirror_mode": {
    "name": "ipython",
    "version": 3
   },
   "file_extension": ".py",
   "mimetype": "text/x-python",
   "name": "python",
   "nbconvert_exporter": "python",
   "pygments_lexer": "ipython3",
   "version": "3.12.3"
  }
 },
 "nbformat": 4,
 "nbformat_minor": 5
}
