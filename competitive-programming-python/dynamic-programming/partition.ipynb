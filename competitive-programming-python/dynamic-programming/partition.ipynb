{
 "cells": [
  {
   "cell_type": "markdown",
   "id": "c5a4fdf6",
   "metadata": {},
   "source": [
    "## Partition (problem)\n",
    "\n",
    "Given an array of strictly positive integers arr, check if we can split it into two subsets that have the same sum of elements.\n",
    "\n",
    "\n",
    "### Example 1:\n",
    "\n",
    "input:\n",
    "arr = [4, 5, 3, 2, 5, 1]\n",
    "\n",
    "output: true\n",
    "\n",
    "explanation: We can split arr into [4, 3, 2, 1] and [5, 5], and they have the same sum\n",
    "4+3+2+1 = 5+5 = 10\n",
    "\n",
    "\n",
    "### Example 2:\n",
    "\n",
    "input:\n",
    "arr = [5, 6, 2, 3, 8, 1]\n",
    "\n",
    "output: false\n",
    "\n",
    "explanation: We can't split arr into two subsets that have the same sum"
   ]
  },
  {
   "cell_type": "markdown",
   "id": "ab5c1955",
   "metadata": {},
   "source": [
    "## The relation"
   ]
  },
  {
   "cell_type": "markdown",
   "id": "ab1d6f68",
   "metadata": {},
   "source": [
    "## The subst sum approach:"
   ]
  },
  {
   "cell_type": "code",
   "execution_count": 9,
   "id": "3a951cbb",
   "metadata": {},
   "outputs": [],
   "source": [
    "arr = [4, 5, 3, 2, 5, 1]"
   ]
  },
  {
   "cell_type": "code",
   "execution_count": 24,
   "id": "e3b60a06",
   "metadata": {},
   "outputs": [],
   "source": [
    "def subset_sum(arr, k, i = 0):\n",
    "    \n",
    "    if k < 0 or i >= len(arr):\n",
    "        return False\n",
    "    elif k == 0:\n",
    "        return True\n",
    "    else:\n",
    "        return subset_sum(arr, k-arr[i], i+1) or subset_sum(arr, k, i+1)"
   ]
  },
  {
   "cell_type": "code",
   "execution_count": 25,
   "id": "145d0173",
   "metadata": {},
   "outputs": [
    {
     "data": {
      "text/plain": [
       "True"
      ]
     },
     "execution_count": 25,
     "metadata": {},
     "output_type": "execute_result"
    }
   ],
   "source": [
    "subset_sum(arr, 10)"
   ]
  },
  {
   "cell_type": "code",
   "execution_count": 27,
   "id": "47d8aae6",
   "metadata": {},
   "outputs": [],
   "source": [
    "def partition(arr):\n",
    "    \n",
    "    s = sum(arr)\n",
    "    \n",
    "    if s%2 == 1:\n",
    "        return False\n",
    "    \n",
    "    else:\n",
    "        return subset_sum(arr, s//2)"
   ]
  },
  {
   "cell_type": "code",
   "execution_count": 28,
   "id": "d12d13aa",
   "metadata": {},
   "outputs": [
    {
     "data": {
      "text/plain": [
       "True"
      ]
     },
     "execution_count": 28,
     "metadata": {},
     "output_type": "execute_result"
    }
   ],
   "source": [
    "partition(arr)"
   ]
  },
  {
   "cell_type": "markdown",
   "id": "72fa1c20",
   "metadata": {},
   "source": [
    "## The original solution"
   ]
  },
  {
   "cell_type": "markdown",
   "id": "fc3d1686",
   "metadata": {},
   "source": [
    "## Recursive\n",
    "\n",
    "n = len(arr)\n",
    "\n",
    "Time complexity: $O(2^{n})$\\\n",
    "Space complexity: $O(n)$"
   ]
  },
  {
   "cell_type": "code",
   "execution_count": 15,
   "id": "0fc566a4",
   "metadata": {},
   "outputs": [],
   "source": [
    "def partition(arr, i=0, sum1=0, sum2=0):\n",
    "    \n",
    "    if i == len(arr):\n",
    "        return sum1 == sum2\n",
    "    \n",
    "    else:\n",
    "        return partition(arr, i+1, sum1+arr[i], sum2) or partition(arr, i+1, sum1, sum2+arr[i])"
   ]
  },
  {
   "cell_type": "code",
   "execution_count": 16,
   "id": "8421042b",
   "metadata": {},
   "outputs": [
    {
     "data": {
      "text/plain": [
       "True"
      ]
     },
     "execution_count": 16,
     "metadata": {},
     "output_type": "execute_result"
    }
   ],
   "source": [
    " partition(arr)"
   ]
  },
  {
   "cell_type": "markdown",
   "id": "cfda1056",
   "metadata": {},
   "source": [
    "## Tabulation (bottom-up)\n",
    "\n",
    "n = |arr|\n",
    "s = sum(arr)\n",
    "\n",
    "Time complexity: $O(ns)$\\\n",
    "Space complexity: $O(ns)$"
   ]
  },
  {
   "cell_type": "code",
   "execution_count": 17,
   "id": "2139b60d",
   "metadata": {},
   "outputs": [],
   "source": [
    "def subsets(arr, k):\n",
    "    \n",
    "    n = len(arr)\n",
    "    if k > sum(arr) or n == 0:\n",
    "        return 0\n",
    "    \n",
    "    dp = [[0]*(k+1) for i in range(n)]\n",
    "    dp[0][0] = 1\n",
    "    \n",
    "    if arr[0] <= k:\n",
    "        dp[0][arr[0]] = 1\n",
    "    \n",
    "    for i in range(1, n):\n",
    "        for j in range(k + 1):\n",
    "            dp[i][j] = dp[i-1][j] + (dp[i-1][j-arr[i]] if j-arr[i] >= 0 else 0)\n",
    "    \n",
    "    return dp[n-1][k]\n",
    "\n",
    "\n",
    "def partition(arr):\n",
    "    \n",
    "    s = sum(arr)\n",
    "    \n",
    "    if s%2 == 1:\n",
    "        return False\n",
    "    \n",
    "    else:\n",
    "        return subsets(arr, s//2) > 0"
   ]
  },
  {
   "cell_type": "code",
   "execution_count": 18,
   "id": "7bab1c2e",
   "metadata": {},
   "outputs": [
    {
     "data": {
      "text/plain": [
       "True"
      ]
     },
     "execution_count": 18,
     "metadata": {},
     "output_type": "execute_result"
    }
   ],
   "source": [
    "partition(arr)"
   ]
  },
  {
   "cell_type": "code",
   "execution_count": 19,
   "id": "3d98a375",
   "metadata": {},
   "outputs": [
    {
     "data": {
      "text/plain": [
       "2.0"
      ]
     },
     "execution_count": 19,
     "metadata": {},
     "output_type": "execute_result"
    }
   ],
   "source": [
    "4/2"
   ]
  },
  {
   "cell_type": "code",
   "execution_count": null,
   "id": "0c739a57",
   "metadata": {},
   "outputs": [],
   "source": []
  }
 ],
 "metadata": {
  "kernelspec": {
   "display_name": "Python 3 (ipykernel)",
   "language": "python",
   "name": "python3"
  },
  "language_info": {
   "codemirror_mode": {
    "name": "ipython",
    "version": 3
   },
   "file_extension": ".py",
   "mimetype": "text/x-python",
   "name": "python",
   "nbconvert_exporter": "python",
   "pygments_lexer": "ipython3",
   "version": "3.12.3"
  }
 },
 "nbformat": 4,
 "nbformat_minor": 5
}
