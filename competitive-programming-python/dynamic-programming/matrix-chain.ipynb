{
 "cells": [
  {
   "cell_type": "markdown",
   "id": "c5a4fdf6",
   "metadata": {},
   "source": [
    "## Matrix chain problem\n",
    "We have n matrices and we want to compute their product.\n",
    "\n",
    "Matrix multiplication is associative, so ABC for example can be calculated as A(BC) or (AB)C.\n",
    "\n",
    "But A(BC) and (AB)C can require a different number of operations to be computed.\n",
    "\n",
    "For example if A is a 10x30 matrix, B is a 30x5 matrix, and C is a 5x60, then computing ABC as A(BC) costs 27000 operations, because:\n",
    "\n",
    "cost(BC) = rows(B) x cols(B) x cols(C) = 30x5x60 = 9000\n",
    "cost(A(BC)) = rows(A) x cols(A) x cols(C) = 10x30x60 = 18000\n",
    "total = 9000 + 18000 = 27000\n",
    "\n",
    "But computing it as (AB)C costs 4500 operations, because:\n",
    "\n",
    "cost(AB) = rows(A) x cols(A) x cols(B) = 10x30x5 = 1500\n",
    "cost((AB)C) = rows(A) x cols(B) x cols(C) = 10x5x60 = 3000\n",
    "total = 1500 + 3000 = 4500\n",
    "\n",
    "So it's better to compute it as (AB)C, it takes less operations.\n",
    "\n",
    "(NB: To be able to multiply a matrix A of size n x m by a matrix B of size m x p, the number of columns of A must be equal to the number of rows of B, and the cost of the multiplication is n x m x p, and the result of the product is a matrix of size n x p)\n",
    "\n",
    "In the Matrix chain multiplication problem, we are given dimensions of n matrices, and we are asked to calculate the minimum number of operations to calculate the product M0*M1*M2*...\n",
    "\n",
    "\n",
    "\n",
    "### Example:\n",
    "\n",
    "input:\n",
    "matrices = [(40, 20), (20, 30), (30, 10), (10, 30), (30, 50)]\n",
    "\n",
    "output: 49000\n",
    "\n",
    "explanation: The optimal way of putting parentheses to compute ABCDE is (A(BC))(DE), we calculate BC, then we multiply A by the result, then we calculate DE, then we multiply the result of A(BC) by the result of DE\n",
    "(NB: A is matrices[0], B is matrices[1], C is matrices[2], D is matrices[3], and E is matrices[4])\n",
    "\n",
    "cost(BC) = rows(B) x cols(B) x cols(C) = 20x30x10 = 6000\n",
    "cost(A(BC)) = rows(A) x cols(B) x cols(C) = 40x20x10 = 8000\n",
    "cost(DE) = rows(D) x cols(D) x cols(E) = 10x30x50 = 15000\n",
    "cost((A(BC)(DE)) = rows(A) x cols(C) x cols(E) = 40x10x50 = 20000\n",
    "total = 6000 + 8000 + 15000 + 20000 = 49000"
   ]
  },
  {
   "cell_type": "markdown",
   "id": "ab5c1955",
   "metadata": {},
   "source": [
    "## The relation\n"
   ]
  },
  {
   "cell_type": "markdown",
   "id": "ab1d6f68",
   "metadata": {},
   "source": [
    "## The recursive approach:"
   ]
  },
  {
   "cell_type": "code",
   "execution_count": 42,
   "id": "93229880",
   "metadata": {},
   "outputs": [],
   "source": [
    "matrices = [(40, 20), (20, 30), (30, 10), (10, 30), (30, 50)]"
   ]
  },
  {
   "cell_type": "code",
   "execution_count": 43,
   "id": "66a4bf49",
   "metadata": {},
   "outputs": [],
   "source": [
    "def chain(matrices):\n",
    "    \n",
    "    if len(matrices) == 1:\n",
    "        return 0\n",
    "    else:\n",
    "        return min(matrices[i][0]*matrices[i][1]* matrices[i+1][1] + \n",
    "                   chain(matrices[:i] + [(matrices[i][0], matrices[i+1][1])]  + matrices[i+2:])\n",
    "                   for i in range(len(matrices)-1))\n",
    "    "
   ]
  },
  {
   "cell_type": "code",
   "execution_count": 44,
   "id": "859ced6b",
   "metadata": {},
   "outputs": [
    {
     "data": {
      "text/plain": [
       "49000"
      ]
     },
     "execution_count": 44,
     "metadata": {},
     "output_type": "execute_result"
    }
   ],
   "source": [
    "chain(matrices)"
   ]
  },
  {
   "cell_type": "markdown",
   "id": "72fa1c20",
   "metadata": {},
   "source": [
    "## The original solution"
   ]
  },
  {
   "cell_type": "markdown",
   "id": "fc3d1686",
   "metadata": {},
   "source": [
    "## Recursive\n",
    "\n",
    "Time complexity: $O(3^{n})$\\\n",
    "Space complexity: $O(n)$"
   ]
  },
  {
   "cell_type": "code",
   "execution_count": 45,
   "id": "2a31782e",
   "metadata": {},
   "outputs": [],
   "source": [
    "def chain(matrices):\n",
    "    \n",
    "    def _chain(matrices, i, j):\n",
    "        \n",
    "        if i == j:\n",
    "            return 0\n",
    "        \n",
    "        else:\n",
    "            min_cost = float(\"inf\")\n",
    "            for k in range(i, j):\n",
    "                left_cost = _chain(matrices, i, k)\n",
    "                right_cost = _chain(matrices, k+1, j)\n",
    "                product_cost = matrices[i][0]*matrices[k][1]*matrices[j][1]\n",
    "                min_cost = min(min_cost, left_cost+right_cost+product_cost)\n",
    "            return min_cost\n",
    "    \n",
    "    return _chain(matrices, 0, len(matrices)-1)"
   ]
  },
  {
   "cell_type": "code",
   "execution_count": 46,
   "id": "97d50180",
   "metadata": {},
   "outputs": [
    {
     "data": {
      "text/plain": [
       "49000"
      ]
     },
     "execution_count": 46,
     "metadata": {},
     "output_type": "execute_result"
    }
   ],
   "source": [
    "chain(matrices)"
   ]
  },
  {
   "cell_type": "markdown",
   "id": "64b505d6",
   "metadata": {},
   "source": [
    "## Memoization (top-down)\n",
    "\n",
    "Time complexity: $O(n^{3})$\\\n",
    "Space complexity: $O(n^{2})$"
   ]
  },
  {
   "cell_type": "code",
   "execution_count": 38,
   "id": "ebdbf889",
   "metadata": {},
   "outputs": [],
   "source": [
    "def chain(matrices):\n",
    "    \n",
    "    def _chain(matrices, i, j, lookup=None):\n",
    "        \n",
    "        lookup = {} if lookup is None else lookup\n",
    "        if (i, j) in lookup:\n",
    "            return lookup[(i, j)]\n",
    "        \n",
    "        if i == j:\n",
    "            return 0\n",
    "        \n",
    "        else:\n",
    "            min_cost = float(\"inf\")\n",
    "            for k in range(i, j):\n",
    "                left_cost = _chain(matrices, i, k, lookup)\n",
    "                right_cost = _chain(matrices, k+1, j, lookup)\n",
    "                product_cost = matrices[i][0]*matrices[k][1]*matrices[j][1]\n",
    "                min_cost = min(min_cost, left_cost+right_cost+product_cost)\n",
    "            lookup[(i, j)] = min_cost\n",
    "            return lookup[(i, j)]\n",
    "        \n",
    "    return _chain(matrices, 0, len(matrices)-1)"
   ]
  },
  {
   "cell_type": "code",
   "execution_count": 39,
   "id": "88b1c914",
   "metadata": {},
   "outputs": [
    {
     "data": {
      "text/plain": [
       "49000"
      ]
     },
     "execution_count": 39,
     "metadata": {},
     "output_type": "execute_result"
    }
   ],
   "source": [
    "chain(matrices)"
   ]
  },
  {
   "cell_type": "markdown",
   "id": "cfda1056",
   "metadata": {},
   "source": [
    "## Tabulation (bottom-up)\n",
    "\n",
    "Time complexity: $O(n^{3})$\\\n",
    "Space complexity: $O(n^{2})$"
   ]
  },
  {
   "cell_type": "code",
   "execution_count": 36,
   "id": "4c079c81",
   "metadata": {},
   "outputs": [],
   "source": [
    "def chain(matrices):\n",
    "    \n",
    "    n = len(matrices)\n",
    "    dp = [[0]*n for i in range(n)]\n",
    "    \n",
    "    for d in range(1, n):\n",
    "        \n",
    "        for i in range(n-d):\n",
    "            j = i+d\n",
    "            min_cost = float(\"inf\")\n",
    "            \n",
    "            for k in range(i, j):\n",
    "                left_cost = dp[i][k]\n",
    "                right_cost = dp[k+1][j]\n",
    "                product_cost = matrices[i][0]*matrices[k][1]*matrices[j][1]\n",
    "                min_cost = min(min_cost, left_cost+right_cost+product_cost)\n",
    "            dp[i][j] = min_cost\n",
    "    \n",
    "    return dp[0][n-1]"
   ]
  },
  {
   "cell_type": "code",
   "execution_count": 37,
   "id": "a99cef7e",
   "metadata": {},
   "outputs": [
    {
     "data": {
      "text/plain": [
       "49000"
      ]
     },
     "execution_count": 37,
     "metadata": {},
     "output_type": "execute_result"
    }
   ],
   "source": [
    "chain(matrices)"
   ]
  },
  {
   "cell_type": "code",
   "execution_count": null,
   "id": "ba19f17d",
   "metadata": {},
   "outputs": [],
   "source": []
  }
 ],
 "metadata": {
  "kernelspec": {
   "display_name": "Python 3 (ipykernel)",
   "language": "python",
   "name": "python3"
  },
  "language_info": {
   "codemirror_mode": {
    "name": "ipython",
    "version": 3
   },
   "file_extension": ".py",
   "mimetype": "text/x-python",
   "name": "python",
   "nbconvert_exporter": "python",
   "pygments_lexer": "ipython3",
   "version": "3.12.3"
  }
 },
 "nbformat": 4,
 "nbformat_minor": 5
}
