{
 "cells": [
  {
   "cell_type": "markdown",
   "id": "c5a4fdf6",
   "metadata": {},
   "source": [
    "## Word break \n",
    "Given a string s and a list of words, check if we can break s into words from the list (A same word can be used multiple times).\n",
    "\n",
    "### Example:\n",
    "\n",
    "input:\n",
    "s = \"catsandogsareanimals\"\\\n",
    "words = [\"cats\", \"dog\", \"sand\", \"and\", \"cat\", \"mals\", \"san\", \"dogs\", \"are\", \"animal\", \"ani\", \"og\", \"sar\"]\n",
    "\n",
    "output: true\n",
    "\n",
    "explanation: s is also equal to \"cat\"+\"san\"+\"dogs\"+\"are\"+\"ani\"+\"mals\", and all of these parts are in words\n"
   ]
  },
  {
   "cell_type": "markdown",
   "id": "ab5c1955",
   "metadata": {},
   "source": [
    "## The relation"
   ]
  },
  {
   "cell_type": "markdown",
   "id": "ab1d6f68",
   "metadata": {},
   "source": [
    "## The bottom-up approach:"
   ]
  },
  {
   "cell_type": "code",
   "execution_count": 4,
   "id": "5ddee9f2",
   "metadata": {},
   "outputs": [],
   "source": [
    "s = \"catsandogsareanimals\"\n",
    "words = [\"cats\", \"dog\", \"sand\", \"and\", \"cat\", \"mals\", \"san\", \"dogs\", \"are\", \"animal\", \"ani\", \"og\", \"sar\"]"
   ]
  },
  {
   "cell_type": "code",
   "execution_count": 5,
   "id": "2b242365",
   "metadata": {},
   "outputs": [],
   "source": [
    "def word_break(s, words, i = 0, lookup = None):\n",
    "    \n",
    "    lookup = {} if lookup is None else lookup\n",
    "    if i in lookup:\n",
    "        return lookup[i]\n",
    "    \n",
    "    if i == len(s):\n",
    "        return True\n",
    "    \n",
    "    else:\n",
    "        lookup[i] = any(word_break(s, words, i + len(w)) for w in words if s[i:].startswith(w))\n",
    "        return lookup[i]"
   ]
  },
  {
   "cell_type": "code",
   "execution_count": 6,
   "id": "ff09531b",
   "metadata": {},
   "outputs": [
    {
     "data": {
      "text/plain": [
       "True"
      ]
     },
     "execution_count": 6,
     "metadata": {},
     "output_type": "execute_result"
    }
   ],
   "source": [
    "word_break(s, words)"
   ]
  },
  {
   "cell_type": "markdown",
   "id": "72fa1c20",
   "metadata": {},
   "source": [
    "## The original solution"
   ]
  },
  {
   "cell_type": "markdown",
   "id": "fc3d1686",
   "metadata": {},
   "source": [
    "## Recursive"
   ]
  },
  {
   "cell_type": "code",
   "execution_count": null,
   "id": "4c733b46",
   "metadata": {},
   "outputs": [],
   "source": [
    "def word_break(s, words, i=0):\n",
    "    if i == len(s):\n",
    "        return True\n",
    "    else:\n",
    "        for word in words:\n",
    "            if word == s[i:i+len(word)] and word_break(s, words, i+len(word)):\n",
    "                return True\n",
    "        return False"
   ]
  },
  {
   "cell_type": "markdown",
   "id": "51efaf67",
   "metadata": {},
   "source": [
    "Time complexity: $O(k\\cdot2^{k} + nm)$\\\n",
    "Space complexity: $O(k + nm)$"
   ]
  },
  {
   "cell_type": "code",
   "execution_count": null,
   "id": "90c39c27",
   "metadata": {},
   "outputs": [],
   "source": [
    "def word_break(s, words):\n",
    "    def rec(s, words, i=0):\n",
    "        if i == len(s):\n",
    "            return True\n",
    "        else:\n",
    "            for j in range(i+1, len(s)+1):\n",
    "                if s[i:j] in words and rec(s, words, j):\n",
    "                    return True\n",
    "            return False\n",
    "    words = set(words)\n",
    "    return rec(s, words)"
   ]
  },
  {
   "cell_type": "markdown",
   "id": "64b505d6",
   "metadata": {},
   "source": [
    "## Memoization (top-down)\n",
    "\n",
    "Time complexity: $O(k^{3} + nm)$\\\n",
    "Space complexity: $O(k + nm)$"
   ]
  },
  {
   "cell_type": "code",
   "execution_count": 9,
   "id": "2acaaa1a",
   "metadata": {},
   "outputs": [],
   "source": [
    "def word_break(s, words):\n",
    "    def rec(s, words, i=0, lookup=None):\n",
    "        lookup = {} if lookup is None else lookup\n",
    "        if i in lookup:\n",
    "            return lookup[i]\n",
    "        if i == len(s):\n",
    "            return True\n",
    "        else:\n",
    "            for j in range(i+1, len(s)+1):\n",
    "                if s[i:j] in words and rec(s, words, j, lookup):\n",
    "                    lookup[i] = True\n",
    "                    return lookup[i]\n",
    "            lookup[i] = False\n",
    "            return lookup[i]\n",
    "    words = set(words)\n",
    "    return rec(s, words)"
   ]
  },
  {
   "cell_type": "code",
   "execution_count": 10,
   "id": "e0e7752f",
   "metadata": {},
   "outputs": [
    {
     "data": {
      "text/plain": [
       "True"
      ]
     },
     "execution_count": 10,
     "metadata": {},
     "output_type": "execute_result"
    }
   ],
   "source": [
    "word_break(s, words)"
   ]
  },
  {
   "cell_type": "markdown",
   "id": "cfda1056",
   "metadata": {},
   "source": [
    "## Tabulation (bottom-up)\n",
    "\n",
    "Time complexity: $O(k^{3} + nm)$\\\n",
    "Space complexity: $O(k + nm)$"
   ]
  },
  {
   "cell_type": "code",
   "execution_count": null,
   "id": "f197a9c8",
   "metadata": {},
   "outputs": [],
   "source": [
    " \n",
    "def word_break(s, words):\n",
    "    k = len(s)\n",
    "    words = set(words)\n",
    "    dp = [False]*(k+1)\n",
    "    dp[0] = True\n",
    "    for i in range(1, k+1):\n",
    "        for j in range(i):\n",
    "            if s[j:i] in words and dp[j]:\n",
    "                dp[i] = True\n",
    "                break\n",
    "    return dp[k]\n"
   ]
  },
  {
   "cell_type": "markdown",
   "id": "669bc457",
   "metadata": {},
   "source": [
    "## Trie"
   ]
  },
  {
   "cell_type": "markdown",
   "id": "899fd013",
   "metadata": {},
   "source": [
    "But we can solve it using a Trie:\n",
    "\n",
    "Time complexity: $O(k^{2} + nm)$\\\n",
    "Space complexity: $O(k + nm)$"
   ]
  },
  {
   "cell_type": "code",
   "execution_count": 51,
   "id": "de9e4b59",
   "metadata": {},
   "outputs": [],
   "source": [
    "class Trie:\n",
    "    def __init__(self, is_end=False):\n",
    "        self.children = {}\n",
    "        self.is_end = is_end\n",
    " \n",
    "    def insert(self, s):\n",
    "        node = self\n",
    "        for ch in s:\n",
    "            if ch not in node.children:\n",
    "                node.children[ch] = Trie()\n",
    "            node = node.children[ch]\n",
    "        node.is_end = True"
   ]
  },
  {
   "cell_type": "code",
   "execution_count": 52,
   "id": "48c89d62",
   "metadata": {},
   "outputs": [],
   "source": [
    "def word_break(s, words):\n",
    "    k = len(s)\n",
    "    trie = Trie()\n",
    "    for word in words:\n",
    "        trie.insert(word)\n",
    "    dp = [False]*(k+1)\n",
    "    dp[0] = True\n",
    "    for i in range(len(s)):\n",
    "        node = trie\n",
    "        for j in range(i, len(s)):\n",
    "            if s[j] not in node.children:\n",
    "                break\n",
    "            node = node.children[s[j]]\n",
    "            if node.is_end and dp[i]:\n",
    "                dp[j+1] = True\n",
    "    return dp[k]"
   ]
  },
  {
   "cell_type": "code",
   "execution_count": 57,
   "id": "2a6774a6",
   "metadata": {},
   "outputs": [
    {
     "data": {
      "text/plain": [
       "True"
      ]
     },
     "execution_count": 57,
     "metadata": {},
     "output_type": "execute_result"
    }
   ],
   "source": [
    "word_break(s, words)"
   ]
  },
  {
   "cell_type": "code",
   "execution_count": null,
   "id": "2aaf4952",
   "metadata": {},
   "outputs": [],
   "source": []
  }
 ],
 "metadata": {
  "kernelspec": {
   "display_name": "Python 3 (ipykernel)",
   "language": "python",
   "name": "python3"
  },
  "language_info": {
   "codemirror_mode": {
    "name": "ipython",
    "version": 3
   },
   "file_extension": ".py",
   "mimetype": "text/x-python",
   "name": "python",
   "nbconvert_exporter": "python",
   "pygments_lexer": "ipython3",
   "version": "3.12.3"
  }
 },
 "nbformat": 4,
 "nbformat_minor": 5
}
