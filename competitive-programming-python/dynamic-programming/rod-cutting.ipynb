{
 "cells": [
  {
   "cell_type": "markdown",
   "id": "c5a4fdf6",
   "metadata": {},
   "source": [
    "## Rod cutting\n",
    "\n",
    "We want to sell a rod of size n, and to maximize the profit, we can cut it into multiple pieces. The price of a piece depends on its length, to know it, we are given an array prices where prices[i] represents the price of a piece of length i.\n",
    "\n",
    "You are asked to find the maximum price that we can get by cutting it into pieces.\n",
    "\n",
    "Note that you are allowed to sell it as a single piece of length n if it's the most profitable choice.\n",
    "\n",
    "\n",
    "### Example:\n",
    "\n",
    "input:\n",
    "n = 8\\\n",
    "prices = [0, 1, 3, 5, 6, 7, 9, 10, 11]\n",
    "\n",
    "output: 13\n",
    "\n",
    "explanation: The most profitable way of cutting a rod of length 8 with the given prices is by cutting it into a piece of length 2 and two pieces of length 3\n",
    "prices[2]+prices[3]+prices[3] = 3+5+5 = 13"
   ]
  },
  {
   "cell_type": "markdown",
   "id": "ab5c1955",
   "metadata": {},
   "source": [
    "## The relation\n"
   ]
  },
  {
   "cell_type": "markdown",
   "id": "ab1d6f68",
   "metadata": {},
   "source": [
    "## The top-down approach:"
   ]
  },
  {
   "cell_type": "code",
   "execution_count": 27,
   "id": "401a3c00",
   "metadata": {},
   "outputs": [],
   "source": [
    "n = 8\n",
    "prices = [0, 1, 3, 5, 6, 7, 9, 10, 11]"
   ]
  },
  {
   "cell_type": "code",
   "execution_count": 42,
   "id": "e161dd18",
   "metadata": {},
   "outputs": [],
   "source": [
    "def rod(prices, n, lookup = None):\n",
    "    \n",
    "    lookup = {} if lookup == None else lookup\n",
    "    if n in lookup:\n",
    "        return lookup[n]\n",
    "    \n",
    "    if n < 0:\n",
    "        return -float('inf')\n",
    "    elif n == 0: \n",
    "        return 0\n",
    "    else:\n",
    "        lookup[n] = max([prices[i] + rod(prices, n-i, lookup) for i in range(1,len(prices))])\n",
    "        return lookup[n]"
   ]
  },
  {
   "cell_type": "code",
   "execution_count": 44,
   "id": "af7522f7",
   "metadata": {},
   "outputs": [
    {
     "data": {
      "text/plain": [
       "13"
      ]
     },
     "execution_count": 44,
     "metadata": {},
     "output_type": "execute_result"
    }
   ],
   "source": [
    "rod(prices, n)"
   ]
  },
  {
   "cell_type": "markdown",
   "id": "72fa1c20",
   "metadata": {},
   "source": [
    "## The original solution"
   ]
  },
  {
   "cell_type": "markdown",
   "id": "fc3d1686",
   "metadata": {},
   "source": [
    "## Recursive\n",
    "\n",
    "Time complexity: $O(2^{n})$\\\n",
    "Space complexity: $O(n)$"
   ]
  },
  {
   "cell_type": "code",
   "execution_count": 46,
   "id": "541793be",
   "metadata": {},
   "outputs": [],
   "source": [
    "def rod(prices, n):\n",
    "    \n",
    "    max_price = 0\n",
    "    for length in range(1, n+1):\n",
    "        max_price = max(max_price, prices[length]+rod(prices, n-length))\n",
    "    \n",
    "    return max_price"
   ]
  },
  {
   "cell_type": "code",
   "execution_count": 47,
   "id": "b4dad5a2",
   "metadata": {},
   "outputs": [
    {
     "data": {
      "text/plain": [
       "13"
      ]
     },
     "execution_count": 47,
     "metadata": {},
     "output_type": "execute_result"
    }
   ],
   "source": [
    "rod(prices, n)"
   ]
  },
  {
   "cell_type": "markdown",
   "id": "64b505d6",
   "metadata": {},
   "source": [
    "## Memoization (top-down)\n",
    "\n",
    "Time complexity: $O(n²)$\\\n",
    "Space complexity: $O(n)$"
   ]
  },
  {
   "cell_type": "code",
   "execution_count": 49,
   "id": "6f794d94",
   "metadata": {},
   "outputs": [],
   "source": [
    "def rod(prices, n, lookup=None):\n",
    "    \n",
    "    lookup = {} if lookup is None else lookup\n",
    "    if n in lookup:\n",
    "        return lookup[n]\n",
    "    max_price = 0\n",
    "    \n",
    "    for length in range(1, n+1):\n",
    "        max_price = max(max_price, prices[length]+rod(prices, n-length, lookup))\n",
    "    lookup[n] = max_price\n",
    "    \n",
    "    return lookup[n]"
   ]
  },
  {
   "cell_type": "code",
   "execution_count": 50,
   "id": "ebc44301",
   "metadata": {},
   "outputs": [
    {
     "data": {
      "text/plain": [
       "13"
      ]
     },
     "execution_count": 50,
     "metadata": {},
     "output_type": "execute_result"
    }
   ],
   "source": [
    "rod(prices, n)"
   ]
  },
  {
   "cell_type": "markdown",
   "id": "cfda1056",
   "metadata": {},
   "source": [
    "## Tabulation (bottom-up)\n",
    "\n",
    "Time complexity: $O(n²)$\\\n",
    "Space complexity: $O(n)$"
   ]
  },
  {
   "cell_type": "code",
   "execution_count": 52,
   "id": "283ce2c5",
   "metadata": {},
   "outputs": [],
   "source": [
    "def rod(prices, n):\n",
    "    \n",
    "    dp = [0]*(n+1)\n",
    "    \n",
    "    for i in range(1, n+1):\n",
    "        for length in range(1, i+1):\n",
    "            dp[i] = max(dp[i], prices[length]+dp[i-length])\n",
    "    \n",
    "    return dp[n]"
   ]
  },
  {
   "cell_type": "code",
   "execution_count": 53,
   "id": "219aa92f",
   "metadata": {},
   "outputs": [
    {
     "data": {
      "text/plain": [
       "13"
      ]
     },
     "execution_count": 53,
     "metadata": {},
     "output_type": "execute_result"
    }
   ],
   "source": [
    "rod(prices, n)"
   ]
  },
  {
   "cell_type": "code",
   "execution_count": null,
   "id": "d36dad14",
   "metadata": {},
   "outputs": [],
   "source": []
  }
 ],
 "metadata": {
  "kernelspec": {
   "display_name": "Python 3 (ipykernel)",
   "language": "python",
   "name": "python3"
  },
  "language_info": {
   "codemirror_mode": {
    "name": "ipython",
    "version": 3
   },
   "file_extension": ".py",
   "mimetype": "text/x-python",
   "name": "python",
   "nbconvert_exporter": "python",
   "pygments_lexer": "ipython3",
   "version": "3.12.3"
  }
 },
 "nbformat": 4,
 "nbformat_minor": 5
}
