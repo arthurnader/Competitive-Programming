{
 "cells": [
  {
   "cell_type": "markdown",
   "id": "c5a4fdf6",
   "metadata": {},
   "source": [
    "## Ways to climb (problem)\n",
    "\n",
    "Given a stairs with n steps and a list of possible ways to jump (for example if jumps[i] = 4 then it's possible to jump by 4 steps), find the total number of ways to reach the nth step starting from the floor.\n",
    "\n",
    "\n",
    "##Example:\n",
    "\n",
    "input:\n",
    "n = 10\n",
    "jumps = [2, 4, 5, 8]\n",
    "\n",
    "output: 11\n",
    "\n",
    "explanation: We have 11 possible ways to reach the step 10 starting from the floor are:\\\n",
    "2 2 2 2 2 (jump by 2 steps, then 2 steps, then 2 steps, then 2 steps, then 2 steps)\\\n",
    "2 2 2 4 (jump by 2 steps, then 2 steps, then 2 steps, then 4 steps)\\\n",
    "2 2 4 2 (jump by 2 steps, then 2 steps, then 4 steps, then 2 steps)\\\n",
    "2 4 2 2 (jump by 2 steps, then 4 steps, then 2 steps, then 2 steps)\\\n",
    "4 2 2 2 (jump by 4 steps, then 2 steps, then 2 steps, then 2 steps)\\\n",
    "2 4 4 (jump by 2 steps, then 4 steps, then 4 steps)\\\n",
    "4 2 4 (jump by 4 steps, then 2 steps, then 4 steps)\\\n",
    "4 4 2 (jump by 4 steps, then 4 steps, then 2 steps)\\\n",
    "5 5 (jump by 5 steps, then 5 steps)\\\n",
    "2 8 (jump by 2 steps, then 8 steps)\\\n",
    "8 2 (jump by 8 steps, then 2 steps)\\"
   ]
  },
  {
   "cell_type": "markdown",
   "id": "ab5c1955",
   "metadata": {},
   "source": [
    "## The relation\n"
   ]
  },
  {
   "cell_type": "markdown",
   "id": "ab1d6f68",
   "metadata": {},
   "source": [
    "## The top-down approach:\n",
    "    "
   ]
  },
  {
   "cell_type": "code",
   "execution_count": 24,
   "id": "76916998",
   "metadata": {},
   "outputs": [],
   "source": [
    "def ways(n, jumps, lookup = None):\n",
    "    \n",
    "    lookup = {} if lookup is None else lookup\n",
    "    if n in lookup:\n",
    "        return lookup[n]\n",
    "    \n",
    "    if n < 0:\n",
    "        return 0\n",
    "    elif n == 0:\n",
    "        return 1\n",
    "    else:\n",
    "        lookup[n] = sum(ways(n-i, jumps, lookup) for i in jumps)\n",
    "        return lookup[n]"
   ]
  },
  {
   "cell_type": "code",
   "execution_count": 25,
   "id": "576f3bd3",
   "metadata": {},
   "outputs": [],
   "source": [
    "n = 10\n",
    "jumps = [2, 4, 5, 8]"
   ]
  },
  {
   "cell_type": "code",
   "execution_count": 27,
   "id": "9c6bb742",
   "metadata": {},
   "outputs": [
    {
     "data": {
      "text/plain": [
       "11"
      ]
     },
     "execution_count": 27,
     "metadata": {},
     "output_type": "execute_result"
    }
   ],
   "source": [
    "ways(10, jumps)"
   ]
  },
  {
   "cell_type": "markdown",
   "id": "72fa1c20",
   "metadata": {},
   "source": [
    "## The original solution"
   ]
  },
  {
   "cell_type": "markdown",
   "id": "fc3d1686",
   "metadata": {},
   "source": [
    "## Recursive\n",
    "\n",
    "Time complexity: $O(|jumps|*2^{n})$\\\n",
    "Space complexity: $O(n)$"
   ]
  },
  {
   "cell_type": "code",
   "execution_count": 28,
   "id": "153b708f",
   "metadata": {},
   "outputs": [],
   "source": [
    "def ways(n, jumps):\n",
    "    \n",
    "    if n == 0:\n",
    "        return 1\n",
    "    \n",
    "    elif n < 0:\n",
    "        return 0\n",
    "    \n",
    "    else:\n",
    "        nb = 0\n",
    "        for jump in jumps:\n",
    "            nb += ways(n-jump, jumps)\n",
    "        return nb"
   ]
  },
  {
   "cell_type": "code",
   "execution_count": 29,
   "id": "de842cd6",
   "metadata": {},
   "outputs": [
    {
     "data": {
      "text/plain": [
       "11"
      ]
     },
     "execution_count": 29,
     "metadata": {},
     "output_type": "execute_result"
    }
   ],
   "source": [
    "ways(10, jumps)"
   ]
  },
  {
   "cell_type": "markdown",
   "id": "64b505d6",
   "metadata": {},
   "source": [
    "## Memoization (top-down)\n",
    "\n",
    "Time complexity: $O(n*|jumps|)$\\\n",
    "Space complexity: $O(n)$"
   ]
  },
  {
   "cell_type": "code",
   "execution_count": 37,
   "id": "e0c0726b",
   "metadata": {},
   "outputs": [],
   "source": [
    "def ways(n, jumps, lookup=None):\n",
    "    \n",
    "    lookup = {} if lookup is None else lookup\n",
    "    \n",
    "    if n in lookup:\n",
    "        return lookup[n]\n",
    "    \n",
    "    if n == 0:\n",
    "        return 1\n",
    "    \n",
    "    else:\n",
    "        nb = 0\n",
    "        for jump in jumps:\n",
    "            if (n-jump) >= 0:\n",
    "                nb += ways(n-jump, jumps)\n",
    "        lookup[n] = nb\n",
    "        return lookup[n]"
   ]
  },
  {
   "cell_type": "code",
   "execution_count": 38,
   "id": "2ce0b675",
   "metadata": {},
   "outputs": [
    {
     "data": {
      "text/plain": [
       "11"
      ]
     },
     "execution_count": 38,
     "metadata": {},
     "output_type": "execute_result"
    }
   ],
   "source": [
    "ways(10, jumps)"
   ]
  },
  {
   "cell_type": "markdown",
   "id": "cfda1056",
   "metadata": {},
   "source": [
    "## Tabulation (bottom-up)\n",
    "\n",
    "Time complexity: $O(n*|jumps|)$\\\n",
    "Space complexity: $O(n)$"
   ]
  },
  {
   "cell_type": "code",
   "execution_count": 39,
   "id": "64bfb295",
   "metadata": {},
   "outputs": [],
   "source": [
    "def ways(n, jumps):\n",
    "    dp = [0]*(n+1)\n",
    "    dp[0] = 1\n",
    "    \n",
    "    for i in range(1, n+1):\n",
    "        for jump in jumps:\n",
    "            if (i-jump) >= 0:\n",
    "                dp[i] += dp[i-jump]\n",
    "    \n",
    "    return dp[n]"
   ]
  },
  {
   "cell_type": "code",
   "execution_count": 40,
   "id": "c86bfbc7",
   "metadata": {},
   "outputs": [
    {
     "data": {
      "text/plain": [
       "11"
      ]
     },
     "execution_count": 40,
     "metadata": {},
     "output_type": "execute_result"
    }
   ],
   "source": [
    "ways(n, jumps)"
   ]
  },
  {
   "cell_type": "code",
   "execution_count": null,
   "id": "79680d52",
   "metadata": {},
   "outputs": [],
   "source": []
  }
 ],
 "metadata": {
  "kernelspec": {
   "display_name": "Python 3 (ipykernel)",
   "language": "python",
   "name": "python3"
  },
  "language_info": {
   "codemirror_mode": {
    "name": "ipython",
    "version": 3
   },
   "file_extension": ".py",
   "mimetype": "text/x-python",
   "name": "python",
   "nbconvert_exporter": "python",
   "pygments_lexer": "ipython3",
   "version": "3.12.3"
  }
 },
 "nbformat": 4,
 "nbformat_minor": 5
}
