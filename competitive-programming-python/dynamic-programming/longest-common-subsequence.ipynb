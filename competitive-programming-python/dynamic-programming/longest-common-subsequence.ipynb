{
 "cells": [
  {
   "cell_type": "markdown",
   "id": "3dd45aa5",
   "metadata": {},
   "source": [
    "## Longest common subsequence (problem)\n",
    "\n",
    "Given two strings s1 and s2, find the length of their longest common subsequence.\n",
    "\n",
    "A subsequence of a string s is a subset of its characters that are not necessarily adjacent but have to be in the right order.\n",
    "\n",
    "### Example:\n",
    "\n",
    "input:\n",
    "s1 = \"abdacbab\"\n",
    "s2 = \"acebfca\"\n",
    "\n",
    "output: 4\n",
    "\n",
    "explanation: A possible longest common subsequence of s1 and s2 is \"abca\"]\n",
    "\n",
    "\n",
    "<img src=\"lcs.png\" alt=\"Alt Text\" width=\"300\"/>"
   ]
  },
  {
   "cell_type": "markdown",
   "id": "3928389b",
   "metadata": {},
   "source": [
    "## The relation\n",
    "\n",
    "\n"
   ]
  },
  {
   "cell_type": "markdown",
   "id": "48358647",
   "metadata": {},
   "source": [
    "## The bottom-up approach"
   ]
  },
  {
   "cell_type": "code",
   "execution_count": 123,
   "id": "93f65a4f",
   "metadata": {},
   "outputs": [],
   "source": [
    "s1 = \"abdacbab\"\n",
    "s2 = \"acebfca\""
   ]
  },
  {
   "cell_type": "code",
   "execution_count": 124,
   "id": "f552ee46",
   "metadata": {},
   "outputs": [],
   "source": [
    "def lcs(s1, s2):\n",
    "    \n",
    "    dp = [[0]*len(s1) for _ in range(len(s2))]\n",
    "\n",
    "    if s1 == \"\" or s2 == \"\":\n",
    "        return 0\n",
    "    \n",
    "    for i in range(len(s1)):\n",
    "        if s1[i] == s2[0]:\n",
    "            dp[0][i] = 1\n",
    "        elif i > 0:\n",
    "            dp[0][i] = dp[0][i-1]\n",
    "        \n",
    "    for j in range(len(s2)):\n",
    "        if s2[j] == s1[0]:\n",
    "            dp[j][0] = 1\n",
    "        elif j > 0:\n",
    "            dp[j][0] = dp[j-1][0]\n",
    "            \n",
    "    for i in range(1, len(s1)):\n",
    "        for j in range(1, len(s2)):\n",
    "            if s1[i] == s2[j]:\n",
    "                dp[j][i] = dp[j-1][i-1] + 1\n",
    "            else:\n",
    "                dp[j][i] = max(dp[j-1][i], dp[j][i-1])\n",
    "    \n",
    "    return dp[-1][-1]"
   ]
  },
  {
   "cell_type": "code",
   "execution_count": 125,
   "id": "41fb75df",
   "metadata": {},
   "outputs": [
    {
     "data": {
      "text/plain": [
       "0"
      ]
     },
     "execution_count": 125,
     "metadata": {},
     "output_type": "execute_result"
    }
   ],
   "source": [
    "lcs(\"\", \"\")"
   ]
  },
  {
   "cell_type": "code",
   "execution_count": 126,
   "id": "ab49bab4",
   "metadata": {},
   "outputs": [
    {
     "data": {
      "text/plain": [
       "4"
      ]
     },
     "execution_count": 126,
     "metadata": {},
     "output_type": "execute_result"
    }
   ],
   "source": [
    "lcs(s1, s2)"
   ]
  },
  {
   "cell_type": "code",
   "execution_count": 127,
   "id": "3b13110b",
   "metadata": {},
   "outputs": [
    {
     "data": {
      "text/plain": [
       "1"
      ]
     },
     "execution_count": 127,
     "metadata": {},
     "output_type": "execute_result"
    }
   ],
   "source": [
    "lcs('cacc', 'eec') "
   ]
  },
  {
   "cell_type": "code",
   "execution_count": 128,
   "id": "4c666b7e",
   "metadata": {},
   "outputs": [
    {
     "data": {
      "text/plain": [
       "2"
      ]
     },
     "execution_count": 128,
     "metadata": {},
     "output_type": "execute_result"
    }
   ],
   "source": [
    "lcs('aafb', 'abc')"
   ]
  },
  {
   "cell_type": "markdown",
   "id": "bcfa91da",
   "metadata": {},
   "source": [
    "## The original solution\n",
    "\n",
    "## Recursive\n",
    "\n",
    "Time complexity: $O(2^{n+m})$\\\n",
    "Space complexity: $O(n+m)$"
   ]
  },
  {
   "cell_type": "code",
   "execution_count": 131,
   "id": "3d4c873e",
   "metadata": {},
   "outputs": [],
   "source": [
    "def lcs(s1, s2, i=0, j=0):\n",
    "    \n",
    "    if i == len(s1) or j == len(s2):\n",
    "        return 0\n",
    "    \n",
    "    elif s1[i] == s2[j]:\n",
    "        return 1 + lcs(s1, s2, i+1, j+1)\n",
    "    \n",
    "    else:\n",
    "        return max(lcs(s1, s2, i+1, j), lcs(s1, s2, i, j+1))"
   ]
  },
  {
   "cell_type": "code",
   "execution_count": 132,
   "id": "97b7b61a",
   "metadata": {},
   "outputs": [
    {
     "data": {
      "text/plain": [
       "4"
      ]
     },
     "execution_count": 132,
     "metadata": {},
     "output_type": "execute_result"
    }
   ],
   "source": [
    " lcs(s1, s2)"
   ]
  },
  {
   "cell_type": "markdown",
   "id": "55ad4e9f",
   "metadata": {},
   "source": [
    "## Memoization (top-down)\n",
    "\n",
    "Time complexity: $O(nm)$\\\n",
    "Space complexity: $O(nm)$"
   ]
  },
  {
   "cell_type": "code",
   "execution_count": 133,
   "id": "ad1bf2bd",
   "metadata": {},
   "outputs": [],
   "source": [
    "def lcs(s1, s2, i=0, j=0, lookup=None):\n",
    "    \n",
    "    lookup = {} if lookup is None else lookup\n",
    "    if (i, j) in lookup:\n",
    "        return lookup[(i, j)]\n",
    "    \n",
    "    if i == len(s1) or j == len(s2):\n",
    "        return 0\n",
    "    \n",
    "    elif s1[i] == s2[j]:\n",
    "        lookup[(i, j)] = 1 + lcs(s1, s2, i+1, j+1, lookup)\n",
    "        return lookup[(i, j)]\n",
    "    \n",
    "    else:\n",
    "        lookup[(i, j)] = max(lcs(s1, s2, i+1, j, lookup), lcs(s1, s2, i, j+1, lookup))\n",
    "        return lookup[(i, j)]"
   ]
  },
  {
   "cell_type": "code",
   "execution_count": 134,
   "id": "50d27209",
   "metadata": {},
   "outputs": [
    {
     "data": {
      "text/plain": [
       "4"
      ]
     },
     "execution_count": 134,
     "metadata": {},
     "output_type": "execute_result"
    }
   ],
   "source": [
    "lcs(s1, s2)"
   ]
  },
  {
   "cell_type": "markdown",
   "id": "d245b74d",
   "metadata": {},
   "source": [
    "## Tabulation (bottom-up)\n",
    "\n",
    "Time complexity: $O(nm)$\\\n",
    "Space complexity: $O(nm)$"
   ]
  },
  {
   "cell_type": "code",
   "execution_count": 136,
   "id": "1dbcc42b",
   "metadata": {},
   "outputs": [],
   "source": [
    "def lcs(s1, s2):\n",
    "    \n",
    "    n = len(s1)\n",
    "    m = len(s2)\n",
    "    \n",
    "    dp = [[0]*(m+1) for i in range(n+1)]\n",
    "    \n",
    "    for i in range(1, n+1):\n",
    "        for j in range(1, m+1):\n",
    "            if s1[i-1] == s2[j-1]:\n",
    "                dp[i][j] = 1 + dp[i-1][j-1]\n",
    "            else:\n",
    "                dp[i][j] = max(dp[i-1][j], dp[i][j-1])\n",
    "    \n",
    "    return dp[n][m]"
   ]
  },
  {
   "cell_type": "code",
   "execution_count": 137,
   "id": "ef7f71b9",
   "metadata": {},
   "outputs": [
    {
     "data": {
      "text/plain": [
       "4"
      ]
     },
     "execution_count": 137,
     "metadata": {},
     "output_type": "execute_result"
    }
   ],
   "source": [
    "lcs(s1, s2)"
   ]
  },
  {
   "cell_type": "markdown",
   "id": "d9fa5899",
   "metadata": {},
   "source": [
    "But we can do it in:\n",
    "\n",
    "Time complexity: $O(nm)$\\\n",
    "Space complexity: $O(m)$"
   ]
  },
  {
   "cell_type": "code",
   "execution_count": 139,
   "id": "d4565131",
   "metadata": {},
   "outputs": [],
   "source": [
    "def lcs(s1, s2):\n",
    "    \n",
    "    n = len(s1)\n",
    "    m = len(s2)\n",
    "    \n",
    "    prev_dp = [0]*(m+1)\n",
    "    dp = [0]*(m+1)\n",
    "    \n",
    "    for i in range(1, n+1):\n",
    "        for j in range(1, m+1):\n",
    "            if s1[i-1] == s2[j-1]:\n",
    "                dp[j] = 1 + prev_dp[j-1]\n",
    "            else:\n",
    "                dp[j] = max(prev_dp[j], dp[j-1])\n",
    "        prev_dp = dp\n",
    "        dp = [0]*(m+1)\n",
    "    \n",
    "    return prev_dp[m]"
   ]
  },
  {
   "cell_type": "code",
   "execution_count": 140,
   "id": "42b7287f",
   "metadata": {},
   "outputs": [
    {
     "data": {
      "text/plain": [
       "4"
      ]
     },
     "execution_count": 140,
     "metadata": {},
     "output_type": "execute_result"
    }
   ],
   "source": [
    "lcs(s1, s2)"
   ]
  },
  {
   "cell_type": "code",
   "execution_count": null,
   "id": "c3035c08",
   "metadata": {},
   "outputs": [],
   "source": []
  }
 ],
 "metadata": {
  "kernelspec": {
   "display_name": "Python 3 (ipykernel)",
   "language": "python",
   "name": "python3"
  },
  "language_info": {
   "codemirror_mode": {
    "name": "ipython",
    "version": 3
   },
   "file_extension": ".py",
   "mimetype": "text/x-python",
   "name": "python",
   "nbconvert_exporter": "python",
   "pygments_lexer": "ipython3",
   "version": "3.12.3"
  }
 },
 "nbformat": 4,
 "nbformat_minor": 5
}
