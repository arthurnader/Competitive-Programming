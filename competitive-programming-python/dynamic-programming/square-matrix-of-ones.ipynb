{
 "cells": [
  {
   "cell_type": "markdown",
   "id": "c5a4fdf6",
   "metadata": {},
   "source": [
    "## Square matrix of ones\n",
    "\n",
    "Given a matrix of ones and zeros, find the area of the greatest square submatrix full of ones.\n",
    "\n",
    "A square matrix is a matrix whose the number of rows is equal to the number of columns.\n",
    "\n",
    "\n",
    "### Example:\n",
    "\n",
    "intput:\n",
    "matrix = [\n",
    "   [0, 0, 1, 1, 1, 0],\n",
    "   [1, 0, 1, 1, 1, 1],\n",
    "   [0, 1, 1, 1, 1, 0],\n",
    "   [1, 1, 1, 1, 0, 1],\n",
    "   [0, 1, 0, 1, 1, 1]\n",
    "]\n",
    "\n",
    "output: 9\n",
    "\n",
    "explanation:\n",
    "\n",
    "<img src=\"matrix.png\" alt=\"Alt Text\" width=\"300\"/>"
   ]
  },
  {
   "cell_type": "markdown",
   "id": "ab5c1955",
   "metadata": {},
   "source": [
    "## The relation\n",
    "\n"
   ]
  },
  {
   "cell_type": "markdown",
   "id": "ab1d6f68",
   "metadata": {},
   "source": [
    "## The bottom-up approach:"
   ]
  },
  {
   "cell_type": "code",
   "execution_count": 17,
   "id": "ed6bd8d8",
   "metadata": {},
   "outputs": [],
   "source": [
    "matrix = [\n",
    "   [0, 0, 1, 1, 1, 0],\n",
    "   [1, 0, 1, 1, 1, 1],\n",
    "   [0, 1, 1, 1, 1, 0],\n",
    "   [1, 1, 1, 1, 0, 1],\n",
    "   [0, 1, 0, 1, 1, 1]\n",
    "]"
   ]
  },
  {
   "cell_type": "code",
   "execution_count": 18,
   "id": "5bbbed30",
   "metadata": {},
   "outputs": [],
   "source": [
    "def square(matrix):\n",
    "    \n",
    "    max_square = 0\n",
    "    \n",
    "    n_rows = len(matrix)\n",
    "    n_columns = len(matrix[0])\n",
    "    \n",
    "    dp = [[0]*n_columns for i in range(n_rows)]\n",
    "    \n",
    "    for j in range(n_columns):\n",
    "        dp[0][j] = matrix[0][j]\n",
    "        max_square = max(max_square, matrix[0][j])\n",
    "    \n",
    "    for i in range(n_rows):\n",
    "        dp[i][0] = matrix[i][0]\n",
    "        max_square = max(max_square, matrix[i][0])\n",
    "    \n",
    "    for j in range(1, n_columns):\n",
    "        for i in range(1, n_rows):\n",
    "            if matrix[i][j] == 1:\n",
    "                min_ = min(dp[i-1][j], dp[i][j-1], dp[i-1][j-1])\n",
    "                dp[i][j] = int((min_**0.5 + 1)**2)\n",
    "                max_square = max(max_square, dp[i][j])\n",
    "        \n",
    "    return max_square"
   ]
  },
  {
   "cell_type": "code",
   "execution_count": 19,
   "id": "ae3659ed",
   "metadata": {},
   "outputs": [
    {
     "data": {
      "text/plain": [
       "9"
      ]
     },
     "execution_count": 19,
     "metadata": {},
     "output_type": "execute_result"
    }
   ],
   "source": [
    "square(matrix)"
   ]
  },
  {
   "cell_type": "markdown",
   "id": "72fa1c20",
   "metadata": {},
   "source": [
    "## The original solution"
   ]
  },
  {
   "cell_type": "markdown",
   "id": "fc3d1686",
   "metadata": {},
   "source": [
    "## Recursive\n",
    "\n",
    "Time complexity: $O(3^{n+m})$\\\n",
    "Space complexity: $O(n+m)$"
   ]
  },
  {
   "cell_type": "code",
   "execution_count": 20,
   "id": "7f73fe44",
   "metadata": {},
   "outputs": [],
   "source": [
    "def rec(matrix, i, j):\n",
    "    if i < 0 or j < 0 or matrix[i][j] == 0:\n",
    "        return 0\n",
    "    else:\n",
    "        return 1 + min(rec(matrix, i-1, j), rec(matrix, i, j-1), rec(matrix, i-1, j-1))"
   ]
  },
  {
   "cell_type": "code",
   "execution_count": 24,
   "id": "69312f0e",
   "metadata": {},
   "outputs": [
    {
     "data": {
      "text/plain": [
       "1"
      ]
     },
     "execution_count": 24,
     "metadata": {},
     "output_type": "execute_result"
    }
   ],
   "source": [
    "rec(matrix, 4, 5)"
   ]
  },
  {
   "cell_type": "code",
   "execution_count": 25,
   "id": "6ad15008",
   "metadata": {},
   "outputs": [],
   "source": [
    "def square(matrix):\n",
    "    n, m = len(matrix), len(matrix[0])\n",
    "    max_size = 0\n",
    "    for i in range(n):\n",
    "        for j in range(m):\n",
    "            max_size = max(max_size, rec(matrix, i, j))\n",
    "    return max_size**2"
   ]
  },
  {
   "cell_type": "code",
   "execution_count": 26,
   "id": "d1e4ad89",
   "metadata": {},
   "outputs": [
    {
     "data": {
      "text/plain": [
       "9"
      ]
     },
     "execution_count": 26,
     "metadata": {},
     "output_type": "execute_result"
    }
   ],
   "source": [
    "square(matrix)"
   ]
  },
  {
   "cell_type": "markdown",
   "id": "64b505d6",
   "metadata": {},
   "source": [
    "## Memoization (top-down)\n",
    "\n",
    "Time complexity: $O(nm)$\\\n",
    "Space complexity: $O(nm)$"
   ]
  },
  {
   "cell_type": "code",
   "execution_count": 29,
   "id": "e4e9ddfb",
   "metadata": {},
   "outputs": [],
   "source": [
    "def rec(matrix, i, j, lookup):\n",
    "    if (i, j) in lookup:\n",
    "        return lookup[(i, j)]\n",
    "    if i < 0 or j < 0 or matrix[i][j] == 0:\n",
    "        return 0\n",
    "    else:\n",
    "        lookup[(i, j)] = 1 + min(rec(matrix, i-1, j, lookup), rec(matrix, i, j-1, lookup), rec(matrix, i-1, j-1, lookup))\n",
    "        return lookup[(i, j)]"
   ]
  },
  {
   "cell_type": "code",
   "execution_count": 30,
   "id": "2e4d0ebf",
   "metadata": {},
   "outputs": [],
   "source": [
    "def square(matrix):\n",
    "    n, m = len(matrix), len(matrix[0])\n",
    "    max_size = 0\n",
    "    lookup = {}\n",
    "    for i in range(n):\n",
    "        for j in range(m):\n",
    "            max_size = max(max_size, rec(matrix, i, j, lookup))\n",
    "    return max_size**2"
   ]
  },
  {
   "cell_type": "code",
   "execution_count": 31,
   "id": "89f5d116",
   "metadata": {},
   "outputs": [
    {
     "data": {
      "text/plain": [
       "9"
      ]
     },
     "execution_count": 31,
     "metadata": {},
     "output_type": "execute_result"
    }
   ],
   "source": [
    "square(matrix)"
   ]
  },
  {
   "cell_type": "markdown",
   "id": "cfda1056",
   "metadata": {},
   "source": [
    "## Tabulation (bottom-up)\n",
    "\n",
    "Time complexity: $O(nm)$\\\n",
    "Space complexity: $O(nm)$"
   ]
  },
  {
   "cell_type": "code",
   "execution_count": 32,
   "id": "95bb5f4f",
   "metadata": {},
   "outputs": [],
   "source": [
    "def square(matrix):\n",
    "    \n",
    "    n, m = len(matrix), len(matrix[0])\n",
    "    dp = [[0] * m for i in range(n)]\n",
    "    dp[0][0] = matrix[0][0]\n",
    "    \n",
    "    for j in range(1, m):\n",
    "        dp[0][j] = matrix[0][j]\n",
    "    \n",
    "    for i in range(1, n):\n",
    "        dp[i][0] = matrix[i][0]\n",
    "    \n",
    "    for i in range(1, n):\n",
    "        for j in range(1, m):\n",
    "            dp[i][j] = 0 if matrix[i][j] == 0 else 1 + min(dp[i-1][j], dp[i][j-1], dp[i-1][j-1])\n",
    "    \n",
    "    return max(map(max,dp))**2"
   ]
  },
  {
   "cell_type": "code",
   "execution_count": 33,
   "id": "2830a7d0",
   "metadata": {},
   "outputs": [
    {
     "data": {
      "text/plain": [
       "9"
      ]
     },
     "execution_count": 33,
     "metadata": {},
     "output_type": "execute_result"
    }
   ],
   "source": [
    "square(matrix)"
   ]
  },
  {
   "cell_type": "markdown",
   "id": "899fd013",
   "metadata": {},
   "source": [
    "But we can do it in:\n",
    "\n",
    "Time complexity: $O(nm)$\\\n",
    "Space complexity: $O(m)$"
   ]
  },
  {
   "cell_type": "code",
   "execution_count": 34,
   "id": "79728806",
   "metadata": {},
   "outputs": [],
   "source": [
    "def square(matrix):\n",
    "    \n",
    "    n, m = len(matrix), len(matrix[0])\n",
    "    prev_dp = [0]*m\n",
    "    dp = [0]*m\n",
    "    prev_dp[0] = matrix[0][0]\n",
    "    max_size = matrix[0][0]\n",
    "    \n",
    "    for j in range(1, m):\n",
    "        prev_dp[j] = matrix[0][j]\n",
    "        max_size = max(max_size, prev_dp[j])\n",
    "    \n",
    "    for i in range(1, n):\n",
    "        dp[0] = matrix[i][0]\n",
    "        for j in range(1, m):\n",
    "            dp[j] = 0 if matrix[i][j] == 0 else 1 + min(prev_dp[j], dp[j-1], prev_dp[j-1])\n",
    "        max_size = max(max_size, max(dp))\n",
    "        prev_dp = dp\n",
    "        dp = [0]*m\n",
    "    \n",
    "    return max_size**2"
   ]
  },
  {
   "cell_type": "code",
   "execution_count": 36,
   "id": "9797be45",
   "metadata": {},
   "outputs": [
    {
     "data": {
      "text/plain": [
       "9"
      ]
     },
     "execution_count": 36,
     "metadata": {},
     "output_type": "execute_result"
    }
   ],
   "source": [
    "square(matrix)"
   ]
  },
  {
   "cell_type": "code",
   "execution_count": null,
   "id": "8550f2a8",
   "metadata": {},
   "outputs": [],
   "source": []
  }
 ],
 "metadata": {
  "kernelspec": {
   "display_name": "Python 3 (ipykernel)",
   "language": "python",
   "name": "python3"
  },
  "language_info": {
   "codemirror_mode": {
    "name": "ipython",
    "version": 3
   },
   "file_extension": ".py",
   "mimetype": "text/x-python",
   "name": "python",
   "nbconvert_exporter": "python",
   "pygments_lexer": "ipython3",
   "version": "3.12.3"
  }
 },
 "nbformat": 4,
 "nbformat_minor": 5
}
