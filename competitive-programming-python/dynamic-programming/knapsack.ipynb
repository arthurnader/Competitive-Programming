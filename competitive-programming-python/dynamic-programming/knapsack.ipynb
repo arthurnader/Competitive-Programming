{
 "cells": [
  {
   "cell_type": "markdown",
   "id": "c5a4fdf6",
   "metadata": {},
   "source": [
    "## 0-1 knapsack\n",
    "\n",
    "Given the value and the weight of each one of n items, we want to maximize the value of items we take in our knapsack without exceeding its capacity k. You are asked to find the maximum total value that we can get without exceeding a total weight of k.\n",
    "\n",
    "Note that each item can be took at most once.\n",
    "\n",
    "\n",
    "### Example:\n",
    "\n",
    "input:\n",
    "values = [20, 30, 15, 25, 10]\n",
    "weights = [6, 13, 5, 10, 3]\n",
    "k = 20\n",
    "\n",
    "output: 55\n",
    "\n",
    "explanation: The maximum total value that we can get is 55, by taking items 0, 3, and 4, their total weight doesn't exceed k\n",
    "values[0]+values[3]+values[4] = 20+25+10 = 55\n",
    "weights[0]+weights[3]+weights[4] = 6+10+3 = 19 <= 20"
   ]
  },
  {
   "cell_type": "markdown",
   "id": "ab5c1955",
   "metadata": {},
   "source": [
    "## The relation\n"
   ]
  },
  {
   "cell_type": "code",
   "execution_count": 2,
   "id": "d7dbff41",
   "metadata": {},
   "outputs": [],
   "source": [
    "values = [20, 30, 15, 25, 10]\n",
    "weights = [6, 13, 5, 10, 3]\n",
    "k = 20"
   ]
  },
  {
   "cell_type": "markdown",
   "id": "ab1d6f68",
   "metadata": {},
   "source": [
    "## The bottom-up approach:"
   ]
  },
  {
   "cell_type": "code",
   "execution_count": 34,
   "id": "9c71dd67",
   "metadata": {},
   "outputs": [],
   "source": [
    "def knapsack(values, weights, k):\n",
    "    \n",
    "    dp = [[0]*(k+1) for _ in range(len(values))]\n",
    "    \n",
    "    for i in range(k+1):\n",
    "        dp[0][i] = values[0] if i >= weights[0] else 0\n",
    "        \n",
    "    for j in range(1, len(values)):\n",
    "        for i in range(1, k+1):\n",
    "            if weights[j] > i:\n",
    "                dp[j][i] = dp[j-1][i]\n",
    "            else:  \n",
    "                dp[j][i] = max(dp[j-1][i], values[j] + dp[j-1][i-weights[j]])\n",
    "    \n",
    "    return dp[-1][-1]\n",
    "    "
   ]
  },
  {
   "cell_type": "code",
   "execution_count": 35,
   "id": "0fe40c58",
   "metadata": {},
   "outputs": [
    {
     "name": "stdout",
     "output_type": "stream",
     "text": [
      "[0, 0, 0, 0, 0, 0, 20, 20, 20, 20, 20, 20, 20, 20, 20, 20, 20, 20, 20, 20, 20]\n",
      "[0, 0, 0, 0, 0, 0, 20, 20, 20, 20, 20, 20, 20, 30, 30, 30, 30, 30, 30, 50, 50]\n",
      "[0, 0, 0, 0, 0, 15, 20, 20, 20, 20, 20, 35, 35, 35, 35, 35, 35, 35, 45, 50, 50]\n",
      "[0, 0, 0, 0, 0, 15, 20, 20, 20, 20, 25, 35, 35, 35, 35, 40, 45, 45, 45, 50, 50]\n",
      "[0, 0, 0, 10, 10, 15, 20, 20, 25, 30, 30, 35, 35, 35, 45, 45, 45, 45, 50, 55, 55]\n"
     ]
    },
    {
     "data": {
      "text/plain": [
       "55"
      ]
     },
     "execution_count": 35,
     "metadata": {},
     "output_type": "execute_result"
    }
   ],
   "source": [
    "knapsack(values, weights, k)"
   ]
  },
  {
   "cell_type": "markdown",
   "id": "72fa1c20",
   "metadata": {},
   "source": [
    "## The original solution"
   ]
  },
  {
   "cell_type": "markdown",
   "id": "fc3d1686",
   "metadata": {},
   "source": [
    "## Recursive\n",
    "\n",
    "n is the number of elements\\\n",
    "Time complexity: $O(2^{n})$\\\n",
    "Space complexity: $O(n)$"
   ]
  },
  {
   "cell_type": "code",
   "execution_count": 37,
   "id": "d4db59a8",
   "metadata": {},
   "outputs": [],
   "source": [
    "def knapsack(values, weights, k, i=0):\n",
    "    \n",
    "    if i == len(values):\n",
    "        return 0\n",
    "    \n",
    "    elif weights[i] > k:\n",
    "        return knapsack(values, weights, k, i+1)\n",
    "    \n",
    "    else:\n",
    "        return max(values[i]+knapsack(values, weights, k-weights[i], i+1), knapsack(values, weights, k, i+1))"
   ]
  },
  {
   "cell_type": "code",
   "execution_count": 38,
   "id": "05773f59",
   "metadata": {},
   "outputs": [
    {
     "data": {
      "text/plain": [
       "55"
      ]
     },
     "execution_count": 38,
     "metadata": {},
     "output_type": "execute_result"
    }
   ],
   "source": [
    "knapsack(values, weights, k)"
   ]
  },
  {
   "cell_type": "markdown",
   "id": "64b505d6",
   "metadata": {},
   "source": [
    "## Memoization (top-down)\n",
    "\n",
    "Time complexity: $O(nk)$\\\n",
    "Space complexity: $O(nk)$"
   ]
  },
  {
   "cell_type": "code",
   "execution_count": 42,
   "id": "afd9b67b",
   "metadata": {},
   "outputs": [],
   "source": [
    "def knapsack(values, weights, k, i=0, lookup=None):\n",
    "    \n",
    "    lookup = {} if lookup is None else lookup\n",
    "    if (k, i) in lookup:\n",
    "        return lookup[(k, i)]\n",
    "    \n",
    "    elif i == len(values):\n",
    "        return 0\n",
    "    \n",
    "    elif weights[i] > k:\n",
    "        lookup[(k, i)] = knapsack(values, weights, k, i+1, lookup)\n",
    "        return lookup[(k, i)]\n",
    "    \n",
    "    else:\n",
    "        lookup[(k, i)] = max(values[i]+knapsack(values, weights, k-weights[i], i+1, lookup), knapsack(values, weights, k, i+1, lookup))\n",
    "        return lookup[(k, i)]"
   ]
  },
  {
   "cell_type": "code",
   "execution_count": 43,
   "id": "bec384f1",
   "metadata": {},
   "outputs": [
    {
     "data": {
      "text/plain": [
       "55"
      ]
     },
     "execution_count": 43,
     "metadata": {},
     "output_type": "execute_result"
    }
   ],
   "source": [
    "knapsack(values, weights, k)"
   ]
  },
  {
   "cell_type": "markdown",
   "id": "cfda1056",
   "metadata": {},
   "source": [
    "## Tabulation (bottom-up)\n",
    "\n",
    "Time complexity: $O(nk)$\\\n",
    "Space complexity: $O(nk)$"
   ]
  },
  {
   "cell_type": "code",
   "execution_count": 1,
   "id": "b8553797",
   "metadata": {},
   "outputs": [],
   "source": [
    "def knapsack(values, weights, k):\n",
    "   \n",
    "    if k == 0:\n",
    "        return 0\n",
    "    \n",
    "    elif k >= sum(weights):\n",
    "        return sum(values)\n",
    "    \n",
    "    n = len(values)\n",
    "    dp = [[0]*(k+1) for i in range(n)]\n",
    "    \n",
    "    for i in range(weights[0], k+1):\n",
    "        dp[0][i] = values[0]\n",
    "    \n",
    "    for i in range(1, n):\n",
    "        for j in range(k+1):\n",
    "            if weights[i] > j:\n",
    "                dp[i][j] = dp[i-1][j]\n",
    "            else:\n",
    "                dp[i][j] = max(values[i]+dp[i-1][j-weights[i]], dp[i-1][j])\n",
    "    \n",
    "    return dp[n-1][k]"
   ]
  },
  {
   "cell_type": "code",
   "execution_count": null,
   "id": "b869d34f",
   "metadata": {},
   "outputs": [],
   "source": []
  },
  {
   "cell_type": "markdown",
   "id": "899fd013",
   "metadata": {},
   "source": [
    "But we can do it in:\n",
    "\n",
    "Time complexity: $O(nk)$\\\n",
    "Space complexity: $O(k)$"
   ]
  },
  {
   "cell_type": "code",
   "execution_count": null,
   "id": "48f525ec",
   "metadata": {},
   "outputs": [],
   "source": [
    "def knapsack(values, weights, k):\n",
    "    \n",
    "    if k == 0:\n",
    "        return 0\n",
    "    elif k >= sum(weights):\n",
    "        return sum(values)\n",
    "    \n",
    "    n = len(values)\n",
    "    prev_dp = [0]*(k+1)\n",
    "    dp = [0]*(k+1)\n",
    "    \n",
    "    for i in range(weights[0], k+1):\n",
    "        prev_dp[i] = values[0]\n",
    "    \n",
    "    for i in range(1, n):\n",
    "        for j in range(k+1):\n",
    "            if weights[i] > j:\n",
    "                dp[j] = prev_dp[j]\n",
    "            else:\n",
    "                dp[j] = max(values[i]+prev_dp[j-weights[i]], prev_dp[j])\n",
    "        prev_dp = dp\n",
    "        dp = [0]*(k+1)\n",
    "    \n",
    "    return prev_dp[k]"
   ]
  },
  {
   "cell_type": "markdown",
   "id": "159fc227",
   "metadata": {},
   "source": [
    "In practice, memoization usually takes less time and space for this problem."
   ]
  },
  {
   "cell_type": "code",
   "execution_count": null,
   "id": "c7128873",
   "metadata": {},
   "outputs": [],
   "source": []
  }
 ],
 "metadata": {
  "kernelspec": {
   "display_name": "Python 3 (ipykernel)",
   "language": "python",
   "name": "python3"
  },
  "language_info": {
   "codemirror_mode": {
    "name": "ipython",
    "version": 3
   },
   "file_extension": ".py",
   "mimetype": "text/x-python",
   "name": "python",
   "nbconvert_exporter": "python",
   "pygments_lexer": "ipython3",
   "version": "3.12.3"
  }
 },
 "nbformat": 4,
 "nbformat_minor": 5
}
