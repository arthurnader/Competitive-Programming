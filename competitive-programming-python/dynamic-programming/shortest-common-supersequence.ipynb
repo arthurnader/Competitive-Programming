{
 "cells": [
  {
   "cell_type": "markdown",
   "id": "c5a4fdf6",
   "metadata": {},
   "source": [
    "## Shortest common supersequence (problem)\n",
    "\n",
    "Given two strings s1 and s2, find the length of their shortest common supersequence, the shortest string that has both s1 and s2 subsequences.\n",
    "\n",
    "A string A is a supersequence of a string B if B is a subsequence of A.\n",
    "\n",
    "\n",
    "### Example:\n",
    "\n",
    "input:\n",
    "s1 = \"abdacbab\"\n",
    "s2 = \"acebfca\"\n",
    "\n",
    "output: 11\n",
    "\n",
    "explanation: The shortest common supersequence of s1 and s2 is \"abdacebfcab\", its length is 11\n",
    "\n",
    "### \n",
    "\n",
    "<img src=\"scs.png\" alt=\"Alt Text\" width=\"300\"/>"
   ]
  },
  {
   "cell_type": "markdown",
   "id": "ab5c1955",
   "metadata": {},
   "source": [
    "## The relation\n"
   ]
  },
  {
   "cell_type": "markdown",
   "id": "ab1d6f68",
   "metadata": {},
   "source": [
    "## The bottom-up approach:"
   ]
  },
  {
   "cell_type": "code",
   "execution_count": 1,
   "id": "34a451ed",
   "metadata": {
    "scrolled": true
   },
   "outputs": [],
   "source": [
    "s1 = \"abdacbab\"\n",
    "s2 = \"acebfca\""
   ]
  },
  {
   "cell_type": "code",
   "execution_count": 4,
   "id": "43ca422f",
   "metadata": {
    "scrolled": true
   },
   "outputs": [],
   "source": [
    "def scs(s1, s2):\n",
    "    \n",
    "    dp = [[0]* (len(s1)+1) for _ in range(len(s2)+1)]\n",
    "    \n",
    "    for j in range(1, len(s1)+1): \n",
    "        dp[0][j] = j\n",
    "        \n",
    "    for i in range(1, len(s2)+1):\n",
    "        dp[i][0] = i\n",
    "        \n",
    "    for j in range(1, len(s2)+1):\n",
    "        for i in range(1, len(s1)+1):\n",
    "            if s1[i-1] == s2[j-1]:\n",
    "                dp[j][i] = max(dp[j-1][i-1] + 1, dp[j-1][i], dp[j][i-1]) \n",
    "            else:\n",
    "                dp[j][i] = 1 + min(dp[j-1][i-1] + 1, dp[j-1][i], dp[j][i-1])\n",
    "                \n",
    "    return dp[-1][-1]"
   ]
  },
  {
   "cell_type": "code",
   "execution_count": 5,
   "id": "c3a4ad46",
   "metadata": {
    "scrolled": true
   },
   "outputs": [
    {
     "data": {
      "text/plain": [
       "11"
      ]
     },
     "execution_count": 5,
     "metadata": {},
     "output_type": "execute_result"
    }
   ],
   "source": [
    "scs(s1, s2)"
   ]
  },
  {
   "cell_type": "markdown",
   "id": "72fa1c20",
   "metadata": {},
   "source": [
    "## The original solution"
   ]
  },
  {
   "cell_type": "markdown",
   "id": "52215c38",
   "metadata": {},
   "source": [
    "## Using the LCS"
   ]
  },
  {
   "cell_type": "code",
   "execution_count": 2,
   "id": "d2cf1af1",
   "metadata": {},
   "outputs": [],
   "source": [
    "def lcs(s1, s2):\n",
    "    \n",
    "    n = len(s1)\n",
    "    m = len(s2)\n",
    "    dp = [[0]*(m+1) for i in range(n+1)]\n",
    "    \n",
    "    for i in range(1, n+1):\n",
    "        for j in range(1, m+1):\n",
    "            if s1[i-1] == s2[j-1]:\n",
    "                dp[i][j] = 1 + dp[i-1][j-1]\n",
    "            else:\n",
    "                dp[i][j] = max(dp[i-1][j], dp[i][j-1])\n",
    "    \n",
    "    return dp[n][m]\n",
    "\n",
    "\n",
    "def scs(s1, s2):\n",
    "    return len(s1) + len(s2) - lcs(s1, s2)"
   ]
  },
  {
   "cell_type": "code",
   "execution_count": 3,
   "id": "2e8435cc",
   "metadata": {},
   "outputs": [
    {
     "data": {
      "text/plain": [
       "11"
      ]
     },
     "execution_count": 3,
     "metadata": {},
     "output_type": "execute_result"
    }
   ],
   "source": [
    "scs(s1, s2)"
   ]
  },
  {
   "cell_type": "markdown",
   "id": "fc3d1686",
   "metadata": {},
   "source": [
    "## Recursive\n",
    "\n",
    "Time complexity: $O(2^{n+m})$\\\n",
    "Space complexity: $O(n+m)$"
   ]
  },
  {
   "cell_type": "code",
   "execution_count": 5,
   "id": "43d3ff17",
   "metadata": {},
   "outputs": [],
   "source": [
    "def scs(s1, s2, i=0, j=0):\n",
    "    \n",
    "    if i == len(s1):\n",
    "        return len(s2)-j\n",
    "    \n",
    "    elif j == len(s2):\n",
    "        return len(s1)-i\n",
    "    \n",
    "    elif s1[i] == s2[j]:\n",
    "        return 1 + scs(s1, s2, i+1, j+1)\n",
    "    \n",
    "    else:\n",
    "        return 1 + min(scs(s1, s2, i+1, j), scs(s1, s2, i, j+1))"
   ]
  },
  {
   "cell_type": "code",
   "execution_count": 6,
   "id": "84abcaf8",
   "metadata": {},
   "outputs": [
    {
     "data": {
      "text/plain": [
       "11"
      ]
     },
     "execution_count": 6,
     "metadata": {},
     "output_type": "execute_result"
    }
   ],
   "source": [
    "scs(s1, s2)"
   ]
  },
  {
   "cell_type": "markdown",
   "id": "64b505d6",
   "metadata": {},
   "source": [
    "## Memoization (top-down)\n",
    "\n",
    "Time complexity: $O(nm)$\\\n",
    "Space complexity: $O(nm)$"
   ]
  },
  {
   "cell_type": "code",
   "execution_count": null,
   "id": "eb207bd7",
   "metadata": {},
   "outputs": [],
   "source": [
    "def scs(s1, s2, i=0, j=0, lookup=None):\n",
    "    \n",
    "    lookup = {} if lookup is None else lookup\n",
    "    \n",
    "    if (i, j) in lookup:\n",
    "        return lookup[(i, j)]\n",
    "    \n",
    "    if i == len(s1):\n",
    "        return len(s2)-j\n",
    "    \n",
    "    elif j == len(s2):\n",
    "        return len(s1)-i\n",
    "    \n",
    "    elif s1[i] == s2[j]:\n",
    "        lookup[(i, j)] = 1 + scs(s1, s2, i+1, j+1, lookup)\n",
    "        return lookup[(i, j)]\n",
    "    \n",
    "    else:\n",
    "        lookup[(i, j)] = 1 + min(scs(s1, s2, i+1, j, lookup), scs(s1, s2, i, j+1, lookup))\n",
    "        return lookup[(i, j)]"
   ]
  },
  {
   "cell_type": "code",
   "execution_count": null,
   "id": "176d5076",
   "metadata": {},
   "outputs": [],
   "source": []
  },
  {
   "cell_type": "markdown",
   "id": "cfda1056",
   "metadata": {},
   "source": [
    "## Tabulation (bottom-up)\n",
    "\n",
    "Time complexity: $O(nm)$\\\n",
    "Space complexity: $O(nm)$"
   ]
  },
  {
   "cell_type": "code",
   "execution_count": 7,
   "id": "025886b8",
   "metadata": {},
   "outputs": [],
   "source": [
    "def scs(s1, s2):\n",
    "    \n",
    "    n, m = len(s1), len(s2)\n",
    "    dp = [[0]*(m+1) for i in range(n+1)]\n",
    "    \n",
    "    for j in range(1, m+1):\n",
    "        dp[0][j] = j\n",
    "    \n",
    "    for i in range(1, n+1):\n",
    "        dp[i][0] = i\n",
    "    \n",
    "    for i in range(1, n+1):\n",
    "        for j in range(1, m+1):\n",
    "            if s1[i-1] == s2[j-1]:\n",
    "                dp[i][j] = 1 + dp[i-1][j-1]\n",
    "            else:\n",
    "                dp[i][j] = 1 + min(dp[i-1][j], dp[i][j-1])\n",
    "    \n",
    "    return dp[n][m]"
   ]
  },
  {
   "cell_type": "code",
   "execution_count": 8,
   "id": "7924f70f",
   "metadata": {},
   "outputs": [
    {
     "data": {
      "text/plain": [
       "11"
      ]
     },
     "execution_count": 8,
     "metadata": {},
     "output_type": "execute_result"
    }
   ],
   "source": [
    "scs(s1, s2)"
   ]
  },
  {
   "cell_type": "markdown",
   "id": "899fd013",
   "metadata": {},
   "source": [
    "But we can do it in:\n",
    "\n",
    "Time complexity: $O(nm)$\\\n",
    "Space complexity: $O(m)$"
   ]
  },
  {
   "cell_type": "code",
   "execution_count": 9,
   "id": "d4894ca3",
   "metadata": {},
   "outputs": [],
   "source": [
    "def scs(s1, s2):\n",
    "    \n",
    "    n, m = len(s1), len(s2)\n",
    "    prev_dp = [0]*(m+1)\n",
    "    dp = [0]*(m+1)\n",
    "    \n",
    "    for j in range(1, m+1):\n",
    "        prev_dp[j] = j\n",
    "    \n",
    "    for i in range(1, n+1):\n",
    "        dp[0] = i\n",
    "        for j in range(1, m+1):\n",
    "            if s1[i-1] == s2[j-1]:\n",
    "                dp[j] = 1 + prev_dp[j-1]\n",
    "            else:\n",
    "                dp[j] = 1 + min(prev_dp[j], dp[j-1])\n",
    "        prev_dp = dp\n",
    "        dp = [0]*(m+1)\n",
    "    \n",
    "    return prev_dp[m]"
   ]
  },
  {
   "cell_type": "code",
   "execution_count": 10,
   "id": "626c7a05",
   "metadata": {},
   "outputs": [
    {
     "data": {
      "text/plain": [
       "11"
      ]
     },
     "execution_count": 10,
     "metadata": {},
     "output_type": "execute_result"
    }
   ],
   "source": [
    "scs(s1, s2)"
   ]
  },
  {
   "cell_type": "code",
   "execution_count": null,
   "id": "8c1b920e",
   "metadata": {},
   "outputs": [],
   "source": []
  }
 ],
 "metadata": {
  "kernelspec": {
   "display_name": "Python 3 (ipykernel)",
   "language": "python",
   "name": "python3"
  },
  "language_info": {
   "codemirror_mode": {
    "name": "ipython",
    "version": 3
   },
   "file_extension": ".py",
   "mimetype": "text/x-python",
   "name": "python",
   "nbconvert_exporter": "python",
   "pygments_lexer": "ipython3",
   "version": "3.12.3"
  }
 },
 "nbformat": 4,
 "nbformat_minor": 5
}
