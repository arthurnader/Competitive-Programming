{
 "cells": [
  {
   "cell_type": "markdown",
   "id": "c5a4fdf6",
   "metadata": {},
   "source": [
    "## Longest increasing subsequence\n",
    "\n",
    "Given an array of integers arr, find the length of its longest increasing subsequence, its longest subsequence where each element is strictly greater than the previous one.\n",
    "\n",
    "\n",
    "### Example 1:\n",
    "\n",
    "input:\n",
    "arr = [7, 5, 2, 4, 7, 2, 3, 6, 4, 5, 12, 1, 7]\n",
    "\n",
    "output: 5\n",
    "\n",
    "explanation: A possible longest increasing subsequence is [2, 3, 4, 5, 7], its length is 5\n",
    "\n",
    "\n",
    "### Example 2:\n",
    "\n",
    "input:\n",
    "arr = [8, 5, 5, 3]\n",
    "\n",
    "output: 1\n",
    "\n",
    "explanation: The longest increasing subsequences that we can make are those that contain one element only, like [8]"
   ]
  },
  {
   "cell_type": "markdown",
   "id": "ab5c1955",
   "metadata": {},
   "source": [
    "## The relation"
   ]
  },
  {
   "cell_type": "markdown",
   "id": "ab1d6f68",
   "metadata": {},
   "source": [
    "## Recursive:"
   ]
  },
  {
   "cell_type": "code",
   "execution_count": 1,
   "id": "1d3d81d9",
   "metadata": {},
   "outputs": [],
   "source": [
    "def lis(arr, i = 0, last = -float('inf')):\n",
    "\n",
    "    if i == len(arr):\n",
    "        return 0\n",
    "    \n",
    "    elif arr[i] <= last:\n",
    "        return lis(arr, i+1, last)\n",
    "    \n",
    "    else:\n",
    "        return max(1+lis(arr, i+1, arr[i]), lis(arr, i+1, last))\n",
    "    "
   ]
  },
  {
   "cell_type": "code",
   "execution_count": 2,
   "id": "304219d6",
   "metadata": {},
   "outputs": [],
   "source": [
    "arr = [7, 5, 2, 4, 7, 2, 3, 6, 4, 5, 12, 1, 7]"
   ]
  },
  {
   "cell_type": "code",
   "execution_count": 3,
   "id": "7c4e53c8",
   "metadata": {},
   "outputs": [
    {
     "data": {
      "text/plain": [
       "5"
      ]
     },
     "execution_count": 3,
     "metadata": {},
     "output_type": "execute_result"
    }
   ],
   "source": [
    " lis(arr)"
   ]
  },
  {
   "cell_type": "markdown",
   "id": "72fa1c20",
   "metadata": {},
   "source": [
    "## The original solution"
   ]
  },
  {
   "cell_type": "markdown",
   "id": "fc3d1686",
   "metadata": {},
   "source": [
    "## Recursive\n",
    "\n",
    "Time complexity: $O(2^{n})$\\\n",
    "Space complexity: $O(n)$"
   ]
  },
  {
   "cell_type": "code",
   "execution_count": 6,
   "id": "ac23d1ee",
   "metadata": {},
   "outputs": [],
   "source": [
    "def lis(arr, i=0, prev=float(\"-inf\")):\n",
    "    if i == len(arr):\n",
    "        return 0\n",
    "    elif arr[i] <= prev:\n",
    "        return lis(arr, i+1, prev)\n",
    "    else:\n",
    "        return max(1+lis(arr, i+1, arr[i]), lis(arr, i+1, prev))"
   ]
  },
  {
   "cell_type": "code",
   "execution_count": 7,
   "id": "f6ff5cdc",
   "metadata": {},
   "outputs": [
    {
     "data": {
      "text/plain": [
       "5"
      ]
     },
     "execution_count": 7,
     "metadata": {},
     "output_type": "execute_result"
    }
   ],
   "source": [
    "lis(arr)"
   ]
  },
  {
   "cell_type": "markdown",
   "id": "dc8c3d7a",
   "metadata": {},
   "source": [
    "Time complexity: $O(2^{n})$\\\n",
    "Space complexity: $O(n)$"
   ]
  },
  {
   "cell_type": "code",
   "execution_count": 12,
   "id": "28dbabd0",
   "metadata": {},
   "outputs": [],
   "source": [
    "def lis(arr):\n",
    "    \n",
    "    def rec(arr, i):\n",
    "        maxlen = 0\n",
    "        \n",
    "        for j in range(i+1, len(arr)):\n",
    "            if arr[j] > arr[i]:\n",
    "                maxlen = max(maxlen, rec(arr, j))\n",
    "        return 1+maxlen\n",
    "    \n",
    "    return max([rec(arr, i) for i in range(len(arr))])"
   ]
  },
  {
   "cell_type": "code",
   "execution_count": 13,
   "id": "30edcb4b",
   "metadata": {},
   "outputs": [
    {
     "data": {
      "text/plain": [
       "5"
      ]
     },
     "execution_count": 13,
     "metadata": {},
     "output_type": "execute_result"
    }
   ],
   "source": [
    "lis(arr)"
   ]
  },
  {
   "cell_type": "markdown",
   "id": "64b505d6",
   "metadata": {},
   "source": [
    "## Memoization (top-down)\n",
    "\n",
    "Time complexity: $O(n^{2})$\\\n",
    "Space complexity: $O(n)$"
   ]
  },
  {
   "cell_type": "code",
   "execution_count": 15,
   "id": "9dd7ca49",
   "metadata": {},
   "outputs": [],
   "source": [
    "def lis(arr):\n",
    "    \n",
    "    def rec(arr, i, lookup=None):\n",
    "        if i in lookup:\n",
    "            return lookup[i]\n",
    "        max_len = 0\n",
    "        for j in range(i+1, len(arr)):\n",
    "            if arr[j] > arr[i]:\n",
    "                max_len = max(max_len, rec(arr, j, lookup))\n",
    "        lookup[i] = 1+max_len\n",
    "        return lookup[i]\n",
    "    \n",
    "    lookup = {}\n",
    "    \n",
    "    return max([rec(arr, i, lookup) for i in range(len(arr))])"
   ]
  },
  {
   "cell_type": "code",
   "execution_count": 16,
   "id": "c8b70f5a",
   "metadata": {},
   "outputs": [
    {
     "data": {
      "text/plain": [
       "5"
      ]
     },
     "execution_count": 16,
     "metadata": {},
     "output_type": "execute_result"
    }
   ],
   "source": [
    "lis(arr)"
   ]
  },
  {
   "cell_type": "markdown",
   "id": "cfda1056",
   "metadata": {},
   "source": [
    "## Tabulation (bottom-up)\n",
    "\n",
    "Time complexity: $O(n^{2})$\\\n",
    "Space complexity: $O(n)$"
   ]
  },
  {
   "cell_type": "code",
   "execution_count": 18,
   "id": "d72be36b",
   "metadata": {},
   "outputs": [],
   "source": [
    "def lis(arr):\n",
    "    n = len(arr)\n",
    "    dp = [0]*n\n",
    "    dp[0] = 1\n",
    "    \n",
    "    for i in range(1, n):\n",
    "        maxlen = 0\n",
    "        for j in range(i):\n",
    "            if arr[j] < arr[i] and dp[j] > maxlen:\n",
    "                maxlen = dp[j]\n",
    "        dp[i] = 1+maxlen\n",
    "    \n",
    "    return max(dp)"
   ]
  },
  {
   "cell_type": "code",
   "execution_count": 19,
   "id": "7509cd3a",
   "metadata": {},
   "outputs": [
    {
     "data": {
      "text/plain": [
       "5"
      ]
     },
     "execution_count": 19,
     "metadata": {},
     "output_type": "execute_result"
    }
   ],
   "source": [
    "lis(arr)"
   ]
  }
 ],
 "metadata": {
  "kernelspec": {
   "display_name": "Python 3 (ipykernel)",
   "language": "python",
   "name": "python3"
  },
  "language_info": {
   "codemirror_mode": {
    "name": "ipython",
    "version": 3
   },
   "file_extension": ".py",
   "mimetype": "text/x-python",
   "name": "python",
   "nbconvert_exporter": "python",
   "pygments_lexer": "ipython3",
   "version": "3.12.3"
  }
 },
 "nbformat": 4,
 "nbformat_minor": 5
}
