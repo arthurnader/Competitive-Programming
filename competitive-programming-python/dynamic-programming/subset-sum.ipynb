{
 "cells": [
  {
   "cell_type": "markdown",
   "id": "c5a4fdf6",
   "metadata": {},
   "source": [
    "## Subset sum\n",
    "\n",
    "Given an array arr of strictly positive integers, and an integer k, create a function that returns the number of subsets of arr that sum up to k.\n",
    "\n",
    "\n",
    "### Example 1:\n",
    "\n",
    "input:\n",
    "arr = [1, 2, 3, 1]\n",
    "k = 4\n",
    "\n",
    "output: 3\n",
    "\n",
    "explanation: subsets that sum up to k are [1, 2, 1], [1, 3], and [3, 1]\n",
    "\n",
    "\n",
    "### Example 2:\n",
    "\n",
    "input:\n",
    "arr = [1, 2, 3, 1, 4],\n",
    "k = 6\n",
    "\n",
    "output: 4\n",
    "\n",
    "explanation: subsets that sum up to k are [1, 2, 3], [1, 1, 4], [2, 3, 1], and [2, 4]\n",
    "\n",
    "\n",
    "### Example 3:\n",
    "\n",
    "input:\n",
    "arr = [2, 4, 2, 6, 8]\n",
    "k = 7\n",
    "\n",
    "output: 0\n",
    "\n",
    "explanation: there are no subsets that sum up to k"
   ]
  },
  {
   "cell_type": "markdown",
   "id": "ab5c1955",
   "metadata": {},
   "source": [
    "## The relation\n"
   ]
  },
  {
   "cell_type": "markdown",
   "id": "ab1d6f68",
   "metadata": {},
   "source": [
    "## The top-down approach:"
   ]
  },
  {
   "cell_type": "code",
   "execution_count": 1,
   "id": "4e821e13",
   "metadata": {},
   "outputs": [],
   "source": [
    "arr = [1, 2, 3, 1, 4, 4, 12, 2, 32, 5, 23, 5, 6, 4, 1, 2, 3, 1, 4, 4, 12, 2, 32, 5, 23, 5, 6, 4]\n",
    "k = 32"
   ]
  },
  {
   "cell_type": "code",
   "execution_count": 75,
   "id": "9ab47fc7",
   "metadata": {},
   "outputs": [],
   "source": [
    "def subsets(arr, k):\n",
    "    \n",
    "    if k == 0:\n",
    "        return 1\n",
    "    \n",
    "    elif arr == [] or k < 0:\n",
    "        return 0\n",
    "\n",
    "    else:\n",
    "        return subsets(arr[1:], k) + subsets(arr[1:], k-arr[0])\n",
    "    "
   ]
  },
  {
   "cell_type": "code",
   "execution_count": 76,
   "id": "e66aa07b",
   "metadata": {},
   "outputs": [
    {
     "data": {
      "text/plain": [
       "223262"
      ]
     },
     "execution_count": 76,
     "metadata": {},
     "output_type": "execute_result"
    }
   ],
   "source": [
    "subsets(arr, k)"
   ]
  },
  {
   "cell_type": "code",
   "execution_count": 77,
   "id": "5af1a673",
   "metadata": {},
   "outputs": [],
   "source": [
    "def subsets(arr, k, i=0, lookup = None):\n",
    "    \n",
    "    lookup = {} if lookup == None else lookup\n",
    "    if (k,i) in lookup:\n",
    "        return lookup[(k,i)]\n",
    "    \n",
    "    if k == 0:\n",
    "        return 1\n",
    "    \n",
    "    elif arr == [] or k < 0:\n",
    "        return 0\n",
    "\n",
    "    else:\n",
    "        lookup[(k,i)] = subsets(arr[1:], k, i+1, lookup) + subsets(arr[1:], k-arr[0], i+1, lookup)\n",
    "        return lookup[(k,i)]"
   ]
  },
  {
   "cell_type": "code",
   "execution_count": 78,
   "id": "d65bb7b9",
   "metadata": {},
   "outputs": [
    {
     "data": {
      "text/plain": [
       "223262"
      ]
     },
     "execution_count": 78,
     "metadata": {},
     "output_type": "execute_result"
    }
   ],
   "source": [
    "subsets(arr, k)"
   ]
  },
  {
   "cell_type": "markdown",
   "id": "72fa1c20",
   "metadata": {},
   "source": [
    "## The original solution\n",
    "\n",
    "Consider n = |arr|"
   ]
  },
  {
   "cell_type": "markdown",
   "id": "fc3d1686",
   "metadata": {},
   "source": [
    "## Recursive\n",
    "\n",
    "Time complexity: $O(2^{n})$\\\n",
    "Space complexity: $O(n)$"
   ]
  },
  {
   "cell_type": "code",
   "execution_count": 2,
   "id": "863e1692",
   "metadata": {},
   "outputs": [],
   "source": [
    "def subsets(arr, k, i=0):\n",
    "    if k == 0:\n",
    "        return 1\n",
    "    elif i == len(arr) or k < 0:\n",
    "        return 0\n",
    "    else:\n",
    "        return subsets(arr, k-arr[i], i+1) + subsets(arr, k, i+1)\n"
   ]
  },
  {
   "cell_type": "code",
   "execution_count": 3,
   "id": "830020c2",
   "metadata": {},
   "outputs": [
    {
     "data": {
      "text/plain": [
       "223262"
      ]
     },
     "execution_count": 3,
     "metadata": {},
     "output_type": "execute_result"
    }
   ],
   "source": [
    "subsets(arr, k)"
   ]
  },
  {
   "cell_type": "markdown",
   "id": "64b505d6",
   "metadata": {},
   "source": [
    "## Memoization (top-down)\n",
    "\n",
    "Time complexity: $O(nk)$\\\n",
    "Space complexity: $O(nk)$"
   ]
  },
  {
   "cell_type": "code",
   "execution_count": 4,
   "id": "c5b95f82",
   "metadata": {},
   "outputs": [],
   "source": [
    "def subsets(arr, k, i=0, lookup=None):\n",
    "    lookup = {} if lookup is None else lookup\n",
    "    if (i, k) in lookup:\n",
    "        return lookup[(i, k)]\n",
    "    if k == 0:\n",
    "        return 1\n",
    "    elif i == len(arr) or k < 0:\n",
    "        return 0\n",
    "    else:\n",
    "        lookup[(i, k)] = subsets(arr, k-arr[i], i+1, lookup) + subsets(arr, k, i+1, lookup)\n",
    "        return lookup[(i, k)]"
   ]
  },
  {
   "cell_type": "code",
   "execution_count": 5,
   "id": "671ab239",
   "metadata": {},
   "outputs": [
    {
     "data": {
      "text/plain": [
       "223262"
      ]
     },
     "execution_count": 5,
     "metadata": {},
     "output_type": "execute_result"
    }
   ],
   "source": [
    "subsets(arr, k)"
   ]
  },
  {
   "cell_type": "markdown",
   "id": "cfda1056",
   "metadata": {},
   "source": [
    "## Tabulation (bottom-up)\n",
    "\n",
    "Time complexity: $O(nk)$\\\n",
    "Space complexity: $O(nk)$"
   ]
  },
  {
   "cell_type": "code",
   "execution_count": 7,
   "id": "b9bdd186",
   "metadata": {},
   "outputs": [],
   "source": [
    "def subsets(arr, k):\n",
    "    \n",
    "    n = len(arr)\n",
    "    if k > sum(arr) or n == 0:\n",
    "        return 0\n",
    "    \n",
    "    dp = [[0]*(k+1) for i in range(n)]\n",
    "    dp[0][0] = 1\n",
    "    \n",
    "    if arr[0] <= k:\n",
    "        dp[0][arr[0]] = 1\n",
    "    \n",
    "    for i in range(1, n):\n",
    "        for j in range(k + 1):\n",
    "            dp[i][j] = dp[i-1][j] + (dp[i-1][j-arr[i]] if j-arr[i] >= 0 else 0)\n",
    "    \n",
    "    return dp[n-1][k]"
   ]
  },
  {
   "cell_type": "code",
   "execution_count": 8,
   "id": "060f1245",
   "metadata": {},
   "outputs": [
    {
     "data": {
      "text/plain": [
       "223262"
      ]
     },
     "execution_count": 8,
     "metadata": {},
     "output_type": "execute_result"
    }
   ],
   "source": [
    "subsets(arr, k)"
   ]
  },
  {
   "cell_type": "markdown",
   "id": "899fd013",
   "metadata": {},
   "source": [
    "But we can do it in:\n",
    "\n",
    "Time complexity: $O(nk)$\\\n",
    "Space complexity: $O(k)$"
   ]
  },
  {
   "cell_type": "code",
   "execution_count": 10,
   "id": "2eb95190",
   "metadata": {},
   "outputs": [],
   "source": [
    "def subsets(arr, k):\n",
    "    n = len(arr)\n",
    "    if k > sum(arr) or n == 0:\n",
    "        return 0\n",
    "    \n",
    "    prev_dp = [0]*(k+1)\n",
    "    dp = [0]*(k+1)\n",
    "    prev_dp[0] = 1\n",
    "    \n",
    "    if arr[0] <= k:\n",
    "        prev_dp[arr[0]] = 1\n",
    "    \n",
    "    for i in range(1, n):\n",
    "        for j in range(k+1):\n",
    "            dp[j] = prev_dp[j] + (prev_dp[j-arr[i]] if j-arr[i] >= 0 else 0)\n",
    "        prev_dp = dp\n",
    "        dp = [0]*(k+1)\n",
    "    \n",
    "    return prev_dp[k]"
   ]
  },
  {
   "cell_type": "code",
   "execution_count": 11,
   "id": "525adee8",
   "metadata": {},
   "outputs": [
    {
     "data": {
      "text/plain": [
       "223262"
      ]
     },
     "execution_count": 11,
     "metadata": {},
     "output_type": "execute_result"
    }
   ],
   "source": [
    "subsets(arr, k)"
   ]
  },
  {
   "cell_type": "code",
   "execution_count": null,
   "id": "3e91a23c",
   "metadata": {},
   "outputs": [],
   "source": []
  }
 ],
 "metadata": {
  "kernelspec": {
   "display_name": "Python 3 (ipykernel)",
   "language": "python",
   "name": "python3"
  },
  "language_info": {
   "codemirror_mode": {
    "name": "ipython",
    "version": 3
   },
   "file_extension": ".py",
   "mimetype": "text/x-python",
   "name": "python",
   "nbconvert_exporter": "python",
   "pygments_lexer": "ipython3",
   "version": "3.12.3"
  }
 },
 "nbformat": 4,
 "nbformat_minor": 5
}
