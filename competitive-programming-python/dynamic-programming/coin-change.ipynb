{
 "cells": [
  {
   "cell_type": "markdown",
   "id": "c5a4fdf6",
   "metadata": {},
   "source": [
    "## Coin change\n",
    "\n",
    "Given an integer that represents an amount of money and a list of possible coins, find the minimum number of coins to make that amount.\n",
    "\n",
    "Return -1 if it's not possible to make the amount with the given coins.\n",
    "\n",
    "### Example:\n",
    "\n",
    "input:\n",
    "amount = 15\n",
    "possible_coins = [2, 3, 7]\n",
    "\n",
    "output: 4\n",
    "\n",
    "explanation: We can make the amount 15 by taking 4 coins only, one coin of value 2, two coins of value 3, and one coin of value 7\\\n",
    "2+3+3+7 = 15"
   ]
  },
  {
   "cell_type": "markdown",
   "id": "ab5c1955",
   "metadata": {},
   "source": [
    "## The relation\n"
   ]
  },
  {
   "cell_type": "markdown",
   "id": "ab1d6f68",
   "metadata": {},
   "source": [
    "## The bottom-up approach:"
   ]
  },
  {
   "cell_type": "code",
   "execution_count": 45,
   "id": "20469439",
   "metadata": {},
   "outputs": [],
   "source": [
    "import sys"
   ]
  },
  {
   "cell_type": "code",
   "execution_count": 81,
   "id": "c8fbd5c7",
   "metadata": {},
   "outputs": [
    {
     "data": {
      "text/plain": [
       "inf"
      ]
     },
     "execution_count": 81,
     "metadata": {},
     "output_type": "execute_result"
    }
   ],
   "source": [
    "# or\n",
    "float('inf')    "
   ]
  },
  {
   "cell_type": "code",
   "execution_count": 46,
   "id": "61ce3040",
   "metadata": {},
   "outputs": [],
   "source": [
    "amount = 15\n",
    "possible_coins = [2,3,7]"
   ]
  },
  {
   "cell_type": "code",
   "execution_count": 54,
   "id": "ec737855",
   "metadata": {},
   "outputs": [],
   "source": [
    "def coins(amount, possible_coins):\n",
    "     \n",
    "    dp = [sys.maxsize] * (amount+1)\n",
    "    dp[0] = 0\n",
    "    \n",
    "    for i in range(1, amount+1):\n",
    "        for coin in possible_coins:\n",
    "            if i-coin >= 0:\n",
    "                dp[i] = min(dp[i], dp[i-coin] + 1)\n",
    "\n",
    "    return dp[-1] if dp[-1] != sys.maxsize else -1"
   ]
  },
  {
   "cell_type": "code",
   "execution_count": 55,
   "id": "85963f97",
   "metadata": {},
   "outputs": [
    {
     "data": {
      "text/plain": [
       "4"
      ]
     },
     "execution_count": 55,
     "metadata": {},
     "output_type": "execute_result"
    }
   ],
   "source": [
    "coins(amount, possible_coins)"
   ]
  },
  {
   "cell_type": "code",
   "execution_count": 56,
   "id": "d7d7d7de",
   "metadata": {},
   "outputs": [
    {
     "data": {
      "text/plain": [
       "-1"
      ]
     },
     "execution_count": 56,
     "metadata": {},
     "output_type": "execute_result"
    }
   ],
   "source": [
    "coins(23, [3])"
   ]
  },
  {
   "cell_type": "markdown",
   "id": "7b5ae509",
   "metadata": {},
   "source": [
    "## Top-down"
   ]
  },
  {
   "cell_type": "code",
   "execution_count": 74,
   "id": "824c928d",
   "metadata": {},
   "outputs": [],
   "source": [
    "def coins(amount, possible_coins, lookup = None):\n",
    "     \n",
    "    lookup = {} if lookup is None else lookup\n",
    "    if amount in lookup:\n",
    "        return lookup[amount]\n",
    "    \n",
    "    if amount < 0:\n",
    "        return sys.maxsize\n",
    "    \n",
    "    elif amount == 0:\n",
    "        return 0\n",
    "    \n",
    "    else:\n",
    "        lookup[amount] = 1 + min([coins(amount - value, possible_coins, lookup) for value in possible_coins])\n",
    "        return lookup[amount]"
   ]
  },
  {
   "cell_type": "code",
   "execution_count": 75,
   "id": "c00789fc",
   "metadata": {},
   "outputs": [
    {
     "data": {
      "text/plain": [
       "4"
      ]
     },
     "execution_count": 75,
     "metadata": {},
     "output_type": "execute_result"
    }
   ],
   "source": [
    "coins(amount, possible_coins)"
   ]
  },
  {
   "cell_type": "code",
   "execution_count": 76,
   "id": "bcd845a9",
   "metadata": {},
   "outputs": [
    {
     "data": {
      "text/plain": [
       "9223372036854775815"
      ]
     },
     "execution_count": 76,
     "metadata": {},
     "output_type": "execute_result"
    }
   ],
   "source": [
    "coins(23, [3])"
   ]
  },
  {
   "cell_type": "markdown",
   "id": "72fa1c20",
   "metadata": {},
   "source": [
    "## The original solution"
   ]
  },
  {
   "cell_type": "markdown",
   "id": "fc3d1686",
   "metadata": {},
   "source": [
    "## Recursive\n",
    "\n",
    "Time complexity: $O(|possible\\_coins|*2^{amount})$\\\n",
    "Space complexity: $O(amount)$"
   ]
  },
  {
   "cell_type": "code",
   "execution_count": 77,
   "id": "4d4a50a8",
   "metadata": {},
   "outputs": [],
   "source": [
    "def coins(amount, possible_coins):\n",
    "    \n",
    "    def _coins(amount, possible_coins):\n",
    "        if amount == 0:\n",
    "            return 0\n",
    "        else:\n",
    "            min_coins = float(\"inf\")\n",
    "            for coin in possible_coins:\n",
    "                if (amount-coin) >= 0:\n",
    "                    min_coins = min(min_coins, 1+_coins(amount-coin, possible_coins))\n",
    "            return min_coins\n",
    "    \n",
    "    min_coins = _coins(amount, possible_coins)\n",
    "    \n",
    "    return -1 if min_coins == float(\"inf\") else min_coins"
   ]
  },
  {
   "cell_type": "code",
   "execution_count": 78,
   "id": "bb8cc16d",
   "metadata": {},
   "outputs": [
    {
     "data": {
      "text/plain": [
       "4"
      ]
     },
     "execution_count": 78,
     "metadata": {},
     "output_type": "execute_result"
    }
   ],
   "source": [
    "coins(amount, possible_coins)"
   ]
  },
  {
   "cell_type": "markdown",
   "id": "64b505d6",
   "metadata": {},
   "source": [
    "## Memoization (top-down)\n",
    "\n",
    "Time complexity: $O(amount*|possible\\_coins|)$\\\n",
    "Space complexity: $O(amount)$"
   ]
  },
  {
   "cell_type": "code",
   "execution_count": 83,
   "id": "92834a99",
   "metadata": {},
   "outputs": [],
   "source": [
    "def coins(amount, possible_coins):\n",
    "    \n",
    "    def _coins(amount, possible_coins, lookup=None):\n",
    "        \n",
    "        lookup = {} if lookup is None else lookup\n",
    "        if amount in lookup:\n",
    "            return lookup[amount]\n",
    "        \n",
    "        if amount == 0:\n",
    "            return 0\n",
    "        \n",
    "        else:\n",
    "            min_coins = float(\"inf\")\n",
    "            for coin in possible_coins:\n",
    "                if (amount-coin) >= 0:\n",
    "                    min_coins = min(min_coins, 1+_coins(amount-coin, possible_coins, lookup))\n",
    "            lookup[amount] = min_coins\n",
    "            return lookup[amount]\n",
    "    \n",
    "    min_coins = _coins(amount, possible_coins)\n",
    "    \n",
    "    return -1 if min_coins == float(\"inf\") else min_coins"
   ]
  },
  {
   "cell_type": "code",
   "execution_count": 84,
   "id": "9d9188ee",
   "metadata": {},
   "outputs": [
    {
     "data": {
      "text/plain": [
       "4"
      ]
     },
     "execution_count": 84,
     "metadata": {},
     "output_type": "execute_result"
    }
   ],
   "source": [
    "coins(amount, possible_coins)"
   ]
  },
  {
   "cell_type": "markdown",
   "id": "cfda1056",
   "metadata": {},
   "source": [
    "## Tabulation (bottom-up)\n",
    "\n",
    "Time complexity: $O(amount * |possible\\_coins|)$\\\n",
    "Space complexity: $O(amount)$"
   ]
  },
  {
   "cell_type": "code",
   "execution_count": 85,
   "id": "b8b76a27",
   "metadata": {},
   "outputs": [],
   "source": [
    "def coins(amount, possible_coins):\n",
    "    \n",
    "    dp = [float(\"inf\")]*(amount+1)\n",
    "    dp[0] = 0\n",
    "    \n",
    "    for i in range(1, amount+1):\n",
    "        for coin in possible_coins:\n",
    "            if (i-coin) >= 0:\n",
    "                dp[i] = min(dp[i], 1+dp[i-coin])\n",
    "    \n",
    "    return -1 if dp[amount] == float(\"inf\") else dp[amount]"
   ]
  },
  {
   "cell_type": "code",
   "execution_count": 86,
   "id": "20255d5d",
   "metadata": {},
   "outputs": [
    {
     "data": {
      "text/plain": [
       "4"
      ]
     },
     "execution_count": 86,
     "metadata": {},
     "output_type": "execute_result"
    }
   ],
   "source": [
    "coins(amount, possible_coins)"
   ]
  },
  {
   "cell_type": "code",
   "execution_count": null,
   "id": "79ff64da",
   "metadata": {},
   "outputs": [],
   "source": []
  }
 ],
 "metadata": {
  "kernelspec": {
   "display_name": "Python 3 (ipykernel)",
   "language": "python",
   "name": "python3"
  },
  "language_info": {
   "codemirror_mode": {
    "name": "ipython",
    "version": 3
   },
   "file_extension": ".py",
   "mimetype": "text/x-python",
   "name": "python",
   "nbconvert_exporter": "python",
   "pygments_lexer": "ipython3",
   "version": "3.12.3"
  }
 },
 "nbformat": 4,
 "nbformat_minor": 5
}
