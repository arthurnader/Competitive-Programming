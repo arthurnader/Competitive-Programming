{
 "cells": [
  {
   "cell_type": "markdown",
   "id": "6b379a10",
   "metadata": {},
   "source": [
    "## House robber (problem)\n",
    "\n",
    "Given an array of integers arr where arr[i] represents the amount of money in the house i, you are asked to find the maximum amount of money that a robber can steal knowing that he can't steal two adjacent houses because the security systems would automatically call the police\n",
    "\n",
    "\n",
    "### Example:\n",
    "input: arr = [2, 10, 3, 6, 8, 1, 7]\\\n",
    "output: 25\\\n",
    "explanation: The greatest amount of money that a robber can get is 25, by the stealing the house 1, 4, and 6 (arr[1]+arr[4]+arr[6] = 10+8+7 = 25)\n",
    "\n",
    "\n"
   ]
  },
  {
   "cell_type": "markdown",
   "id": "fe0f16e1",
   "metadata": {},
   "source": [
    "## The relation\n",
    "\n",
    "robbery[i] = arr[i], if i == 0 or i == 1\\\n",
    "robbery[i] = max(robbery[i-1], robbery[i-2] + arr[i]), if i > 1\n"
   ]
  },
  {
   "cell_type": "markdown",
   "id": "d5c5bdad",
   "metadata": {},
   "source": [
    "## The bottom-up approach:"
   ]
  },
  {
   "cell_type": "code",
   "execution_count": 36,
   "id": "0195246b",
   "metadata": {},
   "outputs": [],
   "source": [
    "arr = [2, 10, 3, 6, 8, 1, 7]"
   ]
  },
  {
   "cell_type": "code",
   "execution_count": 37,
   "id": "09c3e62b",
   "metadata": {},
   "outputs": [],
   "source": [
    "def rob(arr):\n",
    "    \n",
    "    if len(arr) == 1:\n",
    "        return arr[0]\n",
    "    \n",
    "    dp = [0]*(len(arr)+1)\n",
    "    dp[1] = arr[0]\n",
    "    \n",
    "    for i in range(2, len(arr)+1):\n",
    "        \n",
    "        dp[i] = max(dp[i-1], dp[i-2] + arr[i-1])\n",
    "\n",
    "    return dp[-1]"
   ]
  },
  {
   "cell_type": "code",
   "execution_count": 38,
   "id": "d91589af",
   "metadata": {},
   "outputs": [
    {
     "data": {
      "text/plain": [
       "25"
      ]
     },
     "execution_count": 38,
     "metadata": {},
     "output_type": "execute_result"
    }
   ],
   "source": [
    "rob(arr)"
   ]
  },
  {
   "cell_type": "code",
   "execution_count": 39,
   "id": "de466503",
   "metadata": {},
   "outputs": [
    {
     "data": {
      "text/plain": [
       "251"
      ]
     },
     "execution_count": 39,
     "metadata": {},
     "output_type": "execute_result"
    }
   ],
   "source": [
    "rob([127, 85, 75, 124])"
   ]
  },
  {
   "cell_type": "markdown",
   "id": "47f8a121",
   "metadata": {},
   "source": [
    "## The original solution\n",
    "\n",
    "## Recursive\n",
    "\n",
    "Time complexity: $O(\\phi^{n})$\\\n",
    "Space complexity: $O(n)$"
   ]
  },
  {
   "cell_type": "code",
   "execution_count": 46,
   "id": "06766b49",
   "metadata": {},
   "outputs": [],
   "source": [
    "def rob(arr, i = 0):\n",
    "    \n",
    "    if i >= len(arr):\n",
    "        return 0\n",
    "    else:\n",
    "        return max(arr[i] + rob(arr, i+2), rob(arr, i+1))"
   ]
  },
  {
   "cell_type": "code",
   "execution_count": 47,
   "id": "9756ddcf",
   "metadata": {},
   "outputs": [
    {
     "data": {
      "text/plain": [
       "251"
      ]
     },
     "execution_count": 47,
     "metadata": {},
     "output_type": "execute_result"
    }
   ],
   "source": [
    "rob([127, 85, 75, 124])"
   ]
  },
  {
   "cell_type": "markdown",
   "id": "4d0cb733",
   "metadata": {},
   "source": [
    "## Memoization (top-down)\n",
    "\n",
    "Time complexity: $O(n)$\\\n",
    "Space complexity: $O(n)$"
   ]
  },
  {
   "cell_type": "code",
   "execution_count": 50,
   "id": "1e4cdf8d",
   "metadata": {},
   "outputs": [],
   "source": [
    "def rob(arr, i = 0, lookup = None):\n",
    "    \n",
    "    lookup = {} if lookup is None else lookup\n",
    "    if i in lookup:\n",
    "        return lookup[i]\n",
    "    \n",
    "    if i >= len(arr):\n",
    "        return 0\n",
    "    else:\n",
    "        lookup[i] = max(arr[i] + rob(arr, i+2, lookup), rob(arr, i+1, lookup))\n",
    "        return lookup[i]"
   ]
  },
  {
   "cell_type": "code",
   "execution_count": 51,
   "id": "d2e4ca09",
   "metadata": {},
   "outputs": [
    {
     "data": {
      "text/plain": [
       "251"
      ]
     },
     "execution_count": 51,
     "metadata": {},
     "output_type": "execute_result"
    }
   ],
   "source": [
    "rob([127, 85, 75, 124])"
   ]
  },
  {
   "cell_type": "markdown",
   "id": "05d2c8c0",
   "metadata": {},
   "source": [
    "## Tabulation (bottom-up)\n",
    "\n",
    "Time complexity: $O(n)$\\\n",
    "Space complexity: $O(n)$"
   ]
  },
  {
   "cell_type": "code",
   "execution_count": 52,
   "id": "81405da3",
   "metadata": {},
   "outputs": [],
   "source": [
    "def rob(arr):\n",
    "    n = len(arr)\n",
    "    \n",
    "    if n == 1:\n",
    "        return arr[0]\n",
    "    \n",
    "    dp = [0]*n\n",
    "    dp[0] = arr[0]\n",
    "    dp[1] = max(arr[0], arr[1])\n",
    "    \n",
    "    for i in range(2, n):\n",
    "        dp[i] = max(dp[i-1], arr[i]+dp[i-2])\n",
    "    \n",
    "    return dp[n-1]"
   ]
  },
  {
   "cell_type": "code",
   "execution_count": 53,
   "id": "e614355f",
   "metadata": {},
   "outputs": [
    {
     "data": {
      "text/plain": [
       "34"
      ]
     },
     "execution_count": 53,
     "metadata": {},
     "output_type": "execute_result"
    }
   ],
   "source": [
    "arr = [4, 8, 12, 1, 2, 10, 3, 6, 8]\n",
    "rob(arr)"
   ]
  },
  {
   "cell_type": "markdown",
   "id": "b730ef8e",
   "metadata": {},
   "source": [
    "Time complexity: $O(n)$\\\n",
    "Space complexity: $O(1)$"
   ]
  },
  {
   "cell_type": "code",
   "execution_count": 54,
   "id": "46ae0384",
   "metadata": {},
   "outputs": [],
   "source": [
    "def rob(arr):\n",
    "    \n",
    "    n = len(arr)\n",
    "    \n",
    "    if n == 1:\n",
    "        return arr[0]\n",
    "    \n",
    "    before_prev_dp = arr[0]\n",
    "    prev_dp = max(arr[0], arr[1])\n",
    "    \n",
    "    for i in range(2, n):\n",
    "        dp = max(prev_dp, arr[i]+before_prev_dp)\n",
    "        before_prev_dp = prev_dp\n",
    "        prev_dp = dp\n",
    "    \n",
    "    return prev_dp"
   ]
  },
  {
   "cell_type": "code",
   "execution_count": 55,
   "id": "b3515720",
   "metadata": {},
   "outputs": [
    {
     "data": {
      "text/plain": [
       "34"
      ]
     },
     "execution_count": 55,
     "metadata": {},
     "output_type": "execute_result"
    }
   ],
   "source": [
    "arr = [4, 8, 12, 1, 2, 10, 3, 6, 8]\n",
    "rob(arr)"
   ]
  },
  {
   "cell_type": "code",
   "execution_count": null,
   "id": "fbc28457",
   "metadata": {},
   "outputs": [],
   "source": []
  }
 ],
 "metadata": {
  "kernelspec": {
   "display_name": "Python 3 (ipykernel)",
   "language": "python",
   "name": "python3"
  },
  "language_info": {
   "codemirror_mode": {
    "name": "ipython",
    "version": 3
   },
   "file_extension": ".py",
   "mimetype": "text/x-python",
   "name": "python",
   "nbconvert_exporter": "python",
   "pygments_lexer": "ipython3",
   "version": "3.12.3"
  }
 },
 "nbformat": 4,
 "nbformat_minor": 5
}
