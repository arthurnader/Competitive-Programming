{
 "cells": [
  {
   "cell_type": "markdown",
   "id": "c5a4fdf6",
   "metadata": {},
   "source": [
    "## Interleaving string (problem)\n",
    "Given 3 strings s1, s2, and s3, check if s3 can be formed by an interleaving of s1 and s2.\n",
    "\n",
    "An interleaving of two strings s and t is a configuration where they are divided into non-empty substrings such that:\n",
    "\n",
    "s = s1 + s2 + ... + sn\n",
    "\n",
    "t = t1 + t2 + ... + tm\n",
    "\n",
    "|n - m| <= 1\n",
    "\n",
    "The interleaving is s1 + t1 + s2 + t2 + s3 + t3 + ... or t1 + s1 + t2 + s2 + t3 + s3 + ...\n",
    "\n",
    "\n",
    "\n",
    "### Example:\n",
    "\n",
    "input:\\\n",
    "s1 = \"aabcc\"\\\n",
    "s2 = \"dbbca\"\\\n",
    "s3 = \"aadbbcbcac\"\n",
    "\n",
    "output: true\n",
    "\n",
    "explanation:\\\n",
    "s1 = \"aabcc\" = \"aa\" + \"bc\" + \"c\"\\\n",
    "s2 = \"dbbca\" = \"dbbc\" + \"a\"\\\n",
    "s3 = \"aadbbcbcac\" = \"aa\" + \"dbbc\" + \"bc\" + \"a\" + \"c\"\\\n",
    "You can see that we could make s3 by taking \"aa\" from s1, \"dbbc\" from s2, \"bc\" from s1, \"a\" from s2, and \"c\" from s1\n",
    "\n",
    "<img src=\"interleaving.png\" alt=\"Alt Text\" width=\"300\"/>"
   ]
  },
  {
   "cell_type": "markdown",
   "id": "ab5c1955",
   "metadata": {},
   "source": [
    "## The relation\n"
   ]
  },
  {
   "cell_type": "markdown",
   "id": "ab1d6f68",
   "metadata": {},
   "source": [
    "## The top-down approach:"
   ]
  },
  {
   "cell_type": "code",
   "execution_count": 42,
   "id": "cb6e9194",
   "metadata": {},
   "outputs": [],
   "source": [
    "s1 = \"aabcc\"\n",
    "s2 = \"dbbca\"\n",
    "s3 = \"aadbbccbcac\""
   ]
  },
  {
   "cell_type": "code",
   "execution_count": 4,
   "id": "cbbaa9a1",
   "metadata": {},
   "outputs": [],
   "source": [
    "def inter(s1, s2, s3, i=0, j=0, k=0):\n",
    "\n",
    "    if i == len(s1) and j == len(s2) and i + j == len(s3):\n",
    "        return True\n",
    "    if i < len(s1) and j < len(s2) and s1[i] == s3[k] and s2[j] == s3[k]:\n",
    "        return inter(s1, s2, s3, i+1, j, k+1) or inter(s1, s2, s3, i, j+1, k+1) \n",
    "    elif i < len(s1) and s1[i] == s3[k]:\n",
    "        return inter(s1, s2, s3, i+1, j, k+1)\n",
    "    elif j < len(s2) and s2[j] == s3[k]:\n",
    "        return inter(s1, s2, s3, i, j+1, k+1)\n",
    "    else:\n",
    "        return False\n",
    "    "
   ]
  },
  {
   "cell_type": "code",
   "execution_count": 5,
   "id": "4049da87",
   "metadata": {},
   "outputs": [],
   "source": [
    "s1 = \"aabcc\"\n",
    "s2 = \"dbbca\"\n",
    "s3 = \"aadbbcbcac\""
   ]
  },
  {
   "cell_type": "code",
   "execution_count": 6,
   "id": "944c40f6",
   "metadata": {},
   "outputs": [
    {
     "data": {
      "text/plain": [
       "True"
      ]
     },
     "execution_count": 6,
     "metadata": {},
     "output_type": "execute_result"
    }
   ],
   "source": [
    "inter(s1, s2, s3)"
   ]
  },
  {
   "cell_type": "markdown",
   "id": "72fa1c20",
   "metadata": {},
   "source": [
    "## The original solution"
   ]
  },
  {
   "cell_type": "markdown",
   "id": "fc3d1686",
   "metadata": {},
   "source": [
    "## Recursive\n",
    "\n",
    "Time complexity: $O(2^{n+m})$\\\n",
    "Space complexity: $O(n+m)$"
   ]
  },
  {
   "cell_type": "code",
   "execution_count": 14,
   "id": "79fe0cba",
   "metadata": {},
   "outputs": [],
   "source": [
    "def inter(s1, s2, s3, i=0, j=0):\n",
    "    \n",
    "    if len(s1)+len(s2) != len(s3):\n",
    "        return False\n",
    "    elif i == len(s1) and j == len(s2):\n",
    "        return True\n",
    "    else:\n",
    "        return (i < len(s1) and s1[i] == s3[i+j] and inter(s1, s2, s3, i+1, j)) or (j < len(s2) and s2[j] == s3[i+j] and inter(s1, s2, s3, i, j+1))\n"
   ]
  },
  {
   "cell_type": "code",
   "execution_count": 15,
   "id": "e86738c2",
   "metadata": {},
   "outputs": [
    {
     "data": {
      "text/plain": [
       "True"
      ]
     },
     "execution_count": 15,
     "metadata": {},
     "output_type": "execute_result"
    }
   ],
   "source": [
    "inter(s1, s2, s3)"
   ]
  },
  {
   "cell_type": "markdown",
   "id": "64b505d6",
   "metadata": {},
   "source": [
    "## Memoization (top-down)\n",
    "\n",
    "Time complexity: $O(nm)$\\\n",
    "Space complexity: $O(nm)$"
   ]
  },
  {
   "cell_type": "code",
   "execution_count": null,
   "id": "8dd084fd",
   "metadata": {},
   "outputs": [],
   "source": [
    "def inter(s1, s2, s3, i=0, j=0, lookup=None):\n",
    "    \n",
    "    lookup = {} if lookup is None else lookup\n",
    "    if (i, j) in lookup:\n",
    "        return lookup[(i, j)]\n",
    "    \n",
    "    if len(s1)+len(s2) != len(s3):\n",
    "        return False\n",
    "    \n",
    "    elif i == len(s1) and j == len(s2):\n",
    "        return True\n",
    "    \n",
    "    else:\n",
    "        lookup[(i, j)] = (i < len(s1) and s1[i] == s3[i+j] and inter(s1, s2, s3, i+1, j, lookup)) or (j < len(s2) and s2[j] == s3[i+j] and inter(s1, s2, s3, i, j+1, lookup))\n",
    "        return lookup[(i, j)]\n",
    " \n",
    " "
   ]
  },
  {
   "cell_type": "markdown",
   "id": "cfda1056",
   "metadata": {},
   "source": [
    "## Tabulation (bottom-up)\n",
    "\n",
    "Time complexity: $O(nm)$\\\n",
    "Space complexity: $O(nm)$"
   ]
  },
  {
   "cell_type": "code",
   "execution_count": null,
   "id": "bc417874",
   "metadata": {},
   "outputs": [],
   "source": [
    "def inter(s1, s2, s3):\n",
    "    \n",
    "    n, m = len(s1), len(s2)\n",
    "    if n+m != len(s3):\n",
    "        return False\n",
    "    \n",
    "    dp = [[False]*(m+1) for i in range(n+1)]\n",
    "    dp[0][0] = True\n",
    "    \n",
    "    for j in range(1, m+1):\n",
    "        dp[0][j] = s2[j-1] == s3[j-1] and dp[0][j-1]\n",
    "    \n",
    "    for i in range(1, n+1):\n",
    "        dp[i][0] = s1[i-1] == s3[i-1] and dp[i-1][0]\n",
    "    \n",
    "    for i in range(1, n+1):\n",
    "        for j in range(1, m+1):\n",
    "            check_s1 = s1[i-1] == s3[i+j-1] and dp[i-1][j]\n",
    "            check_s2 = s2[j-1] == s3[i+j-1] and dp[i][j-1]\n",
    "            dp[i][j] = check_s1 or check_s2\n",
    "    \n",
    "    return dp[n][m]\n",
    " \n",
    " "
   ]
  },
  {
   "cell_type": "markdown",
   "id": "899fd013",
   "metadata": {},
   "source": [
    "But we can do it in:\n",
    "\n",
    "Time complexity: $O(nm)$\\\n",
    "Space complexity: $O(m)$"
   ]
  },
  {
   "cell_type": "code",
   "execution_count": null,
   "id": "79ed2f98",
   "metadata": {},
   "outputs": [],
   "source": [
    "def inter(s1, s2, s3):\n",
    "    \n",
    "    n, m = len(s1), len(s2)\n",
    "    if n+m != len(s3):\n",
    "        return False\n",
    "    \n",
    "    prev_dp = [False]*(m+1)\n",
    "    dp = [False]*(m+1)\n",
    "    prev_dp[0] = True\n",
    "    \n",
    "    for j in range(1, m+1):\n",
    "        prev_dp[j] = s2[j-1] == s3[j-1] and prev_dp[j-1]\n",
    "    \n",
    "    for i in range(1, n+1):\n",
    "        \n",
    "        dp[0] = s1[i-1] == s3[i-1] and prev_dp[0]\n",
    "        for j in range(1, m+1):\n",
    "            check_s1 = s1[i-1] == s3[i+j-1] and prev_dp[j]\n",
    "            check_s2 = s2[j-1] == s3[i+j-1] and dp[j-1]\n",
    "            dp[j] = check_s1 or check_s2\n",
    "        prev_dp = dp\n",
    "        dp = [False]*(m+1)\n",
    "    \n",
    "    return prev_dp[m]"
   ]
  }
 ],
 "metadata": {
  "kernelspec": {
   "display_name": "Python 3 (ipykernel)",
   "language": "python",
   "name": "python3"
  },
  "language_info": {
   "codemirror_mode": {
    "name": "ipython",
    "version": 3
   },
   "file_extension": ".py",
   "mimetype": "text/x-python",
   "name": "python",
   "nbconvert_exporter": "python",
   "pygments_lexer": "ipython3",
   "version": "3.12.3"
  }
 },
 "nbformat": 4,
 "nbformat_minor": 5
}
