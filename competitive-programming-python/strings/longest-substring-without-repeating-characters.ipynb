{
 "cells": [
  {
   "cell_type": "markdown",
   "id": "1098579e",
   "metadata": {},
   "source": [
    "# Longest substring without repeating characters.\n",
    "\n",
    "Given a string str made of alphabetical letters only, create a function that returns the length of the longest substring without repeating characters.\n",
    "\n",
    "### Example 1:\n",
    "\n",
    "Input: str = \"abcdbeghef\"\n",
    "\n",
    "Output: 6\n",
    "\n",
    "Explanation: the longest substring without repeating characters is \"cdbegh\", its length is 6\n",
    "\n",
    "## Example 2:\n",
    "\n",
    "Input: str = \"aaaaa\"\n",
    "\n",
    "Output: 1\n",
    "\n",
    "Explanation: the longest substring without repeating characters is \"a\", its length is 1\n",
    "\n",
    "### Example 3:\n",
    "\n",
    "Input: str = \"eddy\"\n",
    "\n",
    "Output: 2\n",
    "\n",
    "Explanation: the longest substring without repeating characters is \"ed\" (or \"dy\"), its length is 2"
   ]
  },
  {
   "cell_type": "markdown",
   "id": "8ed50d85",
   "metadata": {},
   "source": [
    "## Sliding window solution"
   ]
  },
  {
   "cell_type": "code",
   "execution_count": 12,
   "id": "c5c25797",
   "metadata": {},
   "outputs": [],
   "source": [
    "def longestSubstringWithoutRepeating(string):\n",
    "    \n",
    "    last_ocurrence = dict()\n",
    "    max_length = 0\n",
    "    last_string_starts_at = 0\n",
    "    \n",
    "    for i in range(len(string)):\n",
    "        \n",
    "        if string[i] in last_ocurrence and last_ocurrence[string[i]] >= last_string_starts_at:\n",
    "            last_string_starts_at = last_ocurrence[string[i]] + 1\n",
    "            \n",
    "        last_ocurrence[string[i]] = i\n",
    "        max_length = max(max_length, i + 1 - last_string_starts_at)\n",
    "        \n",
    "    return max_length\n",
    "    "
   ]
  },
  {
   "cell_type": "markdown",
   "id": "29743cd1",
   "metadata": {},
   "source": [
    "## Tests"
   ]
  },
  {
   "cell_type": "code",
   "execution_count": 13,
   "id": "e8528f6d",
   "metadata": {},
   "outputs": [
    {
     "data": {
      "text/plain": [
       "6"
      ]
     },
     "execution_count": 13,
     "metadata": {},
     "output_type": "execute_result"
    }
   ],
   "source": [
    "string = \"abcdbeghef\"\n",
    "longestSubstringWithoutRepeating(string)"
   ]
  },
  {
   "cell_type": "code",
   "execution_count": 14,
   "id": "b618fe7d",
   "metadata": {},
   "outputs": [
    {
     "data": {
      "text/plain": [
       "1"
      ]
     },
     "execution_count": 14,
     "metadata": {},
     "output_type": "execute_result"
    }
   ],
   "source": [
    "string = \"aaaaa\"\n",
    "longestSubstringWithoutRepeating(string)"
   ]
  },
  {
   "cell_type": "code",
   "execution_count": 15,
   "id": "32e7db28",
   "metadata": {},
   "outputs": [
    {
     "data": {
      "text/plain": [
       "2"
      ]
     },
     "execution_count": 15,
     "metadata": {},
     "output_type": "execute_result"
    }
   ],
   "source": [
    "string = \"eddy\"\n",
    "longestSubstringWithoutRepeating(string)"
   ]
  },
  {
   "cell_type": "code",
   "execution_count": null,
   "id": "06d877e2",
   "metadata": {},
   "outputs": [],
   "source": []
  }
 ],
 "metadata": {
  "kernelspec": {
   "display_name": "Python 3 (ipykernel)",
   "language": "python",
   "name": "python3"
  },
  "language_info": {
   "codemirror_mode": {
    "name": "ipython",
    "version": 3
   },
   "file_extension": ".py",
   "mimetype": "text/x-python",
   "name": "python",
   "nbconvert_exporter": "python",
   "pygments_lexer": "ipython3",
   "version": "3.12.3"
  }
 },
 "nbformat": 4,
 "nbformat_minor": 5
}
