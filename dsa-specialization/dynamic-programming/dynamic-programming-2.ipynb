{
 "cells": [
  {
   "cell_type": "markdown",
   "id": "b2170a25",
   "metadata": {},
   "source": [
    "## Maximum Amount of Gold Problem\n",
    "Given a set of gold bars of various weights and a backpack that can hold at most W pounds, place as much gold as possible into the backpack.\\\n",
    "Input: A set of n gold bars of integer weights w1 ,...,wn and a backpack that can hold at most W pounds.\\\n",
    "Output: A subset of gold bars of maximum total weight not exceeding W ."
   ]
  },
  {
   "cell_type": "code",
   "execution_count": 40,
   "id": "c167eeee",
   "metadata": {},
   "outputs": [],
   "source": [
    "def maximum_gold(capacity, weights):\n",
    "\n",
    "    dp = [[0]*(capacity+1) for _ in range(len(weights))]\n",
    "    \n",
    "    for j in range(capacity+1):\n",
    "        if j - weights[0] >= 0:\n",
    "            dp[0][j] = weights[0]\n",
    "    \n",
    "    for i in range(1, len(weights)):\n",
    "        for weight in range(capacity+1):\n",
    "            if weight-weights[i] >=0:\n",
    "                dp[i][weight] = max(dp[i-1][weight], dp[i-1][weight-weights[i]]+weights[i])\n",
    "            else:\n",
    "                dp[i][weight] = dp[i-1][weight]\n",
    "    print(dp)\n",
    "    return dp[-1][-1]"
   ]
  },
  {
   "cell_type": "code",
   "execution_count": 41,
   "id": "9b24b8fb",
   "metadata": {},
   "outputs": [
    {
     "name": "stdout",
     "output_type": "stream",
     "text": [
      "10 3\n",
      "1 4 8\n",
      "[[0, 1, 1, 1, 1, 1, 1, 1, 1, 1, 1], [0, 1, 1, 1, 4, 5, 5, 5, 5, 5, 5], [0, 1, 1, 1, 4, 5, 5, 5, 8, 9, 9]]\n",
      "9\n"
     ]
    }
   ],
   "source": [
    "if __name__ == '__main__':\n",
    "    input_capacity, n = [int(x) for x in input().split(\" \")]\n",
    "    input_weights = [int(x) for x in input().split(\" \")]\n",
    "\n",
    "    print(maximum_gold(input_capacity, input_weights))"
   ]
  },
  {
   "cell_type": "markdown",
   "id": "f35fe6a7",
   "metadata": {},
   "source": [
    "## Splitting the Pirate Loot\n",
    "Partition Problem\\\n",
    "Partition a set of integers into three subsets with equal sums.\\\n",
    "Input: A sequence of integers v1, v2 ,..., vn.\\\n",
    "Output: Check whether it is possible to partition them into three subsets with equal sums, i.e., check whether there exist three disjoint sets S1, S2, S3 ⊆ {1,2,...,n} such that S1 ∪ S2 ∪ S3 = {1,2,...,n} and \n"
   ]
  },
  {
   "cell_type": "code",
   "execution_count": 21,
   "id": "ef839378",
   "metadata": {},
   "outputs": [],
   "source": [
    "def aux_partition3(values, target1, target2, target3, index, lookup = None):\n",
    "    \n",
    "    lookup = {} if lookup is None else lookup\n",
    "    \n",
    "    if (target1, target2, target3) in lookup:\n",
    "        return lookup[(target1, target2, target3)]\n",
    "    \n",
    "    if target1 == target2 == target3 == 0:\n",
    "        return 1\n",
    "    \n",
    "    elif index >= len(values) or target1<0 or target2<0 or target3<0:\n",
    "        return 0\n",
    "    \n",
    "    res1 = aux_partition3(values, target1-values[index], target2, target3, index + 1, lookup)\n",
    "    res2 = aux_partition3(values, target1, target2-values[index], target3, index + 1, lookup)\n",
    "    res3 = aux_partition3(values, target1, target2, target3-values[index], index + 1, lookup)\n",
    "    \n",
    "    lookup[(target1, target2, target3)] = res1 or res2 or res3\n",
    "    return lookup[(target1, target2, target3)]"
   ]
  },
  {
   "cell_type": "code",
   "execution_count": 22,
   "id": "3d95ed95",
   "metadata": {},
   "outputs": [],
   "source": [
    "def partition3(values):\n",
    "    \n",
    "    total = sum(values)\n",
    "    \n",
    "    if total%3 != 0:\n",
    "        return 0\n",
    "    \n",
    "    target = total//3 \n",
    "    \n",
    "    return aux_partition3(values, target, target, target, 0)\n",
    "    \n",
    "    "
   ]
  },
  {
   "cell_type": "code",
   "execution_count": 23,
   "id": "7eb232d4",
   "metadata": {},
   "outputs": [
    {
     "name": "stdout",
     "output_type": "stream",
     "text": [
      "90\n",
      "1 2 3 4 5 5 7 7 8 10 12 19 25\n",
      "1\n"
     ]
    }
   ],
   "source": [
    "if __name__ == '__main__':\n",
    "    input_n = int(input())\n",
    "    input_values = [int(x) for x in input().split(\" \")]\n",
    "    \n",
    "    print(partition3(input_values))"
   ]
  },
  {
   "cell_type": "code",
   "execution_count": 24,
   "id": "ab9da3e6",
   "metadata": {},
   "outputs": [],
   "source": [
    "def partition3(values):\n",
    "    total = sum(values)\n",
    "    \n",
    "    # If total sum is not divisible by 3, no solution\n",
    "    if total % 3 != 0:\n",
    "        return 0\n",
    "    \n",
    "    target = total // 3\n",
    "    \n",
    "    # DP table: dp[i][j] means whether a sum i can be achieved for subset 1 and j for subset 2.\n",
    "    dp = [[False] * (target + 1) for _ in range(target + 1)]\n",
    "    dp[0][0] = True  # Initial state: sums of 0 for both subsets\n",
    "    \n",
    "    for val in values:\n",
    "        # Traverse DP table from bottom-right to top-left to prevent overwriting\n",
    "        for i in range(target, -1, -1):\n",
    "            for j in range(target, -1, -1):\n",
    "                if dp[i][j]:\n",
    "                    if i + val <= target:\n",
    "                        dp[i + val][j] = True  # Add to subset 1\n",
    "                    if j + val <= target:\n",
    "                        dp[i][j + val] = True  # Add to subset 2\n",
    "\n",
    "    # Final check: can we partition into three subsets with sum `target`?\n",
    "    return 1 if dp[target][target] else 0\n"
   ]
  },
  {
   "cell_type": "code",
   "execution_count": 25,
   "id": "0e9c3d80",
   "metadata": {},
   "outputs": [
    {
     "name": "stdout",
     "output_type": "stream",
     "text": [
      "13\n",
      "1 2 3 4 5 5 7 7 8 10 12 19 25\n",
      "1\n"
     ]
    }
   ],
   "source": [
    "if __name__ == '__main__':\n",
    "    input_n = int(input())\n",
    "    input_values = [int(x) for x in input().split(\" \")]\n",
    "    \n",
    "    print(partition3(input_values))"
   ]
  },
  {
   "cell_type": "markdown",
   "id": "522ffc28",
   "metadata": {},
   "source": [
    "### Maximum Value of an Arithmetic Expression\n",
    "Maximum Value of an Arithmetic Expression Problem\\\n",
    "Parenthesize an arithmetic expression to maximize its value.\\\n",
    "Input: An arithmetic expression consisting of digits as well as plus, minus, and multiplication signs.\\\n",
    "Output: Add parentheses to the expression in order to maximize its value."
   ]
  },
  {
   "cell_type": "code",
   "execution_count": null,
   "id": "a614da2e",
   "metadata": {},
   "outputs": [],
   "source": []
  },
  {
   "cell_type": "code",
   "execution_count": null,
   "id": "7825cbb1",
   "metadata": {},
   "outputs": [],
   "source": []
  }
 ],
 "metadata": {
  "kernelspec": {
   "display_name": "Python 3 (ipykernel)",
   "language": "python",
   "name": "python3"
  },
  "language_info": {
   "codemirror_mode": {
    "name": "ipython",
    "version": 3
   },
   "file_extension": ".py",
   "mimetype": "text/x-python",
   "name": "python",
   "nbconvert_exporter": "python",
   "pygments_lexer": "ipython3",
   "version": "3.12.3"
  }
 },
 "nbformat": 4,
 "nbformat_minor": 5
}
