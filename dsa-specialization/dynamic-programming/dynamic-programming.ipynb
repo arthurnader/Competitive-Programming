{
 "cells": [
  {
   "cell_type": "markdown",
   "id": "1c2b94f0",
   "metadata": {},
   "source": [
    "## Money Change Again\n",
    "Money Change Again Problem\\\n",
    "Compute the minimum number of coins needed to change the given value into coins with denominations 1, 3, and 4.\\\n",
    "Input: An integer money.\\\n",
    "Output: The minimum number of coins with denominations 1, 3, and 4 that changes money"
   ]
  },
  {
   "cell_type": "code",
   "execution_count": 4,
   "id": "a6cc7d14",
   "metadata": {},
   "outputs": [],
   "source": [
    "def change(money):\n",
    "    \n",
    "    dp = [float('inf')]*(money+1)\n",
    "    dp[0] = 0\n",
    "    \n",
    "    for i in range(1, money+1):\n",
    "        for coin in [1,3,4]:\n",
    "            if i - coin >= 0:\n",
    "                dp[i] = min(dp[i], dp[i-coin] + 1)\n",
    "    \n",
    "    return dp[-1]"
   ]
  },
  {
   "cell_type": "code",
   "execution_count": 7,
   "id": "a8f24813",
   "metadata": {},
   "outputs": [
    {
     "name": "stdout",
     "output_type": "stream",
     "text": [
      "523\n",
      "131\n"
     ]
    }
   ],
   "source": [
    "if __name__ == '__main__':\n",
    "    m = int(input())\n",
    "    print(change(m))"
   ]
  },
  {
   "cell_type": "markdown",
   "id": "5779dd48",
   "metadata": {},
   "source": [
    "## Primitive Calculator\n",
    "Primitive Calculator Problem\\\n",
    "Find the minimum number of operations needed to get a positive integer n from 1 by using only three operations: add 1, multiply by 2, and multiply by 3.\\\n",
    "Input: An integer n.\\\n",
    "Output: The minimum number of operations “+1”, “×2”, and “×3” needed to get n from 1."
   ]
  },
  {
   "cell_type": "code",
   "execution_count": 82,
   "id": "1769ef15",
   "metadata": {},
   "outputs": [],
   "source": [
    "def compute_operations(n, lookup = None):\n",
    "    \n",
    "    lookup = {} if lookup is None else lookup\n",
    "    \n",
    "    if n in lookup:\n",
    "        return lookup[n]\n",
    "    \n",
    "    if n == 1:\n",
    "        return 0\n",
    "        \n",
    "    else:\n",
    "        divide_3 = 1 + compute_operations(n//3, lookup) if n%3 == 0 else float('inf')\n",
    "        divide_2 = 1 + compute_operations(n//2, lookup) if n%2 == 0 else float('inf')\n",
    "        minus_1 = 1 + compute_operations(n-1, lookup)\n",
    "        lookup[n] = min(minus_1, divide_2, divide_3)\n",
    "        \n",
    "        return lookup[n]\n",
    "    "
   ]
  },
  {
   "cell_type": "code",
   "execution_count": 71,
   "id": "43271026",
   "metadata": {},
   "outputs": [],
   "source": [
    "def compute_operations(n):\n",
    "    lookup = [0] * (n + 1)  # Array to store the minimum operations for each number up to n\n",
    "    \n",
    "    for i in range(2, n + 1):\n",
    "        minus_1 = lookup[i - 1] + 1\n",
    "        divide_2 = lookup[i // 2] + 1 if i % 2 == 0 else float('inf')\n",
    "        divide_3 = lookup[i // 3] + 1 if i % 3 == 0 else float('inf')\n",
    "        \n",
    "        lookup[i] = min(minus_1, divide_2, divide_3)\n",
    "        \n",
    "    print(lookup)\n",
    "    \n",
    "    return lookup[n]"
   ]
  },
  {
   "cell_type": "code",
   "execution_count": 83,
   "id": "c5a1452c",
   "metadata": {},
   "outputs": [
    {
     "name": "stdout",
     "output_type": "stream",
     "text": [
      "1\n",
      "0\n"
     ]
    }
   ],
   "source": [
    "if __name__ == '__main__':\n",
    "    input_n = int(input())\n",
    "    output_sequence = compute_operations(input_n)\n",
    "    print(output_sequence)\n",
    "    #print(len(output_sequence) - 1)\n",
    "    #print(*output_sequence)"
   ]
  },
  {
   "cell_type": "code",
   "execution_count": 86,
   "id": "fb054bc6",
   "metadata": {},
   "outputs": [],
   "source": [
    "def compute_operations(n):\n",
    "\n",
    "    lookup = [0] * (n + 1)\n",
    "    prev = [0] * (n + 1)\n",
    "    \n",
    "    for i in range(2, n + 1):\n",
    "        minus_1 = lookup[i - 1] + 1\n",
    "        divide_2 = lookup[i // 2] + 1 if i % 2 == 0 else float('inf')\n",
    "        divide_3 = lookup[i // 3] + 1 if i % 3 == 0 else float('inf')\n",
    "\n",
    "        lookup[i] = min(minus_1, divide_2, divide_3)\n",
    "\n",
    "        if lookup[i] == minus_1:\n",
    "            prev[i] = i - 1\n",
    "        elif lookup[i] == divide_2:\n",
    "            prev[i] = i // 2\n",
    "        else:\n",
    "            prev[i] = i // 3\n",
    "\n",
    "    sequence = []\n",
    "    while n > 0:\n",
    "        sequence.append(n)\n",
    "        n = prev[n]\n",
    "        \n",
    "    print(lookup)\n",
    "    print(prev)\n",
    "    \n",
    "    sequence.reverse()\n",
    "    \n",
    "    return sequence"
   ]
  },
  {
   "cell_type": "code",
   "execution_count": 88,
   "id": "57c12a8c",
   "metadata": {},
   "outputs": [
    {
     "name": "stdout",
     "output_type": "stream",
     "text": [
      "178\n",
      "[0, 0, 1, 1, 2, 3, 2, 3, 3, 2, 3, 4, 3, 4, 4, 4, 4, 5, 3, 4, 4, 4, 5, 6, 4, 5, 5, 3, 4, 5, 4, 5, 5, 5, 6, 7, 4, 5, 5, 5, 5, 6, 5, 6, 6, 5, 6, 7, 5, 6, 6, 6, 6, 7, 4, 5, 5, 5, 6, 7, 5, 6, 6, 5, 6, 7, 6, 7, 7, 7, 8, 9, 5, 6, 6, 6, 6, 7, 6, 7, 6, 4, 5, 6, 5, 6, 7, 6, 7, 8, 5, 6, 7, 6, 7, 8, 6, 7, 7, 6, 7, 8, 7, 8, 7, 8, 8, 9, 5, 6, 6, 6, 6, 7, 6, 7, 7, 6, 7, 8, 6, 7, 7, 7, 7, 8, 6, 7, 7, 7, 8, 9, 7, 8, 8, 6, 7, 8, 7, 8, 9, 8, 9, 10, 6, 7, 7, 7, 7, 8, 7, 8, 7, 7, 8, 9, 7, 8, 8, 8, 7, 8, 5, 6, 6, 6, 7, 8, 6, 7, 7, 6, 7, 8, 7, 8, 8, 8, 9]\n",
      "[0, 0, 1, 1, 3, 4, 3, 6, 4, 3, 9, 10, 6, 12, 7, 5, 8, 16, 9, 18, 10, 7, 21, 22, 12, 24, 13, 9, 27, 28, 10, 30, 16, 11, 33, 34, 18, 36, 19, 13, 20, 40, 21, 42, 22, 15, 45, 46, 24, 48, 25, 17, 26, 52, 27, 54, 28, 19, 57, 58, 30, 60, 31, 21, 63, 64, 33, 66, 34, 23, 69, 70, 36, 72, 37, 25, 38, 76, 39, 78, 40, 27, 81, 82, 28, 84, 85, 29, 87, 88, 30, 90, 91, 31, 93, 94, 48, 96, 49, 33, 99, 100, 51, 102, 52, 104, 53, 106, 54, 108, 55, 37, 56, 112, 57, 114, 58, 39, 117, 118, 60, 120, 61, 41, 62, 124, 63, 126, 64, 43, 129, 130, 66, 132, 67, 45, 135, 136, 46, 138, 139, 47, 141, 142, 72, 144, 73, 49, 74, 148, 75, 150, 76, 51, 153, 154, 78, 156, 79, 53, 80, 160, 81, 162, 82, 55, 165, 166, 84, 168, 85, 57, 171, 172, 87, 174, 88, 59, 177]\n",
      "9\n",
      "1 3 9 18 19 57 58 59 177 178\n"
     ]
    }
   ],
   "source": [
    "if __name__ == '__main__':\n",
    "    input_n = int(input())\n",
    "    output_sequence = compute_operations(input_n)\n",
    "    print(len(output_sequence) - 1)\n",
    "    print(*output_sequence)"
   ]
  },
  {
   "cell_type": "markdown",
   "id": "c2246351",
   "metadata": {},
   "source": [
    "## Edit Distance\n",
    "Edit Distance Problem\\\n",
    "Compute the edit distance between two strings.\\\n",
    "Input: Two strings.\\\n",
    "Output: The minimum number of single-symbol insertions, deletions, and substitutions to transform one string into the other one."
   ]
  },
  {
   "cell_type": "code",
   "execution_count": 35,
   "id": "a9e44967",
   "metadata": {},
   "outputs": [],
   "source": [
    "def edit_distance(first_string, second_string):\n",
    "    \n",
    "    dp = [[0] * (len(second_string) + 1) for _ in range(len(first_string) + 1)]\n",
    "    \n",
    "    for i in range(1, len(second_string) + 1):\n",
    "        dp[0][i] = i\n",
    "        \n",
    "    for j in range(1, len(first_string) + 1):\n",
    "        dp[j][0] = j\n",
    "        \n",
    "    for j in range(1, len(first_string)+1):\n",
    "        for i in range(1, len(second_string)+1):\n",
    "            \n",
    "            if second_string[i-1] == first_string[j-1]:\n",
    "                dp[j][i] = dp[j-1][i-1]\n",
    "            else:\n",
    "                dp[j][i] = min(dp[j-1][i-1], dp[j-1][i], dp[j][i-1]) + 1\n",
    "    \n",
    "    return dp[-1][-1]"
   ]
  },
  {
   "cell_type": "code",
   "execution_count": 36,
   "id": "86509417",
   "metadata": {},
   "outputs": [
    {
     "name": "stdout",
     "output_type": "stream",
     "text": [
      "ab\n",
      "ab\n",
      "0\n"
     ]
    }
   ],
   "source": [
    "if __name__ == \"__main__\":\n",
    "    print(edit_distance(input(), input()))"
   ]
  },
  {
   "cell_type": "markdown",
   "id": "83b45cbc",
   "metadata": {},
   "source": [
    "## Longest Common Subsequence of Two Sequences\n",
    "Longest Common Subsequence of Two Sequences Problem\\\n",
    "Compute the maximum length of a common subsequence of two sequences.\\\n",
    "Input: Two sequences.\\\n",
    "Output: The maximum length of a common subsequence."
   ]
  },
  {
   "cell_type": "code",
   "execution_count": 41,
   "id": "2627c440",
   "metadata": {},
   "outputs": [],
   "source": [
    "def lcs2(first_sequence, second_sequence):\n",
    "    \n",
    "    dp = [[0]*(len(second_sequence)+1) for _ in range(len(first_sequence)+1)]\n",
    "    \n",
    "    for j in range(1, len(first_sequence)+1):\n",
    "        for i in range(1, len(second_sequence)+1):\n",
    "            \n",
    "            if second_sequence[i-1] == first_sequence[j-1]:\n",
    "                dp[j][i] = dp[j-1][i-1]+1\n",
    "                \n",
    "            else:\n",
    "                dp[j][i] = max(dp[j][i-1],  dp[j-1][i])\n",
    "       \n",
    "    return dp[-1][-1]\n"
   ]
  },
  {
   "cell_type": "code",
   "execution_count": 43,
   "id": "30807928",
   "metadata": {},
   "outputs": [
    {
     "name": "stdout",
     "output_type": "stream",
     "text": [
      "4\n",
      "2 7 8 3\n",
      "5\n",
      "5 2 8 7\n",
      "[[0, 0, 0, 0, 0], [0, 0, 1, 1, 1], [0, 0, 1, 1, 2], [0, 0, 1, 2, 2], [0, 0, 1, 2, 2]]\n",
      "2\n"
     ]
    }
   ],
   "source": [
    "if __name__ == '__main__':\n",
    "    n = int(input())\n",
    "    a = [int(x) for x in input().split(\" \")]\n",
    "\n",
    "    m = int(input())\n",
    "    b = [int(x) for x in input().split(\" \")]\n",
    "\n",
    "    print(lcs2(a, b))"
   ]
  },
  {
   "cell_type": "markdown",
   "id": "430c034c",
   "metadata": {},
   "source": [
    "## Longest Common Subsequence of Three Sequences\n",
    "Longest Common Subsequence of Three Sequences Problem\\\n",
    "Compute the maximum length of a common subsequence of three sequences.\\\n",
    "Input: Three sequences.\\\n",
    "Output: The maximum length of a common subsequence."
   ]
  },
  {
   "cell_type": "code",
   "execution_count": 57,
   "id": "cdf0a60f",
   "metadata": {},
   "outputs": [],
   "source": [
    "def lcs3(first_sequence, second_sequence, third_sequence):\n",
    "    \n",
    "    dp = [[[0]*(len(third_sequence)+1) for _ in range(len(second_sequence)+1)] for _ in range(len(first_sequence)+1)]\n",
    "    \n",
    "    \n",
    "    for i in range(1, len(first_sequence)+1):\n",
    "        for j in range(1, len(second_sequence)+1):\n",
    "            for k in range(1, len(third_sequence)+1):\n",
    "                \n",
    "                if first_sequence[i-1] == second_sequence[j-1] == third_sequence[k-1]:\n",
    "                    dp[i][j][k] = dp[i-1][j-1][k-1] + 1\n",
    "                else:\n",
    "                    dp[i][j][k] = max(dp[i][j][k-1], dp[i][j-1][k], dp[i-1][j][k])\n",
    "                    \n",
    "    return dp[-1][-1][-1]"
   ]
  },
  {
   "cell_type": "code",
   "execution_count": 60,
   "id": "3081593e",
   "metadata": {},
   "outputs": [
    {
     "name": "stdout",
     "output_type": "stream",
     "text": [
      "5\n",
      "8 3 2 1 7\n",
      "7\n",
      "8 2 1 3 8 10 7\n",
      "6\n",
      "6 8 3 1 4 7\n",
      "3\n"
     ]
    }
   ],
   "source": [
    "if __name__ == '__main__':\n",
    "    n = int(input())\n",
    "    a = [int(x) for x in input().split(\" \")]\n",
    "\n",
    "    m = int(input())\n",
    "    b = [int(x) for x in input().split(\" \")]\n",
    "\n",
    "    q = int(input())\n",
    "    c = [int(x) for x in input().split(\" \")]\n",
    "\n",
    "    print(lcs3(a, b, c))"
   ]
  },
  {
   "cell_type": "code",
   "execution_count": null,
   "id": "e4a57026",
   "metadata": {},
   "outputs": [],
   "source": []
  }
 ],
 "metadata": {
  "kernelspec": {
   "display_name": "Python 3 (ipykernel)",
   "language": "python",
   "name": "python3"
  },
  "language_info": {
   "codemirror_mode": {
    "name": "ipython",
    "version": 3
   },
   "file_extension": ".py",
   "mimetype": "text/x-python",
   "name": "python",
   "nbconvert_exporter": "python",
   "pygments_lexer": "ipython3",
   "version": "3.12.3"
  }
 },
 "nbformat": 4,
 "nbformat_minor": 5
}
