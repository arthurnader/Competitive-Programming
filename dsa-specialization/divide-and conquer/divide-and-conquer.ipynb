{
 "cells": [
  {
   "cell_type": "markdown",
   "id": "7d73a7ef",
   "metadata": {},
   "source": [
    "## Binary Search\n",
    "Sorted Array Search Problem\\\n",
    "Search a key in a sorted array of keys.\\\n",
    "Input: A sorted array K[0] < K[1] <··· < K[n−1] of distinct integers and an integer q.\\\n",
    "Output: Check whether q occurs in the array."
   ]
  },
  {
   "cell_type": "code",
   "execution_count": 6,
   "id": "9e785556",
   "metadata": {},
   "outputs": [],
   "source": [
    "def binary_search(keys, query):\n",
    "    left = 0\n",
    "    right = len(keys)-1\n",
    "    \n",
    "    while left <= right:\n",
    "        \n",
    "        mid = (left + right)//2\n",
    "        \n",
    "        if keys[mid] == query:\n",
    "            return mid\n",
    "            \n",
    "        elif keys[mid] > query:\n",
    "            right = mid-1\n",
    "            \n",
    "        else:\n",
    "            left = mid+1\n",
    "            \n",
    "    return -1\n"
   ]
  },
  {
   "cell_type": "code",
   "execution_count": 7,
   "id": "6976d627",
   "metadata": {},
   "outputs": [
    {
     "name": "stdout",
     "output_type": "stream",
     "text": [
      "5\n",
      "1 5 8 12 13\n",
      "5\n",
      "8 1 23 1 11\n",
      "2 0 -1 0 -1 "
     ]
    }
   ],
   "source": [
    "if __name__ == '__main__':\n",
    "    num_keys = int(input())\n",
    "    input_keys = [int(x) for x in input().split(\" \")]\n",
    "\n",
    "    num_queries = int(input())\n",
    "    input_queries = [int(x) for x in input().split(\" \")]\n",
    "\n",
    "    for q in input_queries:\n",
    "        print(binary_search(input_keys, q), end=' ')"
   ]
  },
  {
   "cell_type": "markdown",
   "id": "428f1ccb",
   "metadata": {},
   "source": [
    "## Binary Search with Duplicates\n",
    "Donald Knuth, the author of The Art of Computer Programming, famously said: “Although the basic idea of binary search is comparatively straightforward, the details can be surprisingly tricky.” He was referring to a modified classical Binary Search Problem:\\\n",
    "Binary Search with Duplicates Problem\\\n",
    "Find the index of the first occurrence of a key in a sorted array.\n",
    "Input: A sorted array of integers (possibly with duplicates) and an integer q.\\\n",
    "Output: Index of the first occurrence of q in the array or “−1” if q does not appear in the array."
   ]
  },
  {
   "cell_type": "code",
   "execution_count": 9,
   "id": "39684239",
   "metadata": {},
   "outputs": [],
   "source": [
    "def binary_search(keys, query):\n",
    "    \n",
    "    left = 0\n",
    "    right = len(keys)-1\n",
    "    ans =-1\n",
    "    \n",
    "    while left <= right:\n",
    "        \n",
    "        mid = (left + right)//2\n",
    "        \n",
    "        if keys[mid] == query:\n",
    "            ans = mid\n",
    "            right = mid -1\n",
    "            \n",
    "        elif keys[mid] > query:\n",
    "            right = mid-1\n",
    "            \n",
    "        else:\n",
    "            left = mid+1\n",
    "            \n",
    "    return ans"
   ]
  },
  {
   "cell_type": "code",
   "execution_count": 11,
   "id": "ed7c9ffa",
   "metadata": {},
   "outputs": [
    {
     "name": "stdout",
     "output_type": "stream",
     "text": [
      "7\n",
      "2 4 4 4 7 7 9\n",
      "5\n",
      "4 5 7 9 1\n",
      "1 -1 4 6 -1 "
     ]
    }
   ],
   "source": [
    "if __name__ == '__main__':\n",
    "    num_keys = int(input())\n",
    "    input_keys = [int(x) for x in input().split(\" \")]\n",
    "\n",
    "    num_queries = int(input())\n",
    "    input_queries = [int(x) for x in input().split(\" \")]\n",
    "\n",
    "    for q in input_queries:\n",
    "        print(binary_search(input_keys, q), end=' ')"
   ]
  },
  {
   "cell_type": "markdown",
   "id": "50b44a43",
   "metadata": {},
   "source": [
    "## Majority Element\n",
    "Majority Element Problem\\\n",
    "Check whether a given sequence of numbers contains an element that appears more than half of the times.\\\n",
    "Input: A sequence of n integers.\\\n",
    "Output: 1, if there is an element that is repeated more than n/2 \\times, and 0 otherwise."
   ]
  },
  {
   "cell_type": "code",
   "execution_count": 31,
   "id": "81799c8b",
   "metadata": {},
   "outputs": [],
   "source": [
    "def majority_element(elements):\n",
    "    \n",
    "    majority = elements[0]\n",
    "    occurences = 1\n",
    "    \n",
    "    for i in range(1, len(elements)):\n",
    "        if elements[i] == majority:\n",
    "            occurences += 1\n",
    "        else:\n",
    "            occurences -=1\n",
    "            \n",
    "        if occurences == 0:\n",
    "            majority = elements[i]\n",
    "            occurences = 1\n",
    "    \n",
    "    return 1 if elements.count(majority) > len(elements)/2 else 0"
   ]
  },
  {
   "cell_type": "code",
   "execution_count": 33,
   "id": "6f33880d",
   "metadata": {},
   "outputs": [
    {
     "name": "stdout",
     "output_type": "stream",
     "text": [
      "4\n",
      "1 2 3 1\n",
      "0\n"
     ]
    }
   ],
   "source": [
    "if __name__ == '__main__':\n",
    "    input_n = int(input())\n",
    "    input_elements = [int(x) for x in input().split(\" \")]\n",
    "\n",
    "    print(majority_element_naive(input_elements))"
   ]
  },
  {
   "cell_type": "code",
   "execution_count": 29,
   "id": "a480a7c4",
   "metadata": {},
   "outputs": [
    {
     "name": "stdout",
     "output_type": "stream",
     "text": [
      "[2, 3, 9, 2, 2]\n",
      "2\n",
      "3\n",
      "1\n",
      "1\n",
      "[2, 3, 9, 2, 2]\n",
      "3\n",
      "9\n",
      "1\n",
      "1\n",
      "[2, 3, 9, 2, 2]\n",
      "9\n",
      "2\n",
      "1\n",
      "3\n",
      "1\n"
     ]
    }
   ],
   "source": [
    "def majority_element(arr):\n",
    "    def find_majority(low, high):\n",
    "\n",
    "        if low == high:\n",
    "            return arr[low]\n",
    "\n",
    "        mid = (low + high) // 2\n",
    "        \n",
    "        left_majority = find_majority(low, mid)\n",
    "        right_majority = find_majority(mid + 1, high)\n",
    "\n",
    "        if left_majority == right_majority:\n",
    "            return left_majority\n",
    "        \n",
    "        left_count = sum(1 for i in range(low, high + 1) if arr[i] == left_majority)\n",
    "        right_count = sum(1 for i in range(low, high + 1) if arr[i] == right_majority)\n",
    "\n",
    "        return left_majority if left_count > right_count else right_majority\n",
    "\n",
    "    if not arr:\n",
    "        return 0\n",
    "    \n",
    "    candidate = find_majority(0, len(arr) - 1)\n",
    "    \n",
    "    if arr.count(candidate) > len(arr) // 2:\n",
    "        return 1\n",
    "    else:\n",
    "        return 0\n",
    "\n",
    "arr = [2, 3, 9, 2, 2]\n",
    "print(majority_element(arr))  # Output: 1\n"
   ]
  },
  {
   "cell_type": "markdown",
   "id": "fba75092",
   "metadata": {},
   "source": [
    "## Speeding-up RandomizedQuickSort\n",
    "Speeding-up RandomizedQuickSort Problem\\\n",
    "Sort a given sequence of numbers (that may contain duplicates) using a modification of RandomizedQuickSort that works in O(nlogn) expected time.\\\n",
    "Input: An integer array with n elements that may contain duplicates.\\\n",
    "Output: Sorted array (generated using a modification of RandomizedQuickSort) that works in O(nlogn) expected time."
   ]
  },
  {
   "cell_type": "code",
   "execution_count": 40,
   "id": "18da38e0",
   "metadata": {},
   "outputs": [],
   "source": [
    "from random import randint"
   ]
  },
  {
   "cell_type": "code",
   "execution_count": 61,
   "id": "777dae6a",
   "metadata": {},
   "outputs": [],
   "source": [
    "def partition3(array, left, right):\n",
    "    \n",
    "    m1 = left\n",
    "    m2 = left\n",
    "    pivot = array[left]\n",
    "    \n",
    "    i = left+1\n",
    "    while i <= right:\n",
    "        \n",
    "        if array[i] == pivot:\n",
    "            m2 += 1\n",
    "            i += 1\n",
    "            \n",
    "        elif array[i] < pivot:\n",
    "            array[i], array[m1] = array[m1], array[i]\n",
    "            \n",
    "            m1 += 1\n",
    "            m2 += 1\n",
    "            i += 1\n",
    "            \n",
    "        else:\n",
    "            array[i], array[right] = array[right], array[i]\n",
    "            right -= 1            \n",
    "    \n",
    "    return m1, m2\n",
    "    \n",
    "\n",
    "def randomized_quick_sort(array, left, right):\n",
    "    if left >= right:\n",
    "        return\n",
    "    k = randint(left, right)\n",
    "    array[left], array[k] = array[k], array[left]\n",
    "    m1, m2 = partition3(array, left, right)\n",
    "    randomized_quick_sort(array, left, m1 - 1)\n",
    "    randomized_quick_sort(array, m2 + 1, right)"
   ]
  },
  {
   "cell_type": "code",
   "execution_count": 64,
   "id": "2260b68d",
   "metadata": {},
   "outputs": [
    {
     "name": "stdout",
     "output_type": "stream",
     "text": [
      "2 5 3 5 7 5 6 7 4 5 2 9 7 7 6 8\n",
      "2 2 3 4 5 5 5 5 6 6 7 7 7 7 8 9\n"
     ]
    }
   ],
   "source": [
    "elements = [2,5,3,5,7,5,6,7,4,5,2,9,7,7,6,8]\n",
    "print(*elements)\n",
    "randomized_quick_sort(elements, 0, 15)\n",
    "print(*elements)"
   ]
  },
  {
   "cell_type": "code",
   "execution_count": 67,
   "id": "40f9aa12",
   "metadata": {},
   "outputs": [
    {
     "name": "stdout",
     "output_type": "stream",
     "text": [
      "12\n",
      "2 5 3 5 7 5 6 7 4 5 2 9 7 7 6 8\n",
      "2 2 3 4 5 5 5 5 6 6 7 7 7 7 8 9\n"
     ]
    }
   ],
   "source": [
    "if __name__ == '__main__':\n",
    "    input_n = int(input())\n",
    "    elements = [int(x) for x in input().split(\" \")]\n",
    "    \n",
    "    randomized_quick_sort(elements, 0, len(elements) - 1)"
   ]
  },
  {
   "cell_type": "markdown",
   "id": "691de2f9",
   "metadata": {},
   "source": [
    "## Number of Inversions\n",
    "Number of Inversions Problem\\\n",
    "Compute the number of inversions in a sequence of integers.\\\n",
    "Input: A sequence of n integers a1 ,...,an.\\\n",
    "Output: The number of inversions in the sequence, i.e., the number of indices i < j such that ai > aj."
   ]
  },
  {
   "cell_type": "code",
   "execution_count": 69,
   "id": "5f213318",
   "metadata": {},
   "outputs": [],
   "source": [
    "from itertools import combinations\n",
    "\n",
    "def inversions_naive(a):\n",
    "    number_of_inversions = 0\n",
    "    for i, j in combinations(range(len(a)), 2):\n",
    "        if a[i] > a[j]:\n",
    "            number_of_inversions += 1\n",
    "    return number_of_inversions"
   ]
  },
  {
   "cell_type": "code",
   "execution_count": 109,
   "id": "50ade0cd",
   "metadata": {},
   "outputs": [],
   "source": [
    "def inversions(elements):\n",
    "    \n",
    "    def merge(l1, l2):\n",
    "        sorted_list = []\n",
    "        inversions = 0\n",
    "        index_1 = 0\n",
    "        index_2 = 0\n",
    "        \n",
    "        while index_1 < len(l1) and index_2 < len(l2):\n",
    "            \n",
    "            if l1[index_1] <= l2[index_2]:\n",
    "                sorted_list.append(l1[index_1])\n",
    "                index_1 += 1\n",
    "                \n",
    "            else:\n",
    "                sorted_list.append(l2[index_2])\n",
    "                index_2 += 1\n",
    "                inversions += len(l1)-index_1\n",
    "    \n",
    "        sorted_list += l1[index_1:]\n",
    "        sorted_list += l2[index_2:]\n",
    "    \n",
    "        return sorted_list, inversions\n",
    "    \n",
    "    \n",
    "    def mergesort(elements, start, end):\n",
    "        \n",
    "        if start == end:\n",
    "            return [elements[start]], 0\n",
    "        \n",
    "        mid = (start + end)//2\n",
    "\n",
    "        elements_1, left_inv = mergesort(elements, start, mid)\n",
    "        elements_2, right_inv = mergesort(elements, mid+1, end)\n",
    "        sorted_elements, split_inv = merge(elements_1, elements_2)\n",
    "\n",
    "        total_inversions = left_inv + right_inv + split_inv\n",
    "        \n",
    "        return sorted_elements, total_inversions\n",
    "    \n",
    "    sort_list, number_of_inversions = mergesort(elements, 0, len(elements)-1)\n",
    "    \n",
    "    return number_of_inversions"
   ]
  },
  {
   "cell_type": "code",
   "execution_count": 113,
   "id": "af0adb88",
   "metadata": {},
   "outputs": [
    {
     "name": "stdout",
     "output_type": "stream",
     "text": [
      "2 5 3 5 7 5 6 7 4 5 2 9 7 7 6 8\n",
      "29\n"
     ]
    }
   ],
   "source": [
    "elements = [2,5,3,5,7,5,6,7,4,5,2,9,7,7,6,8]\n",
    "print(*elements)\n",
    "print(inversions(elements))"
   ]
  },
  {
   "cell_type": "code",
   "execution_count": 116,
   "id": "e856875a",
   "metadata": {},
   "outputs": [
    {
     "name": "stdout",
     "output_type": "stream",
     "text": [
      "5\n",
      "5 4 3 2 1\n",
      "10\n"
     ]
    }
   ],
   "source": [
    "if __name__ == '__main__':\n",
    "    input_n = int(input())\n",
    "    elements = [int(x) for x in input().split(\" \")]\n",
    "\n",
    "    print(inversions(elements))"
   ]
  },
  {
   "cell_type": "markdown",
   "id": "0e43f20b",
   "metadata": {},
   "source": [
    "## Organizing a Lottery\n",
    "Points and Segments Problem\\\n",
    "Given a set of points and a set of segments on a line, compute, for each point, the number of segments it is contained in.\\\n",
    "Input: A list of segments and a list of points.\\\n",
    "Output: The number of segments containing each point."
   ]
  },
  {
   "cell_type": "code",
   "execution_count": 129,
   "id": "8a391a6b",
   "metadata": {},
   "outputs": [],
   "source": [
    "def points_cover(starts, ends, points):\n",
    "    \n",
    "    events = []\n",
    "    intervals_count = [0]*len(points)\n",
    "    \n",
    "    for s in starts:\n",
    "        events.append((s, 0))\n",
    "        \n",
    "    for p in points:\n",
    "        events.append((p, 1))\n",
    "        \n",
    "    for e in ends:\n",
    "        events.append((e, 2))\n",
    "\n",
    "    events.sort(key=lambda x: (x[0], x[1]))\n",
    "    \n",
    "    point_to_index = dict()\n",
    "    for i in range(len(points)):\n",
    "        if points[i] in point_to_index:\n",
    "            point_to_index[points[i]].append(i)\n",
    "        else:\n",
    "            point_to_index[points[i]] = [i]\n",
    "    \n",
    "    \n",
    "    current_segments=0\n",
    "        \n",
    "    for event in events:\n",
    "        \n",
    "        if event[1] == 0:\n",
    "            current_segments += 1\n",
    "        \n",
    "        elif event[1] == 2:\n",
    "            current_segments -= 1\n",
    "            \n",
    "        else:\n",
    "            idx_point = point_to_index[event[0]]\n",
    "            for idx in idx_point:\n",
    "                intervals_count[idx] = current_segments\n",
    "        \n",
    "    return intervals_count"
   ]
  },
  {
   "cell_type": "code",
   "execution_count": null,
   "id": "11d3f2ae",
   "metadata": {},
   "outputs": [],
   "source": []
  },
  {
   "cell_type": "code",
   "execution_count": 132,
   "id": "5960a15b",
   "metadata": {},
   "outputs": [
    {
     "name": "stdout",
     "output_type": "stream",
     "text": [
      "3 2 0 5 -3 2 7 10 1 6\n",
      "2 0\n"
     ]
    }
   ],
   "source": [
    "if __name__ == '__main__':\n",
    "    data = list(map(int, input().split()))\n",
    "    n, m = data[0], data[1]\n",
    "    input_starts, input_ends = data[2:2 * n + 2:2], data[3:2 * n + 2:2]\n",
    "    input_points = data[2 * n + 2:]\n",
    "\n",
    "    output_count = points_cover(input_starts, input_ends, input_points)\n",
    "    print(*output_count)"
   ]
  },
  {
   "cell_type": "markdown",
   "id": "ebf8e8ed",
   "metadata": {},
   "source": [
    "## Closest Points\n",
    "Closest Points Problem\n",
    "Find the closest pair of points in a set of points on a plane.\\\n",
    "Input: A list of n points on a plane.\\\n",
    "Output: The minimum distance between a pair of these points."
   ]
  },
  {
   "cell_type": "code",
   "execution_count": null,
   "id": "c2e058c0",
   "metadata": {},
   "outputs": [],
   "source": []
  }
 ],
 "metadata": {
  "kernelspec": {
   "display_name": "Python 3 (ipykernel)",
   "language": "python",
   "name": "python3"
  },
  "language_info": {
   "codemirror_mode": {
    "name": "ipython",
    "version": 3
   },
   "file_extension": ".py",
   "mimetype": "text/x-python",
   "name": "python",
   "nbconvert_exporter": "python",
   "pygments_lexer": "ipython3",
   "version": "3.12.3"
  }
 },
 "nbformat": 4,
 "nbformat_minor": 5
}
