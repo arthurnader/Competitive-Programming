{
 "cells": [
  {
   "cell_type": "markdown",
   "id": "68ffecd0",
   "metadata": {},
   "source": [
    "# Greedy Algorithms"
   ]
  },
  {
   "cell_type": "markdown",
   "id": "9baa67ec",
   "metadata": {},
   "source": [
    "## Money Change\n",
    "\n",
    "Compute the minimum number of coins needed to change the given value into coins with denominations 1, 5, and 10.\\\n",
    "Input: An integer money.\\\n",
    "Output: The minimum number of coins with denominations 1, 5, and 10 that changes money."
   ]
  },
  {
   "cell_type": "code",
   "execution_count": 4,
   "id": "a2f4ca43",
   "metadata": {},
   "outputs": [],
   "source": [
    "def change(money):\n",
    "    \n",
    "    coins_10 = money//10\n",
    "    money = money%10\n",
    "    \n",
    "    coins_5 = money//5\n",
    "    money = coins_10 + coins_5 + money%5\n",
    "\n",
    "    return money"
   ]
  },
  {
   "cell_type": "code",
   "execution_count": 5,
   "id": "a299a2d5",
   "metadata": {},
   "outputs": [
    {
     "name": "stdout",
     "output_type": "stream",
     "text": [
      "28\n",
      "6\n"
     ]
    }
   ],
   "source": [
    "if __name__ == '__main__':\n",
    "    m = int(input())\n",
    "    print(change(m))"
   ]
  },
  {
   "cell_type": "markdown",
   "id": "f8e2d8a5",
   "metadata": {},
   "source": [
    "## Maximum Value of the Loot\n",
    "\n",
    "Find the maximal value of items that fit into thebackpack.\\\n",
    "Input: The capacity of a backpack W as well as the weights (w1,...,wn) and costs (c1 ,..., cn) of n different compounds.\\\n",
    "Output: The maximum total value of fractions of items that fit into the backpack of the given capacity: i.e., the maximum value of c1· f1 + ··· + cn · fn such that w1·f1+···+wn·fn ≤ W and 0 ≤ fi ≤1 for all i (fi is the fraction of the i-th item taken to the backpack)."
   ]
  },
  {
   "cell_type": "code",
   "execution_count": null,
   "id": "3c1a7c17",
   "metadata": {},
   "outputs": [],
   "source": [
    "def optimal_value(capacity, weights, values):\n",
    "    value = 0.\n",
    "    # write your code here\n",
    "\n",
    "    return value\n",
    "\n",
    "\n",
    "if __name__ == \"__main__\":\n",
    "    data = list(map(int, stdin.read().split()))\n",
    "    n, capacity = data[0:2]\n",
    "    values = data[2:(2 * n + 2):2]\n",
    "    weights = data[3:(2 * n + 2):2]\n",
    "    opt_value = optimal_value(capacity, weights, values)\n",
    "    print(\"{:.10f}\".format(opt_value))"
   ]
  },
  {
   "cell_type": "markdown",
   "id": "4a49057a",
   "metadata": {},
   "source": [
    "## Car Fueling\n",
    "\n",
    "Compute the minimum number of gas tank refills to get from one city to another.\\\n",
    "Input: Integers d and m, as well as a sequence of integers stop1 < stop2 < ··· < stopn.\\\n",
    "Output: The minimum number of refills to get from one city to another if a car can travel at most m miles on a full tank. The distance between the cities is d miles and there are gas stations at distances stop1, stop2 ,..., stopn along the way. We assume that a car starts with a full tank."
   ]
  },
  {
   "cell_type": "code",
   "execution_count": 36,
   "id": "8593df87",
   "metadata": {},
   "outputs": [],
   "source": [
    "def min_refills(distance, tank, stops):\n",
    "    \n",
    "    stops.append(distance)\n",
    "    available_distance = tank\n",
    "    refills = 0\n",
    "    last = 0\n",
    "    \n",
    "    i = 0\n",
    "    while i != len(stops):\n",
    "        \n",
    "        available_distance -= stops[i]-last\n",
    "        if available_distance < 0:\n",
    "            return -1\n",
    "        \n",
    "        if i < len(stops) -1 and stops[i+1] - stops[i] > available_distance:\n",
    "            available_distance = tank\n",
    "            refills += 1\n",
    "        \n",
    "        last = stops[i]    \n",
    "        i+=1\n",
    "    \n",
    "    return refills\n"
   ]
  },
  {
   "cell_type": "code",
   "execution_count": 45,
   "id": "53984ba6",
   "metadata": {},
   "outputs": [
    {
     "name": "stdout",
     "output_type": "stream",
     "text": [
      "1200\n",
      "400\n",
      "4\n",
      "200 375 550 750\n",
      "-1\n"
     ]
    }
   ],
   "source": [
    "if __name__ == '__main__':\n",
    "    d, m, n = int(input()), int(input()),  int(input()) \n",
    "    stops = [int(x) for x in input().split(\" \")]\n",
    "    print(min_refills(d, m, stops))"
   ]
  },
  {
   "cell_type": "code",
   "execution_count": 42,
   "id": "673eb102",
   "metadata": {},
   "outputs": [],
   "source": [
    "def min_refills(d, m, stops):\n",
    "\n",
    "    stops = [0] + stops + [d]\n",
    "    \n",
    "    num_refills = 0\n",
    "    current_position = 0\n",
    "    \n",
    "    while current_position < len(stops) - 1:\n",
    "        last_position = current_position\n",
    "\n",
    "        while (current_position < len(stops) - 1 and stops[current_position + 1] - stops[last_position] <= m):\n",
    "            current_position += 1\n",
    "\n",
    "        if current_position == last_position:\n",
    "            return -1\n",
    "\n",
    "        if current_position < len(stops) - 1:\n",
    "            num_refills += 1\n",
    "    \n",
    "    return num_refills"
   ]
  },
  {
   "cell_type": "code",
   "execution_count": 44,
   "id": "4daad8fe",
   "metadata": {},
   "outputs": [
    {
     "data": {
      "text/plain": [
       "2"
      ]
     },
     "execution_count": 44,
     "metadata": {},
     "output_type": "execute_result"
    }
   ],
   "source": [
    "min_refills(900, 400, [200, 375, 550, 750])"
   ]
  },
  {
   "cell_type": "markdown",
   "id": "4a2ed8d0",
   "metadata": {},
   "source": [
    "## Maximum Product of Two Sequences\n",
    "Find the maximum dot product of two sequencesof numbers.\\\n",
    "Input: Two sequences of n positive integers: price1 ,...,pricen and clicks1 ,...,clicksn.\\\n",
    "Output: The maximum value of price1 · c1 + ··· + pricen · cn, where c1 ,..., cn is a permutation of clicks1 ,...,clicksn."
   ]
  },
  {
   "cell_type": "code",
   "execution_count": 48,
   "id": "00d0083f",
   "metadata": {},
   "outputs": [],
   "source": [
    "def max_dot_product(first_sequence, second_sequence):\n",
    "    max_product = 0\n",
    "    \n",
    "    first_sequence.sort()\n",
    "    second_sequence.sort()\n",
    "    \n",
    "    for i in range(len(first_sequence)):\n",
    "        max_product += first_sequence[i]*second_sequence[i]\n",
    "    \n",
    "    return max_product"
   ]
  },
  {
   "cell_type": "code",
   "execution_count": 49,
   "id": "0673aa2e",
   "metadata": {},
   "outputs": [
    {
     "name": "stdout",
     "output_type": "stream",
     "text": [
      "3\n",
      "2 3 9\n",
      "7 4 2\n",
      "79\n"
     ]
    }
   ],
   "source": [
    "if __name__ == '__main__':\n",
    "    n = int(input())\n",
    "    prices = [int(x) for x in input().split(\" \")]\n",
    "    clicks = [int(x) for x in input().split(\" \")]\n",
    "\n",
    "    print(max_dot_product(prices, clicks))"
   ]
  },
  {
   "cell_type": "code",
   "execution_count": null,
   "id": "f96f23bc",
   "metadata": {},
   "outputs": [],
   "source": []
  },
  {
   "cell_type": "markdown",
   "id": "9b656af8",
   "metadata": {},
   "source": [
    "## Collecting Signatures\n",
    "### Covering Segments by Points Problem\n",
    "Find the minimum number of points needed to cover all given segments on a line.\\\n",
    "Input: A sequence of n segments [l1, r1],...,[ln, rn] on a line.\\\n",
    "Output: A set of points of minimum size such that each segment [li, ri] contains a point, i.e., there exists a point x from this set such that li ≤ x ≤ ri ."
   ]
  },
  {
   "cell_type": "code",
   "execution_count": 69,
   "id": "fa4988ea",
   "metadata": {},
   "outputs": [],
   "source": [
    "def optimal_points(segments):\n",
    "    points = []\n",
    "    \n",
    "    segments.sort(key=lambda x: x[1])\n",
    "    current_point = segments[0][1]\n",
    "    points.append(current_point)\n",
    "    \n",
    "    for s in segments:\n",
    "        \n",
    "        if current_point < s[0]: \n",
    "            current_point = s[1]\n",
    "            points.append(current_point)\n",
    "    \n",
    "    return len(points), points"
   ]
  },
  {
   "cell_type": "code",
   "execution_count": 72,
   "id": "b26f685d",
   "metadata": {},
   "outputs": [
    {
     "name": "stdout",
     "output_type": "stream",
     "text": [
      "4\n",
      "4 7\n",
      "1 3\n",
      "2 5\n",
      "5 6\n",
      "2\n",
      "3 6\n"
     ]
    }
   ],
   "source": [
    "if __name__ == '__main__':\n",
    "    n = int(input())\n",
    "    segments = []\n",
    "    \n",
    "    for i in range(n):\n",
    "        data = input().split(\" \")\n",
    "        segments.append((int(data[0]), int(data[1])))\n",
    "    \n",
    "    num_points, points = optimal_points(segments)\n",
    "    print(num_points)\n",
    "    print(*points)"
   ]
  },
  {
   "cell_type": "markdown",
   "id": "65c032af",
   "metadata": {},
   "source": [
    "## Maximum Number of Prizes\n",
    "### Distinct Summands Problem\n",
    "Represent a positive integer as the sum of the maximum number of pairwise distinct positive integers.\\\n",
    "Input: A positive integer n.\\\n",
    "Output: The maximum k such that n can be represented as the sum a1 + ··· + ak of k distinct positive integers."
   ]
  },
  {
   "cell_type": "code",
   "execution_count": 104,
   "id": "1d6f78df",
   "metadata": {},
   "outputs": [],
   "source": [
    "def optimal_summands(n):\n",
    "    summands = []\n",
    "    already_taken = set()\n",
    "    \n",
    "    if n == 2:\n",
    "        return 1, [2]\n",
    "    \n",
    "    i = 1\n",
    "    while n != 0:\n",
    "        \n",
    "        if n - i not in already_taken:\n",
    "            summands.append(i)\n",
    "            already_taken.add(i)\n",
    "            n = n-i\n",
    "        \n",
    "        i+=1\n",
    "        \n",
    "    \n",
    "    return len(summands), summands\n"
   ]
  },
  {
   "cell_type": "markdown",
   "id": "38caf220",
   "metadata": {},
   "source": [
    "Better solution"
   ]
  },
  {
   "cell_type": "code",
   "execution_count": 81,
   "id": "270b42cc",
   "metadata": {},
   "outputs": [],
   "source": [
    "def optimal_summands(n):\n",
    "    summands = []\n",
    "    i = 1\n",
    "    \n",
    "    while n > 0:\n",
    "        if n - i > i:\n",
    "            summands.append(i)\n",
    "            n -= i\n",
    "        else:\n",
    "            summands.append(n)\n",
    "            n = 0\n",
    "        i += 1\n",
    "    \n",
    "    return len(summands), summands"
   ]
  },
  {
   "cell_type": "code",
   "execution_count": 105,
   "id": "44928084",
   "metadata": {},
   "outputs": [
    {
     "name": "stdout",
     "output_type": "stream",
     "text": [
      "12523\n",
      "157\n",
      "1 2 3 4 5 6 7 8 9 10 11 12 13 14 15 16 17 18 19 20 21 22 23 24 25 26 27 28 29 30 31 32 33 34 35 36 37 38 39 40 41 42 43 44 45 46 47 48 49 50 51 52 53 54 55 56 57 58 59 60 61 62 63 64 65 66 67 68 69 70 71 72 73 74 75 76 77 78 79 80 81 82 83 84 85 86 87 88 89 90 91 92 93 94 95 96 97 98 99 100 101 102 103 104 105 106 107 108 109 110 111 112 113 114 115 116 117 118 119 120 121 122 123 124 125 126 127 128 129 130 131 132 133 134 135 136 137 138 139 140 141 142 143 144 145 146 147 148 149 150 151 152 153 154 155 156 277\n"
     ]
    }
   ],
   "source": [
    "if __name__ == '__main__':\n",
    "    n = int(input())\n",
    "    k, summands = optimal_summands(n)\n",
    "    print(k)\n",
    "    print(*summands)"
   ]
  },
  {
   "cell_type": "markdown",
   "id": "0301c78c",
   "metadata": {},
   "source": [
    "# Solve with Binary Search the problem above"
   ]
  },
  {
   "cell_type": "markdown",
   "id": "63784d6b",
   "metadata": {},
   "source": [
    "## Maximum Salary\n",
    "### Largest Concatenate Problem\n",
    "\n",
    "Compile the largest integer by concatenating the given integers.\\\n",
    "Input: A sequence of positive integers.\\\n",
    "Output: The largest integer that can be obtained by concatenating the given integers in some order"
   ]
  },
  {
   "cell_type": "code",
   "execution_count": 97,
   "id": "3e02ba0a",
   "metadata": {},
   "outputs": [],
   "source": [
    "def largest_number_naive(numbers):\n",
    "   \n",
    "    numbers.sort(reverse=True)\n",
    "\n",
    "    return \"\".join(numbers)"
   ]
  },
  {
   "cell_type": "code",
   "execution_count": 99,
   "id": "1a5ada12",
   "metadata": {},
   "outputs": [
    {
     "name": "stdout",
     "output_type": "stream",
     "text": [
      "10\n",
      "581 9 5 532 517 52 569 57 9\n",
      "9958157569532525175\n"
     ]
    }
   ],
   "source": [
    "\n",
    "if __name__ == '__main__':\n",
    "    _ = int(input())\n",
    "    input_numbers = input().split()\n",
    "    print(largest_number_naive(input_numbers))"
   ]
  },
  {
   "cell_type": "code",
   "execution_count": 96,
   "id": "866c6fd6",
   "metadata": {},
   "outputs": [
    {
     "data": {
      "text/plain": [
       "['581', '57', '569', '532', '52', '517', '5']"
      ]
     },
     "execution_count": 96,
     "metadata": {},
     "output_type": "execute_result"
    }
   ],
   "source": [
    "l = [\"581\", \"5\", \"532\", \"517\", \"52\", \"569\", \"57\"]\n",
    "l.sort(reverse=True)\n",
    "l"
   ]
  },
  {
   "cell_type": "code",
   "execution_count": 100,
   "id": "f2728303",
   "metadata": {},
   "outputs": [],
   "source": [
    "from functools import cmp_to_key\n",
    "\n",
    "# Custom comparator function\n",
    "def compare(a, b):\n",
    "    if a + b > b + a:\n",
    "        return -1\n",
    "    elif a + b < b + a:\n",
    "        return 1\n",
    "    else:\n",
    "        return 0\n",
    "\n",
    "def largest_concatenated_number(nums):\n",
    "    # Convert numbers to strings for easy concatenation\n",
    "    nums = [str(num) for num in nums]\n",
    "    \n",
    "    # Sort the numbers based on custom comparator\n",
    "    nums.sort(key=cmp_to_key(compare))\n",
    "    \n",
    "    # Join the sorted numbers to form the largest number\n",
    "    largest_number = ''.join(nums)\n",
    "    \n",
    "    # Handle the case where the numbers are all zeros\n",
    "    if largest_number[0] == '0':\n",
    "        return '0'\n",
    "    \n",
    "    return largest_number"
   ]
  },
  {
   "cell_type": "code",
   "execution_count": 101,
   "id": "5f92ad09",
   "metadata": {},
   "outputs": [
    {
     "data": {
      "text/plain": [
       "'58157569553252517'"
      ]
     },
     "execution_count": 101,
     "metadata": {},
     "output_type": "execute_result"
    }
   ],
   "source": [
    "largest_concatenated_number([\"581\", \"5\", \"532\", \"517\", \"52\", \"569\", \"57\"])"
   ]
  },
  {
   "cell_type": "code",
   "execution_count": null,
   "id": "79e26eee",
   "metadata": {},
   "outputs": [],
   "source": []
  }
 ],
 "metadata": {
  "kernelspec": {
   "display_name": "Python 3 (ipykernel)",
   "language": "python",
   "name": "python3"
  },
  "language_info": {
   "codemirror_mode": {
    "name": "ipython",
    "version": 3
   },
   "file_extension": ".py",
   "mimetype": "text/x-python",
   "name": "python",
   "nbconvert_exporter": "python",
   "pygments_lexer": "ipython3",
   "version": "3.12.3"
  }
 },
 "nbformat": 4,
 "nbformat_minor": 5
}
