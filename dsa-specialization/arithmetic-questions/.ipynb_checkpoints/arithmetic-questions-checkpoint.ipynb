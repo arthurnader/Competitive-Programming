{
 "cells": [
  {
   "cell_type": "markdown",
   "id": "4dcebc5f",
   "metadata": {},
   "source": [
    "## Fibonacci Number\n",
    "\n",
    "Compute the n-th Fibonacci number.\\\n",
    "Input: An integer n.\\\n",
    "Output: n-th Fibonacci number."
   ]
  },
  {
   "cell_type": "code",
   "execution_count": 13,
   "id": "0ada6656",
   "metadata": {},
   "outputs": [],
   "source": [
    "def fibo(n):\n",
    "    \n",
    "    if n <= 1:\n",
    "        return n\n",
    "    \n",
    "    prev = 0\n",
    "    current = 1\n",
    "    \n",
    "    for i in range(2, n+1):\n",
    "        current, prev = current+prev, current\n",
    "        \n",
    "    return current"
   ]
  },
  {
   "cell_type": "code",
   "execution_count": 26,
   "id": "eadc5297",
   "metadata": {},
   "outputs": [
    {
     "data": {
      "text/plain": [
       "55"
      ]
     },
     "execution_count": 26,
     "metadata": {},
     "output_type": "execute_result"
    }
   ],
   "source": [
    "fibo(10)"
   ]
  },
  {
   "cell_type": "markdown",
   "id": "8006fd5a",
   "metadata": {},
   "source": [
    "## Last Digit of Fibonacci Number \n",
    "\n",
    "Compute the last digit of the n-th Fibonacci number.\\\n",
    "Input: An integer n.\\\n",
    "Output: The last digit of the n-th Fibonacci number."
   ]
  },
  {
   "cell_type": "code",
   "execution_count": 27,
   "id": "c5bd1913",
   "metadata": {},
   "outputs": [],
   "source": [
    "def last_digit_fibo(n):\n",
    "    \n",
    "    if n <= 1:\n",
    "        return n\n",
    "    \n",
    "    prev = 0\n",
    "    current = 1\n",
    "    \n",
    "    for i in range(2, n+1):\n",
    "        current, prev = (current+prev)%10, current\n",
    "        \n",
    "    return current"
   ]
  },
  {
   "cell_type": "code",
   "execution_count": 28,
   "id": "e2f3a235",
   "metadata": {},
   "outputs": [
    {
     "data": {
      "text/plain": [
       "6"
      ]
     },
     "execution_count": 28,
     "metadata": {},
     "output_type": "execute_result"
    }
   ],
   "source": [
    "last_digit_fibo(91239)"
   ]
  },
  {
   "cell_type": "markdown",
   "id": "993d03f2",
   "metadata": {},
   "source": [
    "## Huge Fibonacci Number \n",
    "\n",
    "Compute the n-th Fibonacci number modulo m.\\\n",
    "Input: Integers n and m.\\\n",
    "Output: n-th Fibonacci number modulo m."
   ]
  },
  {
   "cell_type": "code",
   "execution_count": 6,
   "id": "a64b57b2",
   "metadata": {},
   "outputs": [],
   "source": [
    "def huge_fibo(n, m):\n",
    "    \n",
    "    if n <= 1:\n",
    "        return n\n",
    "    \n",
    "    prev = 0\n",
    "    current = 1\n",
    "    \n",
    "    for i in range(2, n+1):\n",
    "        current, prev = (current+prev)%m, current\n",
    "        \n",
    "    return current"
   ]
  },
  {
   "cell_type": "code",
   "execution_count": 7,
   "id": "251a31a6",
   "metadata": {},
   "outputs": [
    {
     "ename": "KeyboardInterrupt",
     "evalue": "",
     "output_type": "error",
     "traceback": [
      "\u001b[0;31m---------------------------------------------------------------------------\u001b[0m",
      "\u001b[0;31mKeyboardInterrupt\u001b[0m                         Traceback (most recent call last)",
      "Cell \u001b[0;32mIn[7], line 1\u001b[0m\n\u001b[0;32m----> 1\u001b[0m \u001b[43mhuge_fibo\u001b[49m\u001b[43m(\u001b[49m\u001b[38;5;241;43m9999999999999\u001b[39;49m\u001b[43m,\u001b[49m\u001b[43m \u001b[49m\u001b[38;5;241;43m2\u001b[39;49m\u001b[43m)\u001b[49m\n",
      "Cell \u001b[0;32mIn[6], line 10\u001b[0m, in \u001b[0;36mhuge_fibo\u001b[0;34m(n, m)\u001b[0m\n\u001b[1;32m      7\u001b[0m current \u001b[38;5;241m=\u001b[39m \u001b[38;5;241m1\u001b[39m\n\u001b[1;32m      9\u001b[0m \u001b[38;5;28;01mfor\u001b[39;00m i \u001b[38;5;129;01min\u001b[39;00m \u001b[38;5;28mrange\u001b[39m(\u001b[38;5;241m2\u001b[39m, n\u001b[38;5;241m+\u001b[39m\u001b[38;5;241m1\u001b[39m):\n\u001b[0;32m---> 10\u001b[0m     current, prev \u001b[38;5;241m=\u001b[39m (current\u001b[38;5;241m+\u001b[39mprev)\u001b[38;5;241m%\u001b[39mm, current\n\u001b[1;32m     12\u001b[0m \u001b[38;5;28;01mreturn\u001b[39;00m current\n",
      "\u001b[0;31mKeyboardInterrupt\u001b[0m: "
     ]
    }
   ],
   "source": [
    "huge_fibo(9999999999999, 2)"
   ]
  },
  {
   "cell_type": "code",
   "execution_count": 9,
   "id": "6608ea7e",
   "metadata": {},
   "outputs": [],
   "source": [
    "def pisano_period(m):\n",
    "    prev, current = 0, 1\n",
    "    for i in range(0, m * m):  # Pisano period for any m is <= m^2\n",
    "        prev, current = current, (prev + current) % m\n",
    "        if prev == 0 and current == 1:\n",
    "            return i + 1\n",
    "\n",
    "def huge_fibo(n, m):\n",
    "    if n <= 1:\n",
    "        return n\n",
    "\n",
    "    # Find Pisano period for given m\n",
    "    pisano = pisano_period(m)\n",
    "\n",
    "    # Reduce n mod Pisano period\n",
    "    n = n % pisano\n",
    "\n",
    "    if n <= 1:\n",
    "        return n\n",
    "\n",
    "    prev, current = 0, 1\n",
    "    for i in range(2, n + 1):\n",
    "        current, prev = (current + prev) % m, current\n",
    "\n",
    "    return current"
   ]
  },
  {
   "cell_type": "code",
   "execution_count": 10,
   "id": "91f010bf",
   "metadata": {},
   "outputs": [
    {
     "data": {
      "text/plain": [
       "0"
      ]
     },
     "execution_count": 10,
     "metadata": {},
     "output_type": "execute_result"
    }
   ],
   "source": [
    "huge_fibo(9999999999999, 2)"
   ]
  },
  {
   "cell_type": "markdown",
   "id": "a3209b08",
   "metadata": {},
   "source": [
    "## Last Digit of the Sum of Fibonacci Numbers \n",
    "\n",
    "Compute the last digit of F0 + F1 + ··· + Fn.\\\n",
    "Input: An integer n.\\\n",
    "Output: The last digit of F0 +F1 + ··· + Fn."
   ]
  },
  {
   "cell_type": "code",
   "execution_count": 1,
   "id": "59efdd06",
   "metadata": {},
   "outputs": [],
   "source": [
    "def last_digit_fibo_sum(n):\n",
    "    \n",
    "    if n <= 1:\n",
    "        return n\n",
    "    \n",
    "    prev = 0\n",
    "    current = 1\n",
    "    sum_ = 1\n",
    "    \n",
    "    for i in range(2, n+1):\n",
    "        current, prev = (current+prev)%10, current\n",
    "        sum_+= current\n",
    "        sum_%=10\n",
    "        \n",
    "    return sum_"
   ]
  },
  {
   "cell_type": "code",
   "execution_count": 2,
   "id": "4268d335",
   "metadata": {},
   "outputs": [
    {
     "ename": "KeyboardInterrupt",
     "evalue": "",
     "output_type": "error",
     "traceback": [
      "\u001b[0;31m---------------------------------------------------------------------------\u001b[0m",
      "\u001b[0;31mKeyboardInterrupt\u001b[0m                         Traceback (most recent call last)",
      "Cell \u001b[0;32mIn[2], line 1\u001b[0m\n\u001b[0;32m----> 1\u001b[0m \u001b[43mlast_digit_fibo_sum\u001b[49m\u001b[43m(\u001b[49m\u001b[38;5;241;43m832564823476\u001b[39;49m\u001b[43m)\u001b[49m\n",
      "Cell \u001b[0;32mIn[1], line 13\u001b[0m, in \u001b[0;36mlast_digit_fibo_sum\u001b[0;34m(n)\u001b[0m\n\u001b[1;32m     11\u001b[0m     current, prev \u001b[38;5;241m=\u001b[39m (current\u001b[38;5;241m+\u001b[39mprev)\u001b[38;5;241m%\u001b[39m\u001b[38;5;241m10\u001b[39m, current\n\u001b[1;32m     12\u001b[0m     sum_\u001b[38;5;241m+\u001b[39m\u001b[38;5;241m=\u001b[39m current\n\u001b[0;32m---> 13\u001b[0m     sum_\u001b[38;5;241m%\u001b[39m\u001b[38;5;241m=\u001b[39m\u001b[38;5;241m10\u001b[39m\n\u001b[1;32m     15\u001b[0m \u001b[38;5;28;01mreturn\u001b[39;00m sum_\n",
      "\u001b[0;31mKeyboardInterrupt\u001b[0m: "
     ]
    }
   ],
   "source": [
    "last_digit_fibo_sum(832564823476)"
   ]
  },
  {
   "cell_type": "markdown",
   "id": "6bc9a5c1",
   "metadata": {},
   "source": [
    "Explanation:\\\n",
    "Pisano Period: Since the last digits of Fibonacci numbers modulo 10 repeat every 60 numbers, calculating Fibonacci sums for n % 60 greatly reduces the number of iterations required.\\\n",
    "Early Return: If n <= 1, we immediately return n as before.\\\n",
    "Modulo in Loop: As you did in the original function, we keep applying % 10 to keep numbers manageable.\\\n",
    "This optimization significantly reduces the time complexity from O(n) to O(60), making it constant time in practice."
   ]
  },
  {
   "cell_type": "code",
   "execution_count": 3,
   "id": "8ae2a894",
   "metadata": {},
   "outputs": [],
   "source": [
    "def last_digit_fibo_sum(n):\n",
    "    if n <= 1:\n",
    "        return n\n",
    "\n",
    "    # Pisano period for modulo 10 is 60\n",
    "    n %= 60\n",
    "\n",
    "    if n <= 1:\n",
    "        return n\n",
    "    \n",
    "    prev, current = 0, 1\n",
    "    sum_ = 1\n",
    "\n",
    "    for i in range(2, n + 1):\n",
    "        current, prev = (current + prev) % 10, current\n",
    "        sum_ = (sum_ + current) % 10\n",
    "\n",
    "    return sum_\n"
   ]
  },
  {
   "cell_type": "code",
   "execution_count": 4,
   "id": "00787bf9",
   "metadata": {},
   "outputs": [
    {
     "data": {
      "text/plain": [
       "3"
      ]
     },
     "execution_count": 4,
     "metadata": {},
     "output_type": "execute_result"
    }
   ],
   "source": [
    "last_digit_fibo_sum(832564823476)"
   ]
  },
  {
   "cell_type": "markdown",
   "id": "627cc5dc",
   "metadata": {},
   "source": [
    "## Last Digit of the Partial Sum of Fibonacci Numbers\n",
    "\n",
    "Compute the last digit of Fm + Fm+1 + ··· + Fn.\\\n",
    "Input: Integers m ≤ n.\\\n",
    "Output: The last digit of Fm + Fm+1 + ··· + Fn."
   ]
  },
  {
   "cell_type": "code",
   "execution_count": 20,
   "id": "6b1cae9e",
   "metadata": {},
   "outputs": [],
   "source": [
    "def last_digit_fibo_partial_sum(from_, to):\n",
    "    \n",
    "    if to <= 1:\n",
    "        return to\n",
    "    \n",
    "    prev = 0\n",
    "    current = 1\n",
    "    sum_ = 0\n",
    "    \n",
    "    for i in range(2, from_):\n",
    "        current, prev = (current+prev)%10, current\n",
    "        \n",
    "    for i in range(from_, to+1):\n",
    "        current, prev = (current+prev)%10, current\n",
    "        sum_+= current\n",
    "        sum_%=10\n",
    "        \n",
    "    return sum_"
   ]
  },
  {
   "cell_type": "code",
   "execution_count": 21,
   "id": "8076bb2d",
   "metadata": {},
   "outputs": [],
   "source": [
    "def fibonacci_partial_sum(from_, to):\n",
    "    if to <= 1:\n",
    "        return to\n",
    "    \n",
    "    prev = 0\n",
    "    current = 1\n",
    "    sum_ = 0\n",
    "\n",
    "    for i in range(2, from_):\n",
    "        current, prev = (current + prev) % 10, current % 10\n",
    "\n",
    "    for i in range(from_, to + 1):\n",
    "        current, prev = (current + prev) % 10, current % 10\n",
    "        sum_ = (sum_ + current) % 10\n",
    "        \n",
    "    return sum_"
   ]
  },
  {
   "cell_type": "code",
   "execution_count": 22,
   "id": "942f2cd3",
   "metadata": {},
   "outputs": [
    {
     "data": {
      "text/plain": [
       "3"
      ]
     },
     "execution_count": 22,
     "metadata": {},
     "output_type": "execute_result"
    }
   ],
   "source": []
  },
  {
   "cell_type": "code",
   "execution_count": 23,
   "id": "dda1a8f0",
   "metadata": {},
   "outputs": [],
   "source": [
    "def pisano_period(m):\n",
    "    prev, current = 0, 1\n",
    "    for i in range(0, m * m):\n",
    "        prev, current = current, (prev + current) % m\n",
    "        if prev == 0 and current == 1:\n",
    "            return i + 1\n",
    "\n",
    "def fib_sum(n):\n",
    "    if n <= 1:\n",
    "        return n\n",
    "\n",
    "    prev, current = 0, 1\n",
    "    sum_ = 1  # sum of F(0) + F(1)\n",
    "    \n",
    "    for i in range(2, n + 1):\n",
    "        current, prev = (current + prev) % 10, current\n",
    "        sum_ = (sum_ + current) % 10\n",
    "\n",
    "    return sum_\n",
    "\n",
    "def last_digit_fibo_partial_sum(from_, to):\n",
    "    if from_ > to:\n",
    "        return 0\n",
    "\n",
    "    # Pisano period for modulo 10 is 60\n",
    "    pisano = pisano_period(10)\n",
    "\n",
    "    # Reduce both 'from_' and 'to' modulo the Pisano period\n",
    "    from_ %= pisano\n",
    "    to %= pisano\n",
    "\n",
    "    # If the range wraps around, adjust the indices\n",
    "    if to < from_:\n",
    "        to += pisano\n",
    "\n",
    "    # Sum of Fibonacci numbers up to 'to' minus sum up to 'from_ - 1'\n",
    "    total_sum = (fib_sum(to) - fib_sum(from_ - 1)) % 10\n",
    "\n",
    "    return total_sum\n"
   ]
  },
  {
   "cell_type": "code",
   "execution_count": 24,
   "id": "ef9026f6",
   "metadata": {},
   "outputs": [
    {
     "data": {
      "text/plain": [
       "2"
      ]
     },
     "execution_count": 24,
     "metadata": {},
     "output_type": "execute_result"
    }
   ],
   "source": [
    "last_digit_fibo_partial_sum(1, 2)"
   ]
  },
  {
   "cell_type": "markdown",
   "id": "9bcd6385",
   "metadata": {},
   "source": [
    "## Last Digit of the Sum of Squares of Fibonacci Numbers\n",
    "\n",
    "Compute the last digit of $F_0^2 + F_1^2 + \\cdots + F_n^2$.\n",
    "\n",
    "Input: An integer n.\n",
    "\n",
    "Output: The last digit of $F_0^2 + F_1^2 + \\cdots + F_n^2$."
   ]
  },
  {
   "cell_type": "code",
   "execution_count": 11,
   "id": "9e5ab9c2",
   "metadata": {},
   "outputs": [],
   "source": [
    "def last_digit_square_fibo_sum(n):\n",
    "    \n",
    "    if n <= 1:\n",
    "        return n\n",
    "    \n",
    "    \n",
    "    \n",
    "    prev = 0\n",
    "    current = 1\n",
    "    sum_ = 1\n",
    "    \n",
    "    for i in range(2, n+1):\n",
    "        current, prev = (current+prev)%10, current\n",
    "        sum_+= current**2\n",
    "        sum_%=10\n",
    "        \n",
    "    return sum_"
   ]
  },
  {
   "cell_type": "code",
   "execution_count": 12,
   "id": "72561ecc",
   "metadata": {},
   "outputs": [
    {
     "ename": "KeyboardInterrupt",
     "evalue": "",
     "output_type": "error",
     "traceback": [
      "\u001b[0;31m---------------------------------------------------------------------------\u001b[0m",
      "\u001b[0;31mKeyboardInterrupt\u001b[0m                         Traceback (most recent call last)",
      "Cell \u001b[0;32mIn[12], line 1\u001b[0m\n\u001b[0;32m----> 1\u001b[0m \u001b[43mlast_digit_square_fibo_sum\u001b[49m\u001b[43m(\u001b[49m\u001b[38;5;241;43m832564823476\u001b[39;49m\u001b[43m)\u001b[49m\n",
      "Cell \u001b[0;32mIn[11], line 15\u001b[0m, in \u001b[0;36mlast_digit_square_fibo_sum\u001b[0;34m(n)\u001b[0m\n\u001b[1;32m     13\u001b[0m     current, prev \u001b[38;5;241m=\u001b[39m (current\u001b[38;5;241m+\u001b[39mprev)\u001b[38;5;241m%\u001b[39m\u001b[38;5;241m10\u001b[39m, current\n\u001b[1;32m     14\u001b[0m     sum_\u001b[38;5;241m+\u001b[39m\u001b[38;5;241m=\u001b[39m current\u001b[38;5;241m*\u001b[39m\u001b[38;5;241m*\u001b[39m\u001b[38;5;241m2\u001b[39m\n\u001b[0;32m---> 15\u001b[0m     sum_\u001b[38;5;241m%\u001b[39m\u001b[38;5;241m=\u001b[39m\u001b[38;5;241m10\u001b[39m\n\u001b[1;32m     17\u001b[0m \u001b[38;5;28;01mreturn\u001b[39;00m sum_\n",
      "\u001b[0;31mKeyboardInterrupt\u001b[0m: "
     ]
    }
   ],
   "source": [
    "last_digit_square_fibo_sum(832564823476)"
   ]
  },
  {
   "cell_type": "code",
   "execution_count": 14,
   "id": "5df15fd0",
   "metadata": {},
   "outputs": [],
   "source": [
    "def last_digit_square_fibo_sum(n):\n",
    "    \n",
    "    if n <= 1:\n",
    "        return n\n",
    "    \n",
    "    n = n%60\n",
    "    if n <= 1:\n",
    "        return n\n",
    "    \n",
    "    prev = 0\n",
    "    current = 1\n",
    "    sum_ = 1\n",
    "    \n",
    "    for i in range(2, n+1):\n",
    "        current, prev = (current+prev)%10, current\n",
    "        sum_+= current**2\n",
    "        sum_%=10\n",
    "        \n",
    "    return sum_"
   ]
  },
  {
   "cell_type": "code",
   "execution_count": 15,
   "id": "764019ad",
   "metadata": {},
   "outputs": [
    {
     "data": {
      "text/plain": [
       "9"
      ]
     },
     "execution_count": 15,
     "metadata": {},
     "output_type": "execute_result"
    }
   ],
   "source": [
    "last_digit_square_fibo_sum(832564823476)"
   ]
  },
  {
   "cell_type": "code",
   "execution_count": 16,
   "id": "0d9dac77",
   "metadata": {},
   "outputs": [],
   "source": [
    "def pisano_period(m):\n",
    "    prev, current = 0, 1\n",
    "    for i in range(0, m * m):\n",
    "        prev, current = current, (prev + current) % m\n",
    "        if prev == 0 and current == 1:\n",
    "            return i + 1\n",
    "\n",
    "def fib(n, m):\n",
    "    if n <= 1:\n",
    "        return n\n",
    "    prev, current = 0, 1\n",
    "    for i in range(2, n + 1):\n",
    "        prev, current = current, (prev + current) % m\n",
    "    return current\n",
    "\n",
    "def last_digit_square_fibo_sum(n):\n",
    "    if n <= 1:\n",
    "        return n\n",
    "\n",
    "    # Pisano period for modulo 10 is 60\n",
    "    pisano = pisano_period(10)\n",
    "\n",
    "    # Reduce n mod Pisano period\n",
    "    n %= pisano\n",
    "\n",
    "    # Calculate F(n) * F(n+1) % 10\n",
    "    fib_n = fib(n, 10)\n",
    "    fib_n_plus_1 = fib(n + 1, 10)\n",
    "    \n",
    "    return (fib_n * fib_n_plus_1) % 10\n"
   ]
  },
  {
   "cell_type": "code",
   "execution_count": 17,
   "id": "c4e85751",
   "metadata": {},
   "outputs": [
    {
     "data": {
      "text/plain": [
       "9"
      ]
     },
     "execution_count": 17,
     "metadata": {},
     "output_type": "execute_result"
    }
   ],
   "source": [
    "last_digit_square_fibo_sum(832564823476)"
   ]
  },
  {
   "cell_type": "markdown",
   "id": "ed1d846d",
   "metadata": {},
   "source": [
    "## Greatest Common Divisor\n",
    "\n",
    "Input format. Integers a and b (separated by a space).\\\n",
    "Output format. GCD(a,b)."
   ]
  },
  {
   "cell_type": "code",
   "execution_count": 53,
   "id": "17c29713",
   "metadata": {},
   "outputs": [],
   "source": [
    "def gcd(a, b):\n",
    "    \n",
    "    while b != 0 :\n",
    "        a, b = b, a%b\n",
    "        \n",
    "    return a"
   ]
  },
  {
   "cell_type": "code",
   "execution_count": 59,
   "id": "97d22bc6",
   "metadata": {},
   "outputs": [
    {
     "data": {
      "text/plain": [
       "17657"
      ]
     },
     "execution_count": 59,
     "metadata": {},
     "output_type": "execute_result"
    }
   ],
   "source": [
    "gcd(28851538, 1183019)"
   ]
  },
  {
   "cell_type": "markdown",
   "id": "fd54259f",
   "metadata": {},
   "source": [
    "## Least Common Multiple\n",
    "\n",
    "Compute the least common multiple of two positive integers.\\\n",
    "Input: Two positive integers a and b.\\\n",
    "Output: The least common multiple of a and b."
   ]
  },
  {
   "cell_type": "code",
   "execution_count": 67,
   "id": "b28b6538",
   "metadata": {},
   "outputs": [],
   "source": [
    "def lcm(a, b):\n",
    "    \n",
    "    gcd_ = gcd(a,b)\n",
    "    \n",
    "    return a//gcd_*b"
   ]
  },
  {
   "cell_type": "code",
   "execution_count": 68,
   "id": "4a77a080",
   "metadata": {},
   "outputs": [
    {
     "data": {
      "text/plain": [
       "467970912861"
      ]
     },
     "execution_count": 68,
     "metadata": {},
     "output_type": "execute_result"
    }
   ],
   "source": [
    "lcm(761457, 614573)"
   ]
  },
  {
   "cell_type": "code",
   "execution_count": null,
   "id": "357229a8",
   "metadata": {},
   "outputs": [],
   "source": []
  }
 ],
 "metadata": {
  "kernelspec": {
   "display_name": "Python 3 (ipykernel)",
   "language": "python",
   "name": "python3"
  },
  "language_info": {
   "codemirror_mode": {
    "name": "ipython",
    "version": 3
   },
   "file_extension": ".py",
   "mimetype": "text/x-python",
   "name": "python",
   "nbconvert_exporter": "python",
   "pygments_lexer": "ipython3",
   "version": "3.12.3"
  }
 },
 "nbformat": 4,
 "nbformat_minor": 5
}
